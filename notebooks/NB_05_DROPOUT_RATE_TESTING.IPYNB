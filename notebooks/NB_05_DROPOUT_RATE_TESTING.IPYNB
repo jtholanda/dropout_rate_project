{
 "cells": [
  {
   "cell_type": "markdown",
   "metadata": {
    "id": "KqNm0Q_ReRIW"
   },
   "source": [
    "# IMPORTAÇÃO DOS MÓDULOS E CONFIGURAÇÃO\n"
   ]
  },
  {
   "cell_type": "code",
   "execution_count": 1,
   "metadata": {
    "collapsed": true,
    "executionInfo": {
     "elapsed": 10047,
     "status": "ok",
     "timestamp": 1739973855270,
     "user": {
      "displayName": "José Thiago Holanda de Alcantara Cabral",
      "userId": "00082515726505027266"
     },
     "user_tz": 180
    },
    "id": "24Zy85jMy0Kt"
   },
   "outputs": [],
   "source": [
    "import numpy as np\n",
    "import pandas as pd\n",
    "# from google.colab import files\n",
    "from sklearn.model_selection import train_test_split\n",
    "from sklearn.model_selection import GridSearchCV\n",
    "from sklearn.linear_model import LogisticRegression\n",
    "from sklearn.tree import DecisionTreeClassifier, plot_tree\n",
    "from sklearn.ensemble import RandomForestClassifier\n",
    "from sklearn.svm import SVC\n",
    "from xgboost import XGBClassifier\n",
    "from sklearn.neighbors import KNeighborsClassifier\n",
    "from sklearn.preprocessing import StandardScaler, OneHotEncoder\n",
    "from sklearn.compose import ColumnTransformer\n",
    "from sklearn.metrics import classification_report\n",
    "from sklearn.model_selection import cross_val_score\n",
    "from sklearn.metrics import confusion_matrix\n",
    "from imblearn.pipeline import Pipeline\n",
    "import sys\n",
    "import os\n",
    "\n",
    "# Adiciona o diretório pai (onde está dropout_rate_project) ao sys.path\n",
    "sys.path.append(os.path.abspath(os.path.join(os.getcwd(), '..'))) # Isso permite que o notebook enxergue a pasta dropout_rate_project.\n",
    "\n",
    "from dropout_rate_project.py_files import data_prepared as dp\n",
    "from dropout_rate_project.py_files import adjusted_models_util as amu\n",
    "from dropout_rate_project.py_files import define_models_util as dmu\n"
   ]
  },
  {
   "cell_type": "code",
   "execution_count": 2,
   "metadata": {},
   "outputs": [],
   "source": [
    "def model_result_saved(auc, f1, recall, precision, accuracy,\n",
    "                             y_test, y_pred, model_test, data_filter, concat_inputs,\n",
    "                             reference_year, drop_year, features_train, target_train,\n",
    "                             features_test, target_test, best_model, best_threshold, best_threshold_tpr):\n",
    "    \n",
    "    # Definir nome do arquivo conforme especificado\n",
    "    file_name = f\"test_result_{model_test}_{reference_year}_{drop_year}_{data_filter}_{concat_inputs}.txt\"\n",
    "\n",
    "    with open(file_name, \"w\", encoding=\"utf-8\") as file:\n",
    "        # Gerando a matriz de confusão\n",
    "        matriz_confusao = confusion_matrix(y_test, y_pred)\n",
    "        file.write(\"Matriz de Confusão:\\n\")\n",
    "        file.write(str(matriz_confusao) + \"\\n\\n\")\n",
    "\n",
    "        # Informações gerais\n",
    "        file.write(f\"Modelo testado: {model_test}\\n\")\n",
    "        file.write(f\"Data filter aplicado: {data_filter}\\n\")\n",
    "        file.write(f\"Concatenação de inputs: {concat_inputs}\\n\")\n",
    "        file.write(f\"Ano de referência e anos removidos: {reference_year, drop_year}\\n\")\n",
    "        file.write(f\"Dimensões - features_train: {features_train.shape}\\n\")\n",
    "        file.write(f\"Dimensões - target_train: {target_train.shape}\\n\")\n",
    "        file.write(f\"Dimensões - features_test: {features_test.shape}\\n\")\n",
    "        file.write(f\"Dimensões - target_test: {target_test.shape}\\n\\n\")\n",
    "\n",
    "        # Parâmetros e thresholds\n",
    "        file.write(\"Parâmetros do melhor modelo:\\n\")\n",
    "        file.write(str(best_model.get_params()) + \"\\n\\n\")\n",
    "        file.write(f\"Melhor threshold: {best_threshold}\\n\")\n",
    "        file.write(f\"Melhor threshold TPR: {best_threshold_tpr}\\n\\n\")\n",
    "\n",
    "        # Métricas\n",
    "        file.write(f\"AUC: {auc:.4f}\\n\")\n",
    "        file.write(f\"F1: {f1:.4f}\\n\")\n",
    "        file.write(f\"Recall: {recall:.4f}\\n\")\n",
    "        file.write(f\"Precision: {precision:.4f}\\n\")\n",
    "        file.write(f\"Accuracy: {accuracy:.4f}\\n\")\n",
    "\n",
    "    print(f\"Relatório salvo em: {file_name}\")\n",
    "\n",
    "\n",
    "\n",
    "def prepared_data_test(dados, data_filter=False, concat_inputs=False):\n",
    "    # Carregar os dados\n",
    "    df = pd.read_csv(dados)\n",
    "\n",
    "    # Definir features padrão\n",
    "    categorical_features = ['RF-CAT', 'SEXO', 'TC', 'NC', 'TO', 'ME','TURNO']\n",
    "    numerical_features = ['IDA-MÉD']\n",
    "\n",
    "    # Aplicar filtro, se necessário\n",
    "    if data_filter:\n",
    "        df = dp.filter_dataframe_by_column(df, 'TO', 'SUB')\n",
    "        # print(\"DataFrame filtrado:\")\n",
    "        # print(df)\n",
    "\n",
    "    # Realizar concatenação de colunas, se necessário\n",
    "    if concat_inputs:\n",
    "        df[\"RFCAT_SEXO_TC_NC_TO_ME_TURNO\"] = df[[\"RF-CAT\",\"SEXO\",\"TC\", \"NC\", \"TO\", \"ME\", \"TURNO\"]].astype(str).agg(\"-\".join, axis=1)\n",
    "        df = df[[\"IDA-MÉD\",\"RFCAT_SEXO_TC_NC_TO_ME_TURNO\",\"ANO\",\"AE\"]]\n",
    "        categorical_features = [\"IDA-MÉD\", \"RFCAT_SEXO_TC_NC_TO_ME_TURNO\"]\n",
    "\n",
    "    return df\n",
    "\n",
    "\n",
    "def test_evaluated(df, reference_year, drop_year, random_state,\n",
    "                                 data_filter, concat_inputs,\n",
    "                                 base_model, model_test, optimal_threshold, best_threshold_tpr, show_dataset_information=False):\n",
    "\n",
    "  # Separação dos dados de treino e teste\n",
    "    df_train, df_test, features_train, target_train, features_test, target_test = dp.get_df_train_df_test(\n",
    "        df, reference_year, drop_year)\n",
    "\n",
    "    # Configuração do dicionário de modelo e thresholds\n",
    "    test_pipeline = {\n",
    "        'model': base_model,\n",
    "        'optimal_threshold': optimal_threshold,\n",
    "        'best_threshold_tpr': best_threshold_tpr\n",
    "    }\n",
    "\n",
    "    # Selecionando as configurações para o modelo final\n",
    "    best_model = test_pipeline['model']\n",
    "    best_threshold = test_pipeline['optimal_threshold']\n",
    "    best_threshold_tpr = test_pipeline['best_threshold_tpr']\n",
    "\n",
    "    # Configurando random_state se o modelo permitir\n",
    "    if model_test != \"KNN\":\n",
    "        best_model.random_state = random_state\n",
    "\n",
    "    # Criando o pipeline com o modelo e treinando\n",
    "    pipeline_best_model = amu.create_model_pipeline(best_model, features_train, target_train)\n",
    "\n",
    "    # Avaliando o modelo\n",
    "    auc, f1, recall, precision, accuracy, y_test, y_pred = amu.evaluate_model(\n",
    "        pipeline_best_model, features_test, target_test, best_threshold)\n",
    "\n",
    "    if show_dataset_information:\n",
    "        # Chamada da função com os DataFrames de treino e teste\n",
    "        dp.show_dataset_information(df_train, df_test)\n",
    "    \n",
    "    # Salvando os resultados\n",
    "    model_result_saved(auc, f1, recall, precision, accuracy,\n",
    "                       y_test, y_pred, model_test, data_filter, concat_inputs,\n",
    "                       reference_year, drop_year, features_train, target_train,\n",
    "                       features_test, target_test, best_model, best_threshold, best_threshold_tpr)\n"
   ]
  },
  {
   "cell_type": "code",
   "execution_count": 3,
   "metadata": {},
   "outputs": [
    {
     "name": "stdout",
     "output_type": "stream",
     "text": [
      "df_train shape: (497, 9)\n",
      "features_train shape: (497, 8)\n",
      "target_train shape: (497,)\n",
      "Relatório salvo em: test_result_Logistic_Regression_2018_[]_False_False.txt\n"
     ]
    },
    {
     "name": "stderr",
     "output_type": "stream",
     "text": [
      "d:\\Dropbox\\Documentos\\IFPB\\Pesquisa\\Taxa de Evasão\\Dropout Rate Project\\dropout_rate_project\\.venv\\Lib\\site-packages\\sklearn\\linear_model\\_sag.py:348: ConvergenceWarning: The max_iter was reached which means the coef_ did not converge\n",
      "  warnings.warn(\n"
     ]
    }
   ],
   "source": [
    "dados = '../data/selected_data.csv'\n",
    "reference_year = 2018\n",
    "drop_year=[]\n",
    "data_filter = False\n",
    "concat_inputs = False\n",
    "random_state = 0\n",
    "\n",
    "df = prepared_data_test(\n",
    "    dados, data_filter, concat_inputs\n",
    ")\n",
    "\n",
    "# label_pipeline = 'logreg'\n",
    "base_model = LogisticRegression(class_weight='balanced', random_state=random_state, fit_intercept=True, C=0.4, max_iter=300, penalty='l1', solver='saga')\n",
    "model_test = \"Logistic_Regression\"\n",
    "optimal_threshold = 0.6\n",
    "best_threshold_tpr = 0.5\n",
    "\n",
    "test_evaluated(df, reference_year, drop_year, random_state,\n",
    "                                 data_filter, concat_inputs,\n",
    "                                 base_model, model_test, optimal_threshold, best_threshold_tpr)"
   ]
  },
  {
   "cell_type": "code",
   "execution_count": 4,
   "metadata": {},
   "outputs": [
    {
     "name": "stdout",
     "output_type": "stream",
     "text": [
      "df_train shape: (289, 9)\n",
      "features_train shape: (289, 8)\n",
      "target_train shape: (289,)\n",
      "Relatório salvo em: test_result_Logistic_Regression_2018_[]_True_False.txt\n"
     ]
    }
   ],
   "source": [
    "dados = '../data/selected_data.csv'\n",
    "reference_year = 2018\n",
    "drop_year=[]\n",
    "data_filter = True\n",
    "concat_inputs = False\n",
    "random_state = 0\n",
    "\n",
    "df = prepared_data_test(\n",
    "    dados, data_filter, concat_inputs\n",
    ")\n",
    "\n",
    "# label_pipeline = 'logreg'\n",
    "base_model = LogisticRegression(class_weight='balanced', random_state=random_state, fit_intercept=True, C=0.7, max_iter=100, penalty='l1', solver='saga')\n",
    "model_test = \"Logistic_Regression\"\n",
    "optimal_threshold = 0.54\n",
    "best_threshold_tpr = 0.5\n",
    "\n",
    "test_evaluated(df, reference_year, drop_year, random_state,\n",
    "                                 data_filter, concat_inputs,\n",
    "                                 base_model, model_test, optimal_threshold, best_threshold_tpr)\n"
   ]
  },
  {
   "cell_type": "code",
   "execution_count": 5,
   "metadata": {},
   "outputs": [
    {
     "name": "stdout",
     "output_type": "stream",
     "text": [
      "df_train shape: (967, 9)\n",
      "features_train shape: (967, 8)\n",
      "target_train shape: (967,)\n",
      "Relatório salvo em: test_result_Logistic_Regression_2019_[]_False_False.txt\n"
     ]
    },
    {
     "name": "stderr",
     "output_type": "stream",
     "text": [
      "d:\\Dropbox\\Documentos\\IFPB\\Pesquisa\\Taxa de Evasão\\Dropout Rate Project\\dropout_rate_project\\.venv\\Lib\\site-packages\\sklearn\\linear_model\\_sag.py:348: ConvergenceWarning: The max_iter was reached which means the coef_ did not converge\n",
      "  warnings.warn(\n"
     ]
    }
   ],
   "source": [
    "dados = '../data/selected_data.csv'\n",
    "reference_year = 2019\n",
    "drop_year=[]\n",
    "data_filter = False\n",
    "concat_inputs = False\n",
    "random_state = 0\n",
    "\n",
    "df = prepared_data_test(\n",
    "    dados, data_filter, concat_inputs\n",
    ")\n",
    "\n",
    "# label_pipeline = 'logreg'\n",
    "base_model = LogisticRegression(class_weight='balanced', random_state=random_state, fit_intercept=True, C=0.1, max_iter=200, penalty='l1', solver='saga')\n",
    "model_test = \"Logistic_Regression\"\n",
    "optimal_threshold = 0.65\n",
    "best_threshold_tpr = 0.5\n",
    "\n",
    "test_evaluated(df, reference_year, drop_year, random_state,\n",
    "                                 data_filter, concat_inputs,\n",
    "                                 base_model, model_test, optimal_threshold, best_threshold_tpr)"
   ]
  },
  {
   "cell_type": "code",
   "execution_count": 6,
   "metadata": {},
   "outputs": [
    {
     "name": "stdout",
     "output_type": "stream",
     "text": [
      "df_train shape: (582, 9)\n",
      "features_train shape: (582, 8)\n",
      "target_train shape: (582,)\n",
      "Relatório salvo em: test_result_Logistic_Regression_2019_[]_True_False.txt\n"
     ]
    }
   ],
   "source": [
    "dados = '../data/selected_data.csv'\n",
    "reference_year = 2019\n",
    "drop_year=[]\n",
    "data_filter = True\n",
    "concat_inputs = False\n",
    "random_state = 0\n",
    "\n",
    "df = prepared_data_test(\n",
    "    dados, data_filter, concat_inputs\n",
    ")\n",
    "\n",
    "# label_pipeline = 'logreg'\n",
    "base_model = LogisticRegression(class_weight='balanced', random_state=random_state, fit_intercept=True, C=0.1, max_iter=100, penalty='l1', solver='saga')\n",
    "model_test = \"Logistic_Regression\"\n",
    "optimal_threshold = 0.58\n",
    "best_threshold_tpr = 0.5\n",
    "\n",
    "test_evaluated(df, reference_year, drop_year, random_state,\n",
    "                                 data_filter, concat_inputs,\n",
    "                                 base_model, model_test, optimal_threshold, best_threshold_tpr)"
   ]
  },
  {
   "cell_type": "code",
   "execution_count": 7,
   "metadata": {},
   "outputs": [
    {
     "name": "stdout",
     "output_type": "stream",
     "text": [
      "df_train shape: (1550, 9)\n",
      "features_train shape: (1550, 8)\n",
      "target_train shape: (1550,)\n",
      "Relatório salvo em: test_result_Logistic_Regression_2020_[]_False_False.txt\n"
     ]
    }
   ],
   "source": [
    "dados = '../data/selected_data.csv'\n",
    "reference_year = 2020\n",
    "drop_year=[]\n",
    "data_filter = False\n",
    "concat_inputs = False\n",
    "random_state = 0\n",
    "\n",
    "df = prepared_data_test(\n",
    "    dados, data_filter, concat_inputs\n",
    ")\n",
    "\n",
    "# label_pipeline = 'logreg'\n",
    "base_model = LogisticRegression(class_weight='balanced', random_state=random_state, fit_intercept=True, C=0.01, max_iter=100, penalty='elasticnet', solver='saga', l1_ratio=0.5)\n",
    "model_test = \"Logistic_Regression\"\n",
    "optimal_threshold = 0.5\n",
    "best_threshold_tpr = 0.5\n",
    "\n",
    "test_evaluated(df, reference_year, drop_year, random_state,\n",
    "                                 data_filter, concat_inputs,\n",
    "                                 base_model, model_test, optimal_threshold, best_threshold_tpr)"
   ]
  },
  {
   "cell_type": "code",
   "execution_count": 8,
   "metadata": {},
   "outputs": [
    {
     "name": "stdout",
     "output_type": "stream",
     "text": [
      "df_train shape: (902, 9)\n",
      "features_train shape: (902, 8)\n",
      "target_train shape: (902,)\n",
      "Relatório salvo em: test_result_Logistic_Regression_2020_[]_True_False.txt\n"
     ]
    }
   ],
   "source": [
    "dados = '../data/selected_data.csv'\n",
    "reference_year = 2020\n",
    "drop_year=[]\n",
    "data_filter = True\n",
    "concat_inputs = False\n",
    "random_state = 0\n",
    "\n",
    "df = prepared_data_test(\n",
    "    dados, data_filter, concat_inputs\n",
    ")\n",
    "\n",
    "# label_pipeline = 'logreg'\n",
    "base_model = LogisticRegression(class_weight='balanced', random_state=random_state, fit_intercept=True, C=0.1, max_iter=100, penalty='l1', solver='saga')\n",
    "model_test = \"Logistic_Regression\"\n",
    "optimal_threshold = 0.57\n",
    "best_threshold_tpr = 0.5\n",
    "\n",
    "test_evaluated(df, reference_year, drop_year, random_state,\n",
    "                                 data_filter, concat_inputs,\n",
    "                                 base_model, model_test, optimal_threshold, best_threshold_tpr)"
   ]
  },
  {
   "cell_type": "code",
   "execution_count": 9,
   "metadata": {},
   "outputs": [
    {
     "name": "stdout",
     "output_type": "stream",
     "text": [
      "df_train shape: (1550, 9)\n",
      "features_train shape: (1550, 8)\n",
      "target_train shape: (1550,)\n",
      "Relatório salvo em: test_result_Logistic_Regression_2021_[2020]_False_False.txt\n"
     ]
    }
   ],
   "source": [
    "dados = '../data/selected_data.csv'\n",
    "reference_year = 2021\n",
    "drop_year=[2020]\n",
    "data_filter = False\n",
    "concat_inputs = False\n",
    "random_state = 0\n",
    "\n",
    "df = prepared_data_test(\n",
    "    dados, data_filter, concat_inputs\n",
    ")\n",
    "\n",
    "# label_pipeline = 'logreg'\n",
    "base_model = LogisticRegression(class_weight='balanced', random_state=random_state, fit_intercept=True, C=0.01, max_iter=100, penalty='elasticnet', solver='saga', l1_ratio=0.5)\n",
    "model_test = \"Logistic_Regression\"\n",
    "optimal_threshold = 0.5\n",
    "best_threshold_tpr = 0.5\n",
    "\n",
    "test_evaluated(df, reference_year, drop_year, random_state,\n",
    "                                 data_filter, concat_inputs,\n",
    "                                 base_model, model_test, optimal_threshold, best_threshold_tpr)"
   ]
  },
  {
   "cell_type": "code",
   "execution_count": 10,
   "metadata": {},
   "outputs": [
    {
     "name": "stdout",
     "output_type": "stream",
     "text": [
      "df_train shape: (902, 9)\n",
      "features_train shape: (902, 8)\n",
      "target_train shape: (902,)\n",
      "Relatório salvo em: test_result_Logistic_Regression_2021_[2020]_True_False.txt\n"
     ]
    }
   ],
   "source": [
    "dados = '../data/selected_data.csv'\n",
    "reference_year = 2021\n",
    "drop_year=[2020]\n",
    "data_filter = True\n",
    "concat_inputs = False\n",
    "random_state = 0\n",
    "\n",
    "df = prepared_data_test(\n",
    "    dados, data_filter, concat_inputs\n",
    ")\n",
    "\n",
    "# label_pipeline = 'logreg'\n",
    "base_model = LogisticRegression(class_weight='balanced', random_state=random_state, fit_intercept=True, C=0.1, max_iter=100, penalty='l1', solver='saga')\n",
    "model_test = \"Logistic_Regression\"\n",
    "optimal_threshold = 0.57\n",
    "best_threshold_tpr = 0.5\n",
    "\n",
    "test_evaluated(df, reference_year, drop_year, random_state,\n",
    "                                 data_filter, concat_inputs,\n",
    "                                 base_model, model_test, optimal_threshold, best_threshold_tpr)"
   ]
  },
  {
   "cell_type": "code",
   "execution_count": 11,
   "metadata": {},
   "outputs": [
    {
     "name": "stdout",
     "output_type": "stream",
     "text": [
      "df_train shape: (2636, 9)\n",
      "features_train shape: (2636, 8)\n",
      "target_train shape: (2636,)\n",
      "Relatório salvo em: test_result_Logistic_Regression_2021_[]_False_False.txt\n"
     ]
    }
   ],
   "source": [
    "dados = '../data/selected_data.csv'\n",
    "reference_year = 2021\n",
    "drop_year=[]\n",
    "data_filter = False\n",
    "concat_inputs = False\n",
    "random_state = 0\n",
    "\n",
    "df = prepared_data_test(\n",
    "    dados, data_filter, concat_inputs\n",
    ")\n",
    "\n",
    "# label_pipeline = 'logreg'\n",
    "base_model = LogisticRegression(class_weight='balanced', random_state=random_state, fit_intercept=True, C=1, max_iter=100, penalty='l2', solver='liblinear')\n",
    "model_test = \"Logistic_Regression\"\n",
    "optimal_threshold = 0.5\n",
    "best_threshold_tpr = 0.5\n",
    "\n",
    "test_evaluated(df, reference_year, drop_year, random_state,\n",
    "                                 data_filter, concat_inputs,\n",
    "                                 base_model, model_test, optimal_threshold, best_threshold_tpr)"
   ]
  },
  {
   "cell_type": "code",
   "execution_count": 12,
   "metadata": {},
   "outputs": [
    {
     "name": "stdout",
     "output_type": "stream",
     "text": [
      "df_train shape: (1175, 9)\n",
      "features_train shape: (1175, 8)\n",
      "target_train shape: (1175,)\n",
      "Relatório salvo em: test_result_Logistic_Regression_2021_[]_True_False.txt\n"
     ]
    }
   ],
   "source": [
    "dados = '../data/selected_data.csv'\n",
    "reference_year = 2021\n",
    "drop_year=[]\n",
    "data_filter = True\n",
    "concat_inputs = False\n",
    "random_state = 0\n",
    "\n",
    "df = prepared_data_test(\n",
    "    dados, data_filter, concat_inputs\n",
    ")\n",
    "\n",
    "# label_pipeline = 'logreg'\n",
    "base_model = LogisticRegression(class_weight='balanced', random_state=random_state, fit_intercept=True, C=0.1, max_iter=100, penalty='l1', solver='saga')\n",
    "model_test = \"Logistic_Regression\"\n",
    "optimal_threshold = 0.5\n",
    "best_threshold_tpr = 0.5\n",
    "\n",
    "test_evaluated(df, reference_year, drop_year, random_state,\n",
    "                                 data_filter, concat_inputs,\n",
    "                                 base_model, model_test, optimal_threshold, best_threshold_tpr)"
   ]
  },
  {
   "cell_type": "code",
   "execution_count": 13,
   "metadata": {},
   "outputs": [
    {
     "name": "stdout",
     "output_type": "stream",
     "text": [
      "df_train shape: (2899, 9)\n",
      "features_train shape: (2899, 8)\n",
      "target_train shape: (2899,)\n",
      "Relatório salvo em: test_result_Logistic_Regression_2022_[2020]_False_False.txt\n"
     ]
    }
   ],
   "source": [
    "dados = '../data/selected_data.csv'\n",
    "reference_year = 2022\n",
    "drop_year=[2020]\n",
    "data_filter = False\n",
    "concat_inputs = False\n",
    "random_state = 0\n",
    "\n",
    "df = prepared_data_test(\n",
    "    dados, data_filter, concat_inputs\n",
    ")\n",
    "\n",
    "# label_pipeline = 'logreg'\n",
    "base_model = LogisticRegression(class_weight='balanced', random_state=random_state, fit_intercept=True, C=0.8, max_iter=100, penalty='l1', solver='saga')\n",
    "model_test = \"Logistic_Regression\"\n",
    "optimal_threshold = 0.7\n",
    "best_threshold_tpr = 0.5\n",
    "\n",
    "test_evaluated(df, reference_year, drop_year, random_state,\n",
    "                                 data_filter, concat_inputs,\n",
    "                                 base_model, model_test, optimal_threshold, best_threshold_tpr)"
   ]
  },
  {
   "cell_type": "code",
   "execution_count": 14,
   "metadata": {},
   "outputs": [
    {
     "name": "stdout",
     "output_type": "stream",
     "text": [
      "df_train shape: (1436, 9)\n",
      "features_train shape: (1436, 8)\n",
      "target_train shape: (1436,)\n",
      "Relatório salvo em: test_result_Logistic_Regression_2022_[2020]_True_False.txt\n"
     ]
    }
   ],
   "source": [
    "dados = '../data/selected_data.csv'\n",
    "reference_year = 2022\n",
    "drop_year=[2020]\n",
    "data_filter = True\n",
    "concat_inputs = False\n",
    "random_state = 0\n",
    "\n",
    "df = prepared_data_test(\n",
    "    dados, data_filter, concat_inputs\n",
    ")\n",
    "\n",
    "# label_pipeline = 'logreg'\n",
    "base_model = LogisticRegression(class_weight='balanced', random_state=random_state, fit_intercept=True, C=0.3, max_iter=100, penalty='l1', solver='saga')\n",
    "model_test = \"Logistic_Regression\"\n",
    "optimal_threshold = 0.71\n",
    "best_threshold_tpr = 0.5\n",
    "\n",
    "test_evaluated(df, reference_year, drop_year, random_state,\n",
    "                                 data_filter, concat_inputs,\n",
    "                                 base_model, model_test, optimal_threshold, best_threshold_tpr)"
   ]
  },
  {
   "cell_type": "code",
   "execution_count": 15,
   "metadata": {},
   "outputs": [
    {
     "name": "stdout",
     "output_type": "stream",
     "text": [
      "df_train shape: (3985, 9)\n",
      "features_train shape: (3985, 8)\n",
      "target_train shape: (3985,)\n",
      "Relatório salvo em: test_result_Logistic_Regression_2022_[]_False_False.txt\n"
     ]
    }
   ],
   "source": [
    "dados = '../data/selected_data.csv'\n",
    "reference_year = 2022\n",
    "drop_year=[]\n",
    "data_filter = False\n",
    "concat_inputs = False\n",
    "random_state = 0\n",
    "\n",
    "df = prepared_data_test(\n",
    "    dados, data_filter, concat_inputs\n",
    ")\n",
    "\n",
    "# label_pipeline = 'logreg'\n",
    "base_model = LogisticRegression(class_weight='balanced', random_state=random_state, fit_intercept=True, C=0.1, max_iter=100, penalty='l1', solver='saga')\n",
    "model_test = \"Logistic_Regression\"\n",
    "optimal_threshold = 0.50\n",
    "best_threshold_tpr = 0.5\n",
    "\n",
    "test_evaluated(df, reference_year, drop_year, random_state,\n",
    "                                 data_filter, concat_inputs,\n",
    "                                 base_model, model_test, optimal_threshold, best_threshold_tpr)"
   ]
  },
  {
   "cell_type": "code",
   "execution_count": 16,
   "metadata": {},
   "outputs": [
    {
     "name": "stdout",
     "output_type": "stream",
     "text": [
      "df_train shape: (1709, 9)\n",
      "features_train shape: (1709, 8)\n",
      "target_train shape: (1709,)\n",
      "Relatório salvo em: test_result_Logistic_Regression_2022_[]_True_False.txt\n"
     ]
    }
   ],
   "source": [
    "dados = '../data/selected_data.csv'\n",
    "reference_year = 2022\n",
    "drop_year=[]\n",
    "data_filter = True\n",
    "concat_inputs = False\n",
    "random_state = 0\n",
    "\n",
    "df = prepared_data_test(\n",
    "    dados, data_filter, concat_inputs\n",
    ")\n",
    "\n",
    "# label_pipeline = 'logreg'\n",
    "base_model = LogisticRegression(class_weight='balanced', random_state=random_state, fit_intercept=True, C=0.4, max_iter=100, penalty='elasticnet', solver='saga', l1_ratio=0.1)\n",
    "model_test = \"Logistic_Regression\"\n",
    "optimal_threshold = 0.71\n",
    "best_threshold_tpr = 0.5\n",
    "\n",
    "test_evaluated(df, reference_year, drop_year, random_state,\n",
    "                                 data_filter, concat_inputs,\n",
    "                                 base_model, model_test, optimal_threshold, best_threshold_tpr)"
   ]
  },
  {
   "cell_type": "code",
   "execution_count": 17,
   "metadata": {},
   "outputs": [
    {
     "name": "stdout",
     "output_type": "stream",
     "text": [
      "df_train shape: (3806, 9)\n",
      "features_train shape: (3806, 8)\n",
      "target_train shape: (3806,)\n",
      "Relatório salvo em: test_result_Logistic_Regression_2023_[2020]_False_False.txt\n"
     ]
    },
    {
     "name": "stderr",
     "output_type": "stream",
     "text": [
      "d:\\Dropbox\\Documentos\\IFPB\\Pesquisa\\Taxa de Evasão\\Dropout Rate Project\\dropout_rate_project\\.venv\\Lib\\site-packages\\sklearn\\linear_model\\_sag.py:348: ConvergenceWarning: The max_iter was reached which means the coef_ did not converge\n",
      "  warnings.warn(\n"
     ]
    }
   ],
   "source": [
    "dados = '../data/selected_data.csv'\n",
    "reference_year = 2023\n",
    "drop_year=[2020]\n",
    "data_filter = False\n",
    "concat_inputs = False\n",
    "random_state = 0\n",
    "\n",
    "df = prepared_data_test(\n",
    "    dados, data_filter, concat_inputs\n",
    ")\n",
    "\n",
    "# label_pipeline = 'logreg'\n",
    "base_model = LogisticRegression(class_weight='balanced', random_state=random_state, fit_intercept=True, C=0.4, max_iter=100, penalty='l2', solver='sag')\n",
    "model_test = \"Logistic_Regression\"\n",
    "optimal_threshold = 0.7\n",
    "best_threshold_tpr = 0.5\n",
    "\n",
    "test_evaluated(df, reference_year, drop_year, random_state,\n",
    "                                 data_filter, concat_inputs,\n",
    "                                 base_model, model_test, optimal_threshold, best_threshold_tpr)"
   ]
  },
  {
   "cell_type": "code",
   "execution_count": 18,
   "metadata": {},
   "outputs": [
    {
     "name": "stdout",
     "output_type": "stream",
     "text": [
      "df_train shape: (2039, 9)\n",
      "features_train shape: (2039, 8)\n",
      "target_train shape: (2039,)\n",
      "Relatório salvo em: test_result_Logistic_Regression_2023_[2020]_True_False.txt\n"
     ]
    }
   ],
   "source": [
    "dados = '../data/selected_data.csv'\n",
    "reference_year = 2023\n",
    "drop_year=[2020]\n",
    "data_filter = True\n",
    "concat_inputs = False\n",
    "random_state = 0\n",
    "\n",
    "df = prepared_data_test(\n",
    "    dados, data_filter, concat_inputs\n",
    ")\n",
    "\n",
    "# label_pipeline = 'logreg'\n",
    "base_model = LogisticRegression(class_weight='balanced', random_state=random_state, fit_intercept=True, C=0.5, max_iter=100, penalty='l1', solver='saga')\n",
    "model_test = \"Logistic_Regression\"\n",
    "optimal_threshold = 0.61\n",
    "best_threshold_tpr = 0.5\n",
    "\n",
    "test_evaluated(df, reference_year, drop_year, random_state,\n",
    "                                 data_filter, concat_inputs,\n",
    "                                 base_model, model_test, optimal_threshold, best_threshold_tpr)"
   ]
  },
  {
   "cell_type": "code",
   "execution_count": 19,
   "metadata": {},
   "outputs": [
    {
     "name": "stdout",
     "output_type": "stream",
     "text": [
      "df_train shape: (4892, 9)\n",
      "features_train shape: (4892, 8)\n",
      "target_train shape: (4892,)\n",
      "Relatório salvo em: test_result_Logistic_Regression_2023_[]_False_False.txt\n"
     ]
    }
   ],
   "source": [
    "dados = '../data/selected_data.csv'\n",
    "reference_year = 2023\n",
    "drop_year=[]\n",
    "data_filter = False\n",
    "concat_inputs = False\n",
    "random_state = 0\n",
    "\n",
    "df = prepared_data_test(\n",
    "    dados, data_filter, concat_inputs\n",
    ")\n",
    "\n",
    "# label_pipeline = 'logreg'\n",
    "base_model = LogisticRegression(class_weight='balanced', random_state=random_state, fit_intercept=True, C=0.4, max_iter=100, penalty='l1', solver='saga')\n",
    "model_test = \"Logistic_Regression\"\n",
    "optimal_threshold = 0.5\n",
    "best_threshold_tpr = 0.5\n",
    "\n",
    "test_evaluated(df, reference_year, drop_year, random_state,\n",
    "                                 data_filter, concat_inputs,\n",
    "                                 base_model, model_test, optimal_threshold, best_threshold_tpr)"
   ]
  },
  {
   "cell_type": "code",
   "execution_count": 20,
   "metadata": {},
   "outputs": [
    {
     "name": "stdout",
     "output_type": "stream",
     "text": [
      "df_train shape: (2312, 9)\n",
      "features_train shape: (2312, 8)\n",
      "target_train shape: (2312,)\n",
      "Relatório salvo em: test_result_Logistic_Regression_2023_[]_True_False.txt\n"
     ]
    }
   ],
   "source": [
    "dados = '../data/selected_data.csv'\n",
    "reference_year = 2023\n",
    "drop_year=[]\n",
    "data_filter = True\n",
    "concat_inputs = False\n",
    "random_state = 0\n",
    "\n",
    "df = prepared_data_test(\n",
    "    dados, data_filter, concat_inputs\n",
    ")\n",
    "\n",
    "# label_pipeline = 'logreg'\n",
    "base_model = LogisticRegression(class_weight='balanced', random_state=random_state, fit_intercept=True, C=0.05, max_iter=100, penalty='l1', solver='saga')\n",
    "model_test = \"Logistic_Regression\"\n",
    "optimal_threshold = 0.57\n",
    "best_threshold_tpr = 0.5\n",
    "\n",
    "test_evaluated(df, reference_year, drop_year, random_state,\n",
    "                                 data_filter, concat_inputs,\n",
    "                                 base_model, model_test, optimal_threshold, best_threshold_tpr)"
   ]
  },
  {
   "cell_type": "code",
   "execution_count": 21,
   "metadata": {},
   "outputs": [
    {
     "name": "stdout",
     "output_type": "stream",
     "text": [
      "df_train shape: (497, 9)\n",
      "features_train shape: (497, 8)\n",
      "target_train shape: (497,)\n",
      "Relatório salvo em: test_result_Decision_Tree_2018_[]_False_False.txt\n"
     ]
    }
   ],
   "source": [
    "dados = '../data/selected_data.csv'\n",
    "reference_year = 2018\n",
    "drop_year=[]\n",
    "data_filter = False\n",
    "concat_inputs = False\n",
    "random_state = 0\n",
    "\n",
    "df = prepared_data_test(\n",
    "    dados, data_filter, concat_inputs\n",
    ")\n",
    "\n",
    "# label_pipeline = 'logreg'\n",
    "base_model = DecisionTreeClassifier(class_weight='balanced', random_state=random_state, criterion='entropy', max_depth=10, max_features='log2', \n",
    "                                    min_samples_leaf= 3, min_samples_split=10)\n",
    "model_test = \"Decision_Tree\"\n",
    "optimal_threshold = 0.48\n",
    "best_threshold_tpr = 0.5\n",
    "\n",
    "test_evaluated(df, reference_year, drop_year, random_state,\n",
    "                                 data_filter, concat_inputs,\n",
    "                                 base_model, model_test, optimal_threshold, best_threshold_tpr)"
   ]
  },
  {
   "cell_type": "code",
   "execution_count": 22,
   "metadata": {},
   "outputs": [
    {
     "name": "stdout",
     "output_type": "stream",
     "text": [
      "df_train shape: (289, 9)\n",
      "features_train shape: (289, 8)\n",
      "target_train shape: (289,)\n",
      "Relatório salvo em: test_result_Decision_Tree_2018_[]_True_False.txt\n"
     ]
    }
   ],
   "source": [
    "dados = '../data/selected_data.csv'\n",
    "reference_year = 2018\n",
    "drop_year=[]\n",
    "data_filter = True\n",
    "concat_inputs = False\n",
    "random_state = 0\n",
    "\n",
    "df = prepared_data_test(\n",
    "    dados, data_filter, concat_inputs\n",
    ")\n",
    "\n",
    "# label_pipeline = 'logreg'\n",
    "base_model = DecisionTreeClassifier(class_weight='balanced', random_state=random_state, criterion='gini', max_depth=3, max_features=None, \n",
    "                                    min_samples_leaf= 5, min_samples_split=2)\n",
    "model_test = \"Decision_Tree\"\n",
    "optimal_threshold = 0.6\n",
    "best_threshold_tpr = 0.5\n",
    "\n",
    "test_evaluated(df, reference_year, drop_year, random_state,\n",
    "                                 data_filter, concat_inputs,\n",
    "                                 base_model, model_test, optimal_threshold, best_threshold_tpr)"
   ]
  },
  {
   "cell_type": "code",
   "execution_count": 23,
   "metadata": {},
   "outputs": [
    {
     "name": "stdout",
     "output_type": "stream",
     "text": [
      "df_train shape: (967, 9)\n",
      "features_train shape: (967, 8)\n",
      "target_train shape: (967,)\n",
      "Relatório salvo em: test_result_Decision_Tree_2019_[]_False_False.txt\n"
     ]
    }
   ],
   "source": [
    "dados = '../data/selected_data.csv'\n",
    "reference_year = 2019\n",
    "drop_year=[]\n",
    "data_filter = False\n",
    "concat_inputs = False\n",
    "random_state = 0\n",
    "\n",
    "df = prepared_data_test(\n",
    "    dados, data_filter, concat_inputs\n",
    ")\n",
    "\n",
    "# label_pipeline = 'logreg'\n",
    "base_model = DecisionTreeClassifier(class_weight='balanced', random_state=random_state, criterion='entropy', max_depth=10, max_features='sqrt', \n",
    "                                    min_samples_leaf= 4, min_samples_split=2)\n",
    "model_test = \"Decision_Tree\"\n",
    "optimal_threshold = 0.85\n",
    "best_threshold_tpr = 0.5\n",
    "\n",
    "test_evaluated(df, reference_year, drop_year, random_state,\n",
    "                                 data_filter, concat_inputs,\n",
    "                                 base_model, model_test, optimal_threshold, best_threshold_tpr)"
   ]
  },
  {
   "cell_type": "code",
   "execution_count": 24,
   "metadata": {},
   "outputs": [
    {
     "name": "stdout",
     "output_type": "stream",
     "text": [
      "df_train shape: (582, 9)\n",
      "features_train shape: (582, 8)\n",
      "target_train shape: (582,)\n",
      "Relatório salvo em: test_result_Decision_Tree_2019_[]_True_False.txt\n"
     ]
    }
   ],
   "source": [
    "dados = '../data/selected_data.csv'\n",
    "reference_year = 2019\n",
    "drop_year=[]\n",
    "data_filter = True\n",
    "concat_inputs = False\n",
    "random_state = 0\n",
    "\n",
    "df = prepared_data_test(\n",
    "    dados, data_filter, concat_inputs\n",
    ")\n",
    "\n",
    "# label_pipeline = 'logreg'\n",
    "base_model = DecisionTreeClassifier(class_weight='balanced', random_state=random_state, criterion='entropy', max_depth=5, max_features=None, \n",
    "                                    min_samples_leaf= 4, min_samples_split=3)\n",
    "model_test = \"Decision_Tree\"\n",
    "optimal_threshold = 0.58\n",
    "best_threshold_tpr = 0.5\n",
    "\n",
    "test_evaluated(df, reference_year, drop_year, random_state,\n",
    "                                 data_filter, concat_inputs,\n",
    "                                 base_model, model_test, optimal_threshold, best_threshold_tpr)"
   ]
  },
  {
   "cell_type": "code",
   "execution_count": 25,
   "metadata": {},
   "outputs": [
    {
     "name": "stdout",
     "output_type": "stream",
     "text": [
      "df_train shape: (1550, 9)\n",
      "features_train shape: (1550, 8)\n",
      "target_train shape: (1550,)\n",
      "Relatório salvo em: test_result_Decision_Tree_2020_[]_False_False.txt\n"
     ]
    }
   ],
   "source": [
    "dados = '../data/selected_data.csv'\n",
    "reference_year = 2020\n",
    "drop_year=[]\n",
    "data_filter = False\n",
    "concat_inputs = False\n",
    "random_state = 0\n",
    "\n",
    "df = prepared_data_test(\n",
    "    dados, data_filter, concat_inputs\n",
    ")\n",
    "\n",
    "# label_pipeline = 'logreg'\n",
    "base_model = DecisionTreeClassifier(class_weight='balanced', random_state=random_state, criterion='entropy', max_depth=5, max_features=None, \n",
    "                                    min_samples_leaf= 4, min_samples_split=2)\n",
    "model_test = \"Decision_Tree\"\n",
    "optimal_threshold = 0.5\n",
    "best_threshold_tpr = 0.5\n",
    "\n",
    "test_evaluated(df, reference_year, drop_year, random_state,\n",
    "                                 data_filter, concat_inputs,\n",
    "                                 base_model, model_test, optimal_threshold, best_threshold_tpr)"
   ]
  },
  {
   "cell_type": "code",
   "execution_count": 26,
   "metadata": {},
   "outputs": [
    {
     "name": "stdout",
     "output_type": "stream",
     "text": [
      "df_train shape: (902, 9)\n",
      "features_train shape: (902, 8)\n",
      "target_train shape: (902,)\n",
      "Relatório salvo em: test_result_Decision_Tree_2020_[]_True_False.txt\n"
     ]
    }
   ],
   "source": [
    "dados = '../data/selected_data.csv'\n",
    "reference_year = 2020\n",
    "drop_year=[]\n",
    "data_filter = True\n",
    "concat_inputs = False\n",
    "random_state = 0\n",
    "\n",
    "df = prepared_data_test(\n",
    "    dados, data_filter, concat_inputs\n",
    ")\n",
    "\n",
    "# label_pipeline = 'logreg'\n",
    "base_model = DecisionTreeClassifier(class_weight='balanced', random_state=random_state, criterion='entropy', max_depth=3, max_features='sqrt', \n",
    "                                    min_samples_leaf= 1, min_samples_split=2)\n",
    "model_test = \"Decision_Tree\"\n",
    "optimal_threshold = 0.68\n",
    "best_threshold_tpr = 0.5\n",
    "\n",
    "test_evaluated(df, reference_year, drop_year, random_state,\n",
    "                                 data_filter, concat_inputs,\n",
    "                                 base_model, model_test, optimal_threshold, best_threshold_tpr)"
   ]
  },
  {
   "cell_type": "code",
   "execution_count": 27,
   "metadata": {},
   "outputs": [
    {
     "name": "stdout",
     "output_type": "stream",
     "text": [
      "df_train shape: (1550, 9)\n",
      "features_train shape: (1550, 8)\n",
      "target_train shape: (1550,)\n",
      "Relatório salvo em: test_result_Decision_Tree_2021_[2020]_False_False.txt\n"
     ]
    }
   ],
   "source": [
    "dados = '../data/selected_data.csv'\n",
    "reference_year = 2021\n",
    "drop_year=[2020]\n",
    "data_filter = False\n",
    "concat_inputs = False\n",
    "random_state = 0\n",
    "\n",
    "df = prepared_data_test(\n",
    "    dados, data_filter, concat_inputs\n",
    ")\n",
    "\n",
    "# label_pipeline = 'logreg'\n",
    "base_model = DecisionTreeClassifier(class_weight='balanced', random_state=random_state, criterion='entropy', max_depth=5, max_features=None, \n",
    "                                    min_samples_leaf= 4, min_samples_split=3)\n",
    "model_test = \"Decision_Tree\"\n",
    "optimal_threshold = 0.5\n",
    "best_threshold_tpr = 0.5\n",
    "\n",
    "test_evaluated(df, reference_year, drop_year, random_state,\n",
    "                                 data_filter, concat_inputs,\n",
    "                                 base_model, model_test, optimal_threshold, best_threshold_tpr)"
   ]
  },
  {
   "cell_type": "code",
   "execution_count": 28,
   "metadata": {},
   "outputs": [
    {
     "name": "stdout",
     "output_type": "stream",
     "text": [
      "df_train shape: (902, 9)\n",
      "features_train shape: (902, 8)\n",
      "target_train shape: (902,)\n",
      "Relatório salvo em: test_result_Decision_Tree_2021_[2020]_True_False.txt\n"
     ]
    }
   ],
   "source": [
    "dados = '../data/selected_data.csv'\n",
    "reference_year = 2021\n",
    "drop_year=[2020]\n",
    "data_filter = True\n",
    "concat_inputs = False\n",
    "random_state = 0\n",
    "\n",
    "df = prepared_data_test(\n",
    "    dados, data_filter, concat_inputs\n",
    ")\n",
    "\n",
    "# label_pipeline = 'logreg'\n",
    "base_model = DecisionTreeClassifier(class_weight='balanced', random_state=random_state, criterion='entropy', max_depth=3, max_features='sqrt', \n",
    "                                    min_samples_leaf= 1, min_samples_split=2)\n",
    "model_test = \"Decision_Tree\"\n",
    "optimal_threshold = 0.68\n",
    "best_threshold_tpr = 0.5\n",
    "\n",
    "test_evaluated(df, reference_year, drop_year, random_state,\n",
    "                                 data_filter, concat_inputs,\n",
    "                                 base_model, model_test, optimal_threshold, best_threshold_tpr)"
   ]
  },
  {
   "cell_type": "code",
   "execution_count": 29,
   "metadata": {},
   "outputs": [
    {
     "name": "stdout",
     "output_type": "stream",
     "text": [
      "df_train shape: (2636, 9)\n",
      "features_train shape: (2636, 8)\n",
      "target_train shape: (2636,)\n",
      "Relatório salvo em: test_result_Decision_Tree_2021_[]_False_False.txt\n"
     ]
    }
   ],
   "source": [
    "dados = '../data/selected_data.csv'\n",
    "reference_year = 2021\n",
    "drop_year=[]\n",
    "data_filter = False\n",
    "concat_inputs = False\n",
    "random_state = 0\n",
    "\n",
    "df = prepared_data_test(\n",
    "    dados, data_filter, concat_inputs\n",
    ")\n",
    "\n",
    "# label_pipeline = 'logreg'\n",
    "base_model = DecisionTreeClassifier(class_weight='balanced', random_state=random_state, criterion='entropy', max_depth=10, max_features='log2', \n",
    "                                    min_samples_leaf= 4, min_samples_split=10)\n",
    "model_test = \"Decision_Tree\"\n",
    "optimal_threshold = 0.5\n",
    "best_threshold_tpr = 0.5\n",
    "\n",
    "test_evaluated(df, reference_year, drop_year, random_state,\n",
    "                                 data_filter, concat_inputs,\n",
    "                                 base_model, model_test, optimal_threshold, best_threshold_tpr)"
   ]
  },
  {
   "cell_type": "code",
   "execution_count": 30,
   "metadata": {},
   "outputs": [
    {
     "name": "stdout",
     "output_type": "stream",
     "text": [
      "df_train shape: (1175, 9)\n",
      "features_train shape: (1175, 8)\n",
      "target_train shape: (1175,)\n",
      "Relatório salvo em: test_result_Decision_Tree_2021_[]_True_False.txt\n"
     ]
    }
   ],
   "source": [
    "dados = '../data/selected_data.csv'\n",
    "reference_year = 2021\n",
    "drop_year=[]\n",
    "data_filter = True\n",
    "concat_inputs = False\n",
    "random_state = 0\n",
    "\n",
    "df = prepared_data_test(\n",
    "    dados, data_filter, concat_inputs\n",
    ")\n",
    "\n",
    "# label_pipeline = 'logreg'\n",
    "base_model = DecisionTreeClassifier(class_weight='balanced', random_state=random_state, criterion='gini', max_depth=3, max_features='sqrt', \n",
    "                                    min_samples_leaf= 1, min_samples_split=2)\n",
    "model_test = \"Decision_Tree\"\n",
    "optimal_threshold = 0.5\n",
    "best_threshold_tpr = 0.5\n",
    "\n",
    "test_evaluated(df, reference_year, drop_year, random_state,\n",
    "                                 data_filter, concat_inputs,\n",
    "                                 base_model, model_test, optimal_threshold, best_threshold_tpr)"
   ]
  },
  {
   "cell_type": "code",
   "execution_count": 31,
   "metadata": {},
   "outputs": [
    {
     "name": "stdout",
     "output_type": "stream",
     "text": [
      "df_train shape: (2899, 9)\n",
      "features_train shape: (2899, 8)\n",
      "target_train shape: (2899,)\n",
      "Relatório salvo em: test_result_Decision_Tree_2022_[2020]_False_False.txt\n"
     ]
    }
   ],
   "source": [
    "dados = '../data/selected_data.csv'\n",
    "reference_year = 2022\n",
    "drop_year=[2020]\n",
    "data_filter = False\n",
    "concat_inputs = False\n",
    "random_state = 0\n",
    "\n",
    "df = prepared_data_test(\n",
    "    dados, data_filter, concat_inputs\n",
    ")\n",
    "\n",
    "# label_pipeline = 'logreg'\n",
    "base_model = DecisionTreeClassifier(class_weight='balanced', random_state=random_state, criterion='gini', max_depth=5, max_features=None, \n",
    "                                    min_samples_leaf= 4, min_samples_split=2)\n",
    "model_test = \"Decision_Tree\"\n",
    "optimal_threshold = 0.54\n",
    "best_threshold_tpr = 0.5\n",
    "\n",
    "test_evaluated(df, reference_year, drop_year, random_state,\n",
    "                                 data_filter, concat_inputs,\n",
    "                                 base_model, model_test, optimal_threshold, best_threshold_tpr)"
   ]
  },
  {
   "cell_type": "code",
   "execution_count": 32,
   "metadata": {},
   "outputs": [
    {
     "name": "stdout",
     "output_type": "stream",
     "text": [
      "df_train shape: (1436, 9)\n",
      "features_train shape: (1436, 8)\n",
      "target_train shape: (1436,)\n",
      "Relatório salvo em: test_result_Decision_Tree_2022_[2020]_True_False.txt\n"
     ]
    }
   ],
   "source": [
    "dados = '../data/selected_data.csv'\n",
    "reference_year = 2022\n",
    "drop_year=[2020]\n",
    "data_filter = True\n",
    "concat_inputs = False\n",
    "random_state = 0\n",
    "\n",
    "df = prepared_data_test(\n",
    "    dados, data_filter, concat_inputs\n",
    ")\n",
    "\n",
    "# label_pipeline = 'logreg'\n",
    "base_model = DecisionTreeClassifier(class_weight='balanced', random_state=random_state, criterion='gini', max_depth=3, max_features=None, \n",
    "                                    min_samples_leaf= 1, min_samples_split=2)\n",
    "model_test = \"Decision_Tree\"\n",
    "optimal_threshold = 0.5\n",
    "best_threshold_tpr = 0.5\n",
    "\n",
    "test_evaluated(df, reference_year, drop_year, random_state,\n",
    "                                 data_filter, concat_inputs,\n",
    "                                 base_model, model_test, optimal_threshold, best_threshold_tpr)"
   ]
  },
  {
   "cell_type": "code",
   "execution_count": 33,
   "metadata": {},
   "outputs": [
    {
     "name": "stdout",
     "output_type": "stream",
     "text": [
      "df_train shape: (3985, 9)\n",
      "features_train shape: (3985, 8)\n",
      "target_train shape: (3985,)\n",
      "Relatório salvo em: test_result_Decision_Tree_2022_[]_False_False.txt\n"
     ]
    }
   ],
   "source": [
    "dados = '../data/selected_data.csv'\n",
    "reference_year = 2022\n",
    "drop_year=[]\n",
    "data_filter = False\n",
    "concat_inputs = False\n",
    "random_state = 0\n",
    "\n",
    "df = prepared_data_test(\n",
    "    dados, data_filter, concat_inputs\n",
    ")\n",
    "\n",
    "# label_pipeline = 'logreg'\n",
    "base_model = DecisionTreeClassifier(class_weight='balanced', random_state=random_state, criterion='gini', max_depth=3, max_features=None, \n",
    "                                    min_samples_leaf= 3, min_samples_split=2)\n",
    "model_test = \"Decision_Tree\"\n",
    "optimal_threshold = 0.5\n",
    "best_threshold_tpr = 0.5\n",
    "\n",
    "test_evaluated(df, reference_year, drop_year, random_state,\n",
    "                                 data_filter, concat_inputs,\n",
    "                                 base_model, model_test, optimal_threshold, best_threshold_tpr)"
   ]
  },
  {
   "cell_type": "code",
   "execution_count": 34,
   "metadata": {},
   "outputs": [
    {
     "name": "stdout",
     "output_type": "stream",
     "text": [
      "df_train shape: (1709, 9)\n",
      "features_train shape: (1709, 8)\n",
      "target_train shape: (1709,)\n",
      "Relatório salvo em: test_result_Decision_Tree_2022_[]_True_False.txt\n"
     ]
    }
   ],
   "source": [
    "dados = '../data/selected_data.csv'\n",
    "reference_year = 2022\n",
    "drop_year=[]\n",
    "data_filter = True\n",
    "concat_inputs = False\n",
    "random_state = 0\n",
    "\n",
    "df = prepared_data_test(\n",
    "    dados, data_filter, concat_inputs\n",
    ")\n",
    "\n",
    "# label_pipeline = 'logreg'\n",
    "base_model = DecisionTreeClassifier(class_weight='balanced', random_state=random_state, criterion='entropy', max_depth=3, max_features=None, \n",
    "                                    min_samples_leaf= 1, min_samples_split=2)\n",
    "model_test = \"Decision_Tree\"\n",
    "optimal_threshold = 0.5\n",
    "best_threshold_tpr = 0.5\n",
    "\n",
    "test_evaluated(df, reference_year, drop_year, random_state,\n",
    "                                 data_filter, concat_inputs,\n",
    "                                 base_model, model_test, optimal_threshold, best_threshold_tpr)"
   ]
  },
  {
   "cell_type": "code",
   "execution_count": 35,
   "metadata": {},
   "outputs": [
    {
     "name": "stdout",
     "output_type": "stream",
     "text": [
      "df_train shape: (3806, 9)\n",
      "features_train shape: (3806, 8)\n",
      "target_train shape: (3806,)\n",
      "Relatório salvo em: test_result_Decision_Tree_2023_[2020]_False_False.txt\n"
     ]
    }
   ],
   "source": [
    "dados = '../data/selected_data.csv'\n",
    "reference_year = 2023\n",
    "drop_year=[2020]\n",
    "data_filter = False\n",
    "concat_inputs = False\n",
    "random_state = 0\n",
    "\n",
    "df = prepared_data_test(\n",
    "    dados, data_filter, concat_inputs\n",
    ")\n",
    "\n",
    "# label_pipeline = 'logreg'\n",
    "base_model = DecisionTreeClassifier(class_weight='balanced', random_state=random_state, criterion='gini', max_depth=10, max_features='log2', \n",
    "                                    min_samples_leaf= 3, min_samples_split=10)\n",
    "model_test = \"Decision_Tree\"\n",
    "optimal_threshold = 0.59\n",
    "best_threshold_tpr = 0.5\n",
    "\n",
    "test_evaluated(df, reference_year, drop_year, random_state,\n",
    "                                 data_filter, concat_inputs,\n",
    "                                 base_model, model_test, optimal_threshold, best_threshold_tpr)"
   ]
  },
  {
   "cell_type": "code",
   "execution_count": 36,
   "metadata": {},
   "outputs": [
    {
     "name": "stdout",
     "output_type": "stream",
     "text": [
      "df_train shape: (2039, 9)\n",
      "features_train shape: (2039, 8)\n",
      "target_train shape: (2039,)\n",
      "Relatório salvo em: test_result_Decision_Tree_2023_[2020]_True_False.txt\n"
     ]
    }
   ],
   "source": [
    "dados = '../data/selected_data.csv'\n",
    "reference_year = 2023\n",
    "drop_year=[2020]\n",
    "data_filter = True\n",
    "concat_inputs = False\n",
    "random_state = 0\n",
    "\n",
    "df = prepared_data_test(\n",
    "    dados, data_filter, concat_inputs\n",
    ")\n",
    "\n",
    "# label_pipeline = 'logreg'\n",
    "base_model = DecisionTreeClassifier(class_weight='balanced', random_state=random_state, criterion='entropy', max_depth=5, max_features=None, \n",
    "                                    min_samples_leaf= 5, min_samples_split=2)\n",
    "model_test = \"Decision_Tree\"\n",
    "optimal_threshold = 0.58\n",
    "best_threshold_tpr = 0.5\n",
    "\n",
    "test_evaluated(df, reference_year, drop_year, random_state,\n",
    "                                 data_filter, concat_inputs,\n",
    "                                 base_model, model_test, optimal_threshold, best_threshold_tpr)"
   ]
  },
  {
   "cell_type": "code",
   "execution_count": 37,
   "metadata": {},
   "outputs": [
    {
     "name": "stdout",
     "output_type": "stream",
     "text": [
      "df_train shape: (4892, 9)\n",
      "features_train shape: (4892, 8)\n",
      "target_train shape: (4892,)\n",
      "Relatório salvo em: test_result_Decision_Tree_2023_[]_False_False.txt\n"
     ]
    }
   ],
   "source": [
    "dados = '../data/selected_data.csv'\n",
    "reference_year = 2023\n",
    "drop_year=[]\n",
    "data_filter = False\n",
    "concat_inputs = False\n",
    "random_state = 0\n",
    "\n",
    "df = prepared_data_test(\n",
    "    dados, data_filter, concat_inputs\n",
    ")\n",
    "\n",
    "# label_pipeline = 'logreg'\n",
    "base_model = DecisionTreeClassifier(class_weight='balanced', random_state=random_state, criterion='gini', max_depth=5, max_features=None, \n",
    "                                    min_samples_leaf= 5, min_samples_split=2)\n",
    "model_test = \"Decision_Tree\"\n",
    "optimal_threshold = 0.5\n",
    "best_threshold_tpr = 0.5\n",
    "\n",
    "test_evaluated(df, reference_year, drop_year, random_state,\n",
    "                                 data_filter, concat_inputs,\n",
    "                                 base_model, model_test, optimal_threshold, best_threshold_tpr)"
   ]
  },
  {
   "cell_type": "code",
   "execution_count": 38,
   "metadata": {},
   "outputs": [
    {
     "name": "stdout",
     "output_type": "stream",
     "text": [
      "df_train shape: (2312, 9)\n",
      "features_train shape: (2312, 8)\n",
      "target_train shape: (2312,)\n",
      "Relatório salvo em: test_result_Decision_Tree_2023_[]_True_False.txt\n"
     ]
    }
   ],
   "source": [
    "dados = '../data/selected_data.csv'\n",
    "reference_year = 2023\n",
    "drop_year=[]\n",
    "data_filter = True\n",
    "concat_inputs = False\n",
    "random_state = 0\n",
    "\n",
    "df = prepared_data_test(\n",
    "    dados, data_filter, concat_inputs\n",
    ")\n",
    "\n",
    "# label_pipeline = 'logreg'\n",
    "base_model = DecisionTreeClassifier(class_weight='balanced', random_state=random_state, criterion='entropy', max_depth=5, max_features=None, \n",
    "                                    min_samples_leaf= 4, min_samples_split=10)\n",
    "model_test = \"Decision_Tree\"\n",
    "optimal_threshold = 0.72\n",
    "best_threshold_tpr = 0.5\n",
    "\n",
    "test_evaluated(df, reference_year, drop_year, random_state,\n",
    "                                 data_filter, concat_inputs,\n",
    "                                 base_model, model_test, optimal_threshold, best_threshold_tpr)"
   ]
  },
  {
   "cell_type": "code",
   "execution_count": 39,
   "metadata": {},
   "outputs": [
    {
     "name": "stdout",
     "output_type": "stream",
     "text": [
      "df_train shape: (497, 9)\n",
      "features_train shape: (497, 8)\n",
      "target_train shape: (497,)\n",
      "Relatório salvo em: test_result_Random_Forest_2018_[]_False_False.txt\n"
     ]
    }
   ],
   "source": [
    "dados = '../data/selected_data.csv'\n",
    "reference_year = 2018\n",
    "drop_year=[]\n",
    "data_filter = False\n",
    "concat_inputs = False\n",
    "random_state = 0\n",
    "\n",
    "df = prepared_data_test(\n",
    "    dados, data_filter, concat_inputs\n",
    ")\n",
    "\n",
    "# label_pipeline = 'logreg'\n",
    "base_model = RandomForestClassifier(\n",
    "            bootstrap = True,\n",
    "            n_estimators = 300,\n",
    "            criterion = 'gini',\n",
    "            max_depth = 3,\n",
    "            max_features = None,\n",
    "            min_samples_leaf = 1,\n",
    "            min_samples_split = 2,\n",
    "            class_weight='balanced',\n",
    "            random_state= random_state)\n",
    "model_test = \"Random_Forest\"\n",
    "optimal_threshold = 0.53\n",
    "best_threshold_tpr = 0.5\n",
    "\n",
    "test_evaluated(df, reference_year, drop_year, random_state,\n",
    "                                 data_filter, concat_inputs,\n",
    "                                 base_model, model_test, optimal_threshold, best_threshold_tpr)"
   ]
  },
  {
   "cell_type": "code",
   "execution_count": 40,
   "metadata": {},
   "outputs": [
    {
     "name": "stdout",
     "output_type": "stream",
     "text": [
      "df_train shape: (289, 9)\n",
      "features_train shape: (289, 8)\n",
      "target_train shape: (289,)\n",
      "Relatório salvo em: test_result_Random_Forest_2018_[]_True_False.txt\n"
     ]
    }
   ],
   "source": [
    "dados = '../data/selected_data.csv'\n",
    "reference_year = 2018\n",
    "drop_year=[]\n",
    "data_filter = True\n",
    "concat_inputs = False\n",
    "random_state = 0\n",
    "\n",
    "df = prepared_data_test(\n",
    "    dados, data_filter, concat_inputs\n",
    ")\n",
    "\n",
    "# label_pipeline = 'logreg'\n",
    "base_model = RandomForestClassifier(\n",
    "            bootstrap = True,\n",
    "            n_estimators = 300,\n",
    "            criterion = 'gini',\n",
    "            max_depth = 3,\n",
    "            max_features = None,\n",
    "            min_samples_leaf = 5,\n",
    "            min_samples_split = 2,\n",
    "            class_weight='balanced',\n",
    "            random_state= random_state)\n",
    "model_test = \"Random_Forest\"\n",
    "optimal_threshold = 0.63\n",
    "best_threshold_tpr = 0.5\n",
    "\n",
    "test_evaluated(df, reference_year, drop_year, random_state,\n",
    "                                 data_filter, concat_inputs,\n",
    "                                 base_model, model_test, optimal_threshold, best_threshold_tpr)"
   ]
  },
  {
   "cell_type": "code",
   "execution_count": 41,
   "metadata": {},
   "outputs": [
    {
     "name": "stdout",
     "output_type": "stream",
     "text": [
      "df_train shape: (967, 9)\n",
      "features_train shape: (967, 8)\n",
      "target_train shape: (967,)\n",
      "Relatório salvo em: test_result_Random_Forest_2019_[]_False_False.txt\n"
     ]
    }
   ],
   "source": [
    "dados = '../data/selected_data.csv'\n",
    "reference_year = 2019\n",
    "drop_year=[]\n",
    "data_filter = False\n",
    "concat_inputs = False\n",
    "random_state = 0\n",
    "\n",
    "df = prepared_data_test(\n",
    "    dados, data_filter, concat_inputs\n",
    ")\n",
    "\n",
    "# label_pipeline = 'logreg'\n",
    "base_model = RandomForestClassifier(\n",
    "            bootstrap = True,\n",
    "            n_estimators = 100,\n",
    "            criterion = 'entropy',\n",
    "            max_depth = 3,\n",
    "            max_features = None,\n",
    "            min_samples_leaf = 3,\n",
    "            min_samples_split = 10,\n",
    "            class_weight='balanced',\n",
    "            random_state= random_state)\n",
    "model_test = \"Random_Forest\"\n",
    "optimal_threshold = 0.42\n",
    "best_threshold_tpr = 0.5\n",
    "\n",
    "test_evaluated(df, reference_year, drop_year, random_state,\n",
    "                                 data_filter, concat_inputs,\n",
    "                                 base_model, model_test, optimal_threshold, best_threshold_tpr)"
   ]
  },
  {
   "cell_type": "code",
   "execution_count": 42,
   "metadata": {},
   "outputs": [
    {
     "name": "stdout",
     "output_type": "stream",
     "text": [
      "df_train shape: (582, 9)\n",
      "features_train shape: (582, 8)\n",
      "target_train shape: (582,)\n",
      "Relatório salvo em: test_result_Random_Forest_2019_[]_True_False.txt\n"
     ]
    }
   ],
   "source": [
    "dados = '../data/selected_data.csv'\n",
    "reference_year = 2019\n",
    "drop_year=[]\n",
    "data_filter = True\n",
    "concat_inputs = False\n",
    "random_state = 0\n",
    "\n",
    "df = prepared_data_test(\n",
    "    dados, data_filter, concat_inputs\n",
    ")\n",
    "\n",
    "# label_pipeline = 'logreg'\n",
    "base_model = RandomForestClassifier(\n",
    "            bootstrap = True,\n",
    "            n_estimators = 100,\n",
    "            criterion = 'entropy',\n",
    "            max_depth = 3,\n",
    "            max_features = None,\n",
    "            min_samples_leaf = 3,\n",
    "            min_samples_split = 10,\n",
    "            class_weight='balanced',\n",
    "            random_state= random_state)\n",
    "model_test = \"Random_Forest\"\n",
    "optimal_threshold = 0.45\n",
    "best_threshold_tpr = 0.5\n",
    "\n",
    "test_evaluated(df, reference_year, drop_year, random_state,\n",
    "                                 data_filter, concat_inputs,\n",
    "                                 base_model, model_test, optimal_threshold, best_threshold_tpr)"
   ]
  },
  {
   "cell_type": "code",
   "execution_count": 43,
   "metadata": {},
   "outputs": [
    {
     "name": "stdout",
     "output_type": "stream",
     "text": [
      "df_train shape: (1550, 9)\n",
      "features_train shape: (1550, 8)\n",
      "target_train shape: (1550,)\n",
      "Relatório salvo em: test_result_Random_Forest_2020_[]_False_False.txt\n"
     ]
    }
   ],
   "source": [
    "dados = '../data/selected_data.csv'\n",
    "reference_year = 2020\n",
    "drop_year=[]\n",
    "data_filter = False\n",
    "concat_inputs = False\n",
    "random_state = 0\n",
    "\n",
    "df = prepared_data_test(\n",
    "    dados, data_filter, concat_inputs\n",
    ")\n",
    "\n",
    "# label_pipeline = 'logreg'\n",
    "base_model = RandomForestClassifier(\n",
    "            bootstrap = True,\n",
    "            n_estimators = 100,\n",
    "            criterion = 'entropy',\n",
    "            max_depth = 3,\n",
    "            max_features = None,\n",
    "            min_samples_leaf = 5,\n",
    "            min_samples_split = 2,\n",
    "            class_weight='balanced',\n",
    "            random_state= random_state)\n",
    "model_test = \"Random_Forest\"\n",
    "optimal_threshold = 0.5\n",
    "best_threshold_tpr = 0.5\n",
    "\n",
    "test_evaluated(df, reference_year, drop_year, random_state,\n",
    "                                 data_filter, concat_inputs,\n",
    "                                 base_model, model_test, optimal_threshold, best_threshold_tpr)"
   ]
  },
  {
   "cell_type": "code",
   "execution_count": 44,
   "metadata": {},
   "outputs": [
    {
     "name": "stdout",
     "output_type": "stream",
     "text": [
      "df_train shape: (902, 9)\n",
      "features_train shape: (902, 8)\n",
      "target_train shape: (902,)\n",
      "Relatório salvo em: test_result_Random_Forest_2020_[]_True_False.txt\n"
     ]
    }
   ],
   "source": [
    "dados = '../data/selected_data.csv'\n",
    "reference_year = 2020\n",
    "drop_year=[]\n",
    "data_filter = True\n",
    "concat_inputs = False\n",
    "random_state = 0\n",
    "\n",
    "df = prepared_data_test(\n",
    "    dados, data_filter, concat_inputs\n",
    ")\n",
    "\n",
    "# label_pipeline = 'logreg'\n",
    "base_model = RandomForestClassifier(\n",
    "            bootstrap = True,\n",
    "            n_estimators = 100,\n",
    "            criterion = 'gini',\n",
    "            max_depth = 10,\n",
    "            max_features = None,\n",
    "            min_samples_leaf = 5,\n",
    "            min_samples_split = 2,\n",
    "            class_weight='balanced',\n",
    "            random_state= random_state)\n",
    "model_test = \"Random_Forest\"\n",
    "optimal_threshold = 0.74\n",
    "best_threshold_tpr = 0.5\n",
    "\n",
    "test_evaluated(df, reference_year, drop_year, random_state,\n",
    "                                 data_filter, concat_inputs,\n",
    "                                 base_model, model_test, optimal_threshold, best_threshold_tpr)"
   ]
  },
  {
   "cell_type": "code",
   "execution_count": 45,
   "metadata": {},
   "outputs": [
    {
     "name": "stdout",
     "output_type": "stream",
     "text": [
      "df_train shape: (1550, 9)\n",
      "features_train shape: (1550, 8)\n",
      "target_train shape: (1550,)\n",
      "Relatório salvo em: test_result_Random_Forest_2021_[2020]_False_False.txt\n"
     ]
    }
   ],
   "source": [
    "dados = '../data/selected_data.csv'\n",
    "reference_year = 2021\n",
    "drop_year=[2020]\n",
    "data_filter = False\n",
    "concat_inputs = False\n",
    "random_state = 0\n",
    "\n",
    "df = prepared_data_test(\n",
    "    dados, data_filter, concat_inputs\n",
    ")\n",
    "\n",
    "# label_pipeline = 'logreg'\n",
    "base_model = RandomForestClassifier(\n",
    "            bootstrap = True,\n",
    "            n_estimators = 100,\n",
    "            criterion = 'entropy',\n",
    "            max_depth = 3,\n",
    "            max_features = None,\n",
    "            min_samples_leaf = 5,\n",
    "            min_samples_split = 2,\n",
    "            class_weight='balanced',\n",
    "            random_state= random_state)\n",
    "model_test = \"Random_Forest\"\n",
    "optimal_threshold = 0.5\n",
    "best_threshold_tpr = 0.5\n",
    "\n",
    "test_evaluated(df, reference_year, drop_year, random_state,\n",
    "                                 data_filter, concat_inputs,\n",
    "                                 base_model, model_test, optimal_threshold, best_threshold_tpr)"
   ]
  },
  {
   "cell_type": "code",
   "execution_count": 46,
   "metadata": {},
   "outputs": [
    {
     "name": "stdout",
     "output_type": "stream",
     "text": [
      "df_train shape: (902, 9)\n",
      "features_train shape: (902, 8)\n",
      "target_train shape: (902,)\n",
      "Relatório salvo em: test_result_Random_Forest_2021_[2020]_True_False.txt\n"
     ]
    }
   ],
   "source": [
    "dados = '../data/selected_data.csv'\n",
    "reference_year = 2021\n",
    "drop_year=[2020]\n",
    "data_filter = True\n",
    "concat_inputs = False\n",
    "random_state = 0\n",
    "\n",
    "df = prepared_data_test(\n",
    "    dados, data_filter, concat_inputs\n",
    ")\n",
    "\n",
    "# label_pipeline = 'logreg'\n",
    "base_model = RandomForestClassifier(\n",
    "            bootstrap = True,\n",
    "            n_estimators = 100,\n",
    "            criterion = 'gini',\n",
    "            max_depth = 10,\n",
    "            max_features = None,\n",
    "            min_samples_leaf = 5,\n",
    "            min_samples_split = 2,\n",
    "            class_weight='balanced',\n",
    "            random_state= random_state)\n",
    "model_test = \"Random_Forest\"\n",
    "optimal_threshold = 0.74\n",
    "best_threshold_tpr = 0.5\n",
    "\n",
    "test_evaluated(df, reference_year, drop_year, random_state,\n",
    "                                 data_filter, concat_inputs,\n",
    "                                 base_model, model_test, optimal_threshold, best_threshold_tpr)"
   ]
  },
  {
   "cell_type": "code",
   "execution_count": 47,
   "metadata": {},
   "outputs": [
    {
     "name": "stdout",
     "output_type": "stream",
     "text": [
      "df_train shape: (2636, 9)\n",
      "features_train shape: (2636, 8)\n",
      "target_train shape: (2636,)\n",
      "Relatório salvo em: test_result_Random_Forest_2021_[]_False_False.txt\n"
     ]
    }
   ],
   "source": [
    "dados = '../data/selected_data.csv'\n",
    "reference_year = 2021\n",
    "drop_year=[]\n",
    "data_filter = False\n",
    "concat_inputs = False\n",
    "random_state = 0\n",
    "\n",
    "df = prepared_data_test(\n",
    "    dados, data_filter, concat_inputs\n",
    ")\n",
    "\n",
    "# label_pipeline = 'logreg'\n",
    "base_model = RandomForestClassifier(\n",
    "            bootstrap = True,\n",
    "            n_estimators = 300,\n",
    "            criterion = 'gini',\n",
    "            max_depth = 20,\n",
    "            max_features = 'log2',\n",
    "            min_samples_leaf = 5,\n",
    "            min_samples_split = 2,\n",
    "            class_weight='balanced',\n",
    "            random_state= random_state)\n",
    "model_test = \"Random_Forest\"\n",
    "optimal_threshold = 0.5\n",
    "best_threshold_tpr = 0.5\n",
    "\n",
    "test_evaluated(df, reference_year, drop_year, random_state,\n",
    "                                 data_filter, concat_inputs,\n",
    "                                 base_model, model_test, optimal_threshold, best_threshold_tpr)"
   ]
  },
  {
   "cell_type": "code",
   "execution_count": 48,
   "metadata": {},
   "outputs": [
    {
     "name": "stdout",
     "output_type": "stream",
     "text": [
      "df_train shape: (1175, 9)\n",
      "features_train shape: (1175, 8)\n",
      "target_train shape: (1175,)\n",
      "Relatório salvo em: test_result_Random_Forest_2021_[]_True_False.txt\n"
     ]
    }
   ],
   "source": [
    "dados = '../data/selected_data.csv'\n",
    "reference_year = 2021\n",
    "drop_year=[]\n",
    "data_filter = True\n",
    "concat_inputs = False\n",
    "random_state = 0\n",
    "\n",
    "df = prepared_data_test(\n",
    "    dados, data_filter, concat_inputs\n",
    ")\n",
    "\n",
    "# label_pipeline = 'logreg'\n",
    "base_model = RandomForestClassifier(\n",
    "            bootstrap = True,\n",
    "            n_estimators = 300,\n",
    "            criterion = 'entropy',\n",
    "            max_depth = 3,\n",
    "            max_features = 'sqrt',\n",
    "            min_samples_leaf = 3,\n",
    "            min_samples_split = 2,\n",
    "            class_weight='balanced',\n",
    "            random_state= random_state)\n",
    "model_test = \"Random_Forest\"\n",
    "optimal_threshold = 0.5\n",
    "best_threshold_tpr = 0.5\n",
    "\n",
    "test_evaluated(df, reference_year, drop_year, random_state,\n",
    "                                 data_filter, concat_inputs,\n",
    "                                 base_model, model_test, optimal_threshold, best_threshold_tpr)"
   ]
  },
  {
   "cell_type": "code",
   "execution_count": 49,
   "metadata": {},
   "outputs": [
    {
     "name": "stdout",
     "output_type": "stream",
     "text": [
      "df_train shape: (2899, 9)\n",
      "features_train shape: (2899, 8)\n",
      "target_train shape: (2899,)\n",
      "Relatório salvo em: test_result_Random_Forest_2022_[2020]_False_False.txt\n"
     ]
    }
   ],
   "source": [
    "dados = '../data/selected_data.csv'\n",
    "reference_year = 2022\n",
    "drop_year=[2020]\n",
    "data_filter = False\n",
    "concat_inputs = False\n",
    "random_state = 0\n",
    "\n",
    "df = prepared_data_test(\n",
    "    dados, data_filter, concat_inputs\n",
    ")\n",
    "\n",
    "# label_pipeline = 'logreg'\n",
    "base_model = RandomForestClassifier(\n",
    "            bootstrap = True,\n",
    "            n_estimators = 300,\n",
    "            criterion = 'entropy',\n",
    "            max_depth = 10,\n",
    "            max_features = 'log2',\n",
    "            min_samples_leaf = 3,\n",
    "            min_samples_split = 2,\n",
    "            class_weight='balanced',\n",
    "            random_state= random_state)\n",
    "model_test = \"Random_Forest\"\n",
    "optimal_threshold = 0.61\n",
    "best_threshold_tpr = 0.5\n",
    "\n",
    "test_evaluated(df, reference_year, drop_year, random_state,\n",
    "                                 data_filter, concat_inputs,\n",
    "                                 base_model, model_test, optimal_threshold, best_threshold_tpr)"
   ]
  },
  {
   "cell_type": "code",
   "execution_count": 50,
   "metadata": {},
   "outputs": [
    {
     "name": "stdout",
     "output_type": "stream",
     "text": [
      "df_train shape: (1436, 9)\n",
      "features_train shape: (1436, 8)\n",
      "target_train shape: (1436,)\n",
      "Relatório salvo em: test_result_Random_Forest_2022_[2020]_True_False.txt\n"
     ]
    }
   ],
   "source": [
    "dados = '../data/selected_data.csv'\n",
    "reference_year = 2022\n",
    "drop_year=[2020]\n",
    "data_filter = True\n",
    "concat_inputs = False\n",
    "random_state = 0\n",
    "\n",
    "df = prepared_data_test(\n",
    "    dados, data_filter, concat_inputs\n",
    ")\n",
    "\n",
    "# label_pipeline = 'logreg'\n",
    "base_model = RandomForestClassifier(\n",
    "            bootstrap = True,\n",
    "            n_estimators = 300,\n",
    "            criterion = 'entropy',\n",
    "            max_depth = 3,\n",
    "            max_features = 'sqrt',\n",
    "            min_samples_leaf = 5,\n",
    "            min_samples_split = 2,\n",
    "            class_weight='balanced',\n",
    "            random_state= random_state)\n",
    "model_test = \"Random_Forest\"\n",
    "optimal_threshold = 0.61\n",
    "best_threshold_tpr = 0.5\n",
    "\n",
    "test_evaluated(df, reference_year, drop_year, random_state,\n",
    "                                 data_filter, concat_inputs,\n",
    "                                 base_model, model_test, optimal_threshold, best_threshold_tpr)"
   ]
  },
  {
   "cell_type": "code",
   "execution_count": 51,
   "metadata": {},
   "outputs": [
    {
     "name": "stdout",
     "output_type": "stream",
     "text": [
      "df_train shape: (3985, 9)\n",
      "features_train shape: (3985, 8)\n",
      "target_train shape: (3985,)\n",
      "Relatório salvo em: test_result_Random_Forest_2022_[]_False_False.txt\n"
     ]
    }
   ],
   "source": [
    "dados = '../data/selected_data.csv'\n",
    "reference_year = 2022\n",
    "drop_year=[]\n",
    "data_filter = False\n",
    "concat_inputs = False\n",
    "random_state = 0\n",
    "\n",
    "df = prepared_data_test(\n",
    "    dados, data_filter, concat_inputs\n",
    ")\n",
    "\n",
    "# label_pipeline = 'logreg'\n",
    "base_model = RandomForestClassifier(\n",
    "            bootstrap = True,\n",
    "            n_estimators = 100,\n",
    "            criterion = 'gini',\n",
    "            max_depth = 3,\n",
    "            max_features = None,\n",
    "            min_samples_leaf = 3,\n",
    "            min_samples_split = 10,\n",
    "            class_weight='balanced',\n",
    "            random_state= random_state)\n",
    "model_test = \"Random_Forest\"\n",
    "optimal_threshold = 0.5\n",
    "best_threshold_tpr = 0.5\n",
    "\n",
    "test_evaluated(df, reference_year, drop_year, random_state,\n",
    "                                 data_filter, concat_inputs,\n",
    "                                 base_model, model_test, optimal_threshold, best_threshold_tpr)"
   ]
  },
  {
   "cell_type": "code",
   "execution_count": 52,
   "metadata": {},
   "outputs": [
    {
     "name": "stdout",
     "output_type": "stream",
     "text": [
      "df_train shape: (1709, 9)\n",
      "features_train shape: (1709, 8)\n",
      "target_train shape: (1709,)\n",
      "Relatório salvo em: test_result_Random_Forest_2022_[]_True_False.txt\n"
     ]
    }
   ],
   "source": [
    "dados = '../data/selected_data.csv'\n",
    "reference_year = 2022\n",
    "drop_year=[]\n",
    "data_filter = True\n",
    "concat_inputs = False\n",
    "random_state = 0\n",
    "\n",
    "df = prepared_data_test(\n",
    "    dados, data_filter, concat_inputs\n",
    ")\n",
    "\n",
    "# label_pipeline = 'logreg'\n",
    "base_model = RandomForestClassifier(\n",
    "            bootstrap = True,\n",
    "            n_estimators = 100,\n",
    "            criterion = 'gini',\n",
    "            max_depth = 3,\n",
    "            max_features = 'sqrt',\n",
    "            min_samples_leaf = 3,\n",
    "            min_samples_split = 10,\n",
    "            class_weight='balanced',\n",
    "            random_state= random_state)\n",
    "model_test = \"Random_Forest\"\n",
    "optimal_threshold = 0.5\n",
    "best_threshold_tpr = 0.5\n",
    "\n",
    "test_evaluated(df, reference_year, drop_year, random_state,\n",
    "                                 data_filter, concat_inputs,\n",
    "                                 base_model, model_test, optimal_threshold, best_threshold_tpr)"
   ]
  },
  {
   "cell_type": "code",
   "execution_count": 125,
   "metadata": {},
   "outputs": [
    {
     "name": "stdout",
     "output_type": "stream",
     "text": [
      "df_train shape: (3806, 9)\n",
      "features_train shape: (3806, 8)\n",
      "target_train shape: (3806,)\n",
      "Relatório salvo em: test_result_Random_Forest_2023_[2020]_False_False.txt\n"
     ]
    }
   ],
   "source": [
    "dados = '../data/selected_data.csv'\n",
    "reference_year = 2023\n",
    "drop_year=[2020]\n",
    "data_filter = False\n",
    "concat_inputs = False\n",
    "random_state = 0\n",
    "\n",
    "df = prepared_data_test(\n",
    "    dados, data_filter, concat_inputs\n",
    ")\n",
    "\n",
    "# label_pipeline = 'logreg'\n",
    "base_model = RandomForestClassifier(\n",
    "            bootstrap = True,\n",
    "            n_estimators = 100,\n",
    "            criterion = 'entropy',\n",
    "            max_depth = 3,\n",
    "            max_features = None,\n",
    "            min_samples_leaf = 3,\n",
    "            min_samples_split = 10,\n",
    "            class_weight='balanced',\n",
    "            random_state= random_state)\n",
    "model_test = \"Random_Forest\"\n",
    "optimal_threshold = 0.65\n",
    "best_threshold_tpr = 0.5\n",
    "\n",
    "test_evaluated(df, reference_year, drop_year, random_state,\n",
    "                                 data_filter, concat_inputs,\n",
    "                                 base_model, model_test, optimal_threshold, best_threshold_tpr)"
   ]
  },
  {
   "cell_type": "code",
   "execution_count": 54,
   "metadata": {},
   "outputs": [
    {
     "name": "stdout",
     "output_type": "stream",
     "text": [
      "df_train shape: (2039, 9)\n",
      "features_train shape: (2039, 8)\n",
      "target_train shape: (2039,)\n",
      "Relatório salvo em: test_result_Random_Forest_2023_[2020]_True_False.txt\n"
     ]
    }
   ],
   "source": [
    "dados = '../data/selected_data.csv'\n",
    "reference_year = 2023\n",
    "drop_year=[2020]\n",
    "data_filter = True\n",
    "concat_inputs = False\n",
    "random_state = 0\n",
    "\n",
    "df = prepared_data_test(\n",
    "    dados, data_filter, concat_inputs\n",
    ")\n",
    "\n",
    "# label_pipeline = 'logreg'\n",
    "base_model = RandomForestClassifier(\n",
    "            bootstrap = True,\n",
    "            n_estimators = 100,\n",
    "            criterion = 'gini',\n",
    "            max_depth = 3,\n",
    "            max_features = 'sqrt',\n",
    "            min_samples_leaf = 5,\n",
    "            min_samples_split = 2,\n",
    "            class_weight='balanced',\n",
    "            random_state= random_state)\n",
    "model_test = \"Random_Forest\"\n",
    "optimal_threshold = 0.53\n",
    "best_threshold_tpr = 0.5\n",
    "\n",
    "test_evaluated(df, reference_year, drop_year, random_state,\n",
    "                                 data_filter, concat_inputs,\n",
    "                                 base_model, model_test, optimal_threshold, best_threshold_tpr)"
   ]
  },
  {
   "cell_type": "code",
   "execution_count": 55,
   "metadata": {},
   "outputs": [
    {
     "name": "stdout",
     "output_type": "stream",
     "text": [
      "df_train shape: (4892, 9)\n",
      "features_train shape: (4892, 8)\n",
      "target_train shape: (4892,)\n",
      "Relatório salvo em: test_result_Random_Forest_2023_[]_False_False.txt\n"
     ]
    }
   ],
   "source": [
    "dados = '../data/selected_data.csv'\n",
    "reference_year = 2023\n",
    "drop_year=[]\n",
    "data_filter = False\n",
    "concat_inputs = False\n",
    "random_state = 0\n",
    "\n",
    "df = prepared_data_test(\n",
    "    dados, data_filter, concat_inputs\n",
    ")\n",
    "\n",
    "# label_pipeline = 'logreg'\n",
    "base_model = RandomForestClassifier(\n",
    "            bootstrap = True,\n",
    "            n_estimators = 300,\n",
    "            criterion = 'entropy',\n",
    "            max_depth = 3,\n",
    "            max_features = None,\n",
    "            min_samples_leaf = 5,\n",
    "            min_samples_split = 2,\n",
    "            class_weight='balanced',\n",
    "            random_state= random_state)\n",
    "model_test = \"Random_Forest\"\n",
    "optimal_threshold = 0.5\n",
    "best_threshold_tpr = 0.5\n",
    "\n",
    "test_evaluated(df, reference_year, drop_year, random_state,\n",
    "                                 data_filter, concat_inputs,\n",
    "                                 base_model, model_test, optimal_threshold, best_threshold_tpr)"
   ]
  },
  {
   "cell_type": "code",
   "execution_count": 56,
   "metadata": {},
   "outputs": [
    {
     "name": "stdout",
     "output_type": "stream",
     "text": [
      "df_train shape: (2312, 9)\n",
      "features_train shape: (2312, 8)\n",
      "target_train shape: (2312,)\n",
      "Relatório salvo em: test_result_Random_Forest_2023_[]_True_False.txt\n"
     ]
    }
   ],
   "source": [
    "dados = '../data/selected_data.csv'\n",
    "reference_year = 2023\n",
    "drop_year=[]\n",
    "data_filter = True\n",
    "concat_inputs = False\n",
    "random_state = 0\n",
    "\n",
    "df = prepared_data_test(\n",
    "    dados, data_filter, concat_inputs\n",
    ")\n",
    "\n",
    "# label_pipeline = 'logreg'\n",
    "base_model = RandomForestClassifier(\n",
    "            bootstrap = True,\n",
    "            n_estimators = 100,\n",
    "            criterion = 'gini',\n",
    "            max_depth = 3,\n",
    "            max_features = 'sqrt',\n",
    "            min_samples_leaf = 1,\n",
    "            min_samples_split = 2,\n",
    "            class_weight='balanced',\n",
    "            random_state= random_state)\n",
    "model_test = \"Random_Forest\"\n",
    "optimal_threshold = 0.56\n",
    "best_threshold_tpr = 0.5\n",
    "\n",
    "test_evaluated(df, reference_year, drop_year, random_state,\n",
    "                                 data_filter, concat_inputs,\n",
    "                                 base_model, model_test, optimal_threshold, best_threshold_tpr)"
   ]
  },
  {
   "cell_type": "code",
   "execution_count": 57,
   "metadata": {},
   "outputs": [
    {
     "name": "stdout",
     "output_type": "stream",
     "text": [
      "df_train shape: (497, 9)\n",
      "features_train shape: (497, 8)\n",
      "target_train shape: (497,)\n",
      "Relatório salvo em: test_result_Support_Vector_Machine_2018_[]_False_False.txt\n"
     ]
    }
   ],
   "source": [
    "dados = '../data/selected_data.csv'\n",
    "reference_year = 2018\n",
    "drop_year=[]\n",
    "data_filter = False\n",
    "concat_inputs = False\n",
    "random_state = 0\n",
    "\n",
    "df = prepared_data_test(\n",
    "    dados, data_filter, concat_inputs\n",
    ")\n",
    "\n",
    "base_model = SVC(\n",
    "            C=1,\n",
    "            degree=2,  # Apenas para kernel 'poly'\n",
    "            gamma='scale',\n",
    "            kernel='linear',\n",
    "            class_weight='balanced',\n",
    "            probability=True,\n",
    "            random_state=random_state\n",
    "            )\n",
    "\n",
    "model_test = \"Support_Vector_Machine\"\n",
    "optimal_threshold = 0.68\n",
    "best_threshold_tpr = 0.5\n",
    "\n",
    "test_evaluated(df, reference_year, drop_year, random_state,\n",
    "                                 data_filter, concat_inputs,\n",
    "                                 base_model, model_test, optimal_threshold, best_threshold_tpr)"
   ]
  },
  {
   "cell_type": "code",
   "execution_count": 58,
   "metadata": {},
   "outputs": [
    {
     "name": "stdout",
     "output_type": "stream",
     "text": [
      "df_train shape: (289, 9)\n",
      "features_train shape: (289, 8)\n",
      "target_train shape: (289,)\n",
      "Relatório salvo em: test_result_Support_Vector_Machine_2018_[]_True_False.txt\n"
     ]
    }
   ],
   "source": [
    "dados = '../data/selected_data.csv'\n",
    "reference_year = 2018\n",
    "drop_year=[]\n",
    "data_filter = True\n",
    "concat_inputs = False\n",
    "random_state = 0\n",
    "\n",
    "df = prepared_data_test(\n",
    "    dados, data_filter, concat_inputs\n",
    ")\n",
    "\n",
    "base_model = SVC(\n",
    "            C=10,\n",
    "            degree=2,  # Apenas para kernel 'poly'\n",
    "            gamma='auto',\n",
    "            kernel='sigmoid',\n",
    "            class_weight='balanced',\n",
    "            probability=True,\n",
    "            random_state=random_state\n",
    "            )\n",
    "\n",
    "model_test = \"Support_Vector_Machine\"\n",
    "optimal_threshold = 0.45\n",
    "best_threshold_tpr = 0.5\n",
    "\n",
    "test_evaluated(df, reference_year, drop_year, random_state,\n",
    "                                 data_filter, concat_inputs,\n",
    "                                 base_model, model_test, optimal_threshold, best_threshold_tpr)"
   ]
  },
  {
   "cell_type": "code",
   "execution_count": 59,
   "metadata": {},
   "outputs": [
    {
     "name": "stdout",
     "output_type": "stream",
     "text": [
      "df_train shape: (967, 9)\n",
      "features_train shape: (967, 8)\n",
      "target_train shape: (967,)\n",
      "Relatório salvo em: test_result_Support_Vector_Machine_2019_[]_False_False.txt\n"
     ]
    }
   ],
   "source": [
    "dados = '../data/selected_data.csv'\n",
    "reference_year = 2019\n",
    "drop_year=[]\n",
    "data_filter = False\n",
    "concat_inputs = False\n",
    "random_state = 0\n",
    "\n",
    "df = prepared_data_test(\n",
    "    dados, data_filter, concat_inputs\n",
    ")\n",
    "\n",
    "base_model = SVC(\n",
    "            C=1,\n",
    "            degree=2,  # Apenas para kernel 'poly'\n",
    "            gamma='scale',\n",
    "            kernel='linear',\n",
    "            class_weight='balanced',\n",
    "            probability=True,\n",
    "            random_state=random_state\n",
    "            )\n",
    "\n",
    "model_test = \"Support_Vector_Machine\"\n",
    "optimal_threshold = 0.55\n",
    "best_threshold_tpr = 0.5\n",
    "\n",
    "test_evaluated(df, reference_year, drop_year, random_state,\n",
    "                                 data_filter, concat_inputs,\n",
    "                                 base_model, model_test, optimal_threshold, best_threshold_tpr)"
   ]
  },
  {
   "cell_type": "code",
   "execution_count": 60,
   "metadata": {},
   "outputs": [
    {
     "name": "stdout",
     "output_type": "stream",
     "text": [
      "df_train shape: (582, 9)\n",
      "features_train shape: (582, 8)\n",
      "target_train shape: (582,)\n",
      "Relatório salvo em: test_result_Support_Vector_Machine_2019_[]_True_False.txt\n"
     ]
    }
   ],
   "source": [
    "dados = '../data/selected_data.csv'\n",
    "reference_year = 2019\n",
    "drop_year=[]\n",
    "data_filter = True\n",
    "concat_inputs = False\n",
    "random_state = 0\n",
    "\n",
    "df = prepared_data_test(\n",
    "    dados, data_filter, concat_inputs\n",
    ")\n",
    "\n",
    "base_model = SVC(\n",
    "            C=1,\n",
    "            degree=2,  # Apenas para kernel 'poly'\n",
    "            gamma='scale',\n",
    "            kernel='poly',\n",
    "            class_weight='balanced',\n",
    "            probability=True,\n",
    "            random_state=random_state\n",
    "            )\n",
    "\n",
    "model_test = \"Support_Vector_Machine\"\n",
    "optimal_threshold = 0.38\n",
    "best_threshold_tpr = 0.5\n",
    "\n",
    "test_evaluated(df, reference_year, drop_year, random_state,\n",
    "                                 data_filter, concat_inputs,\n",
    "                                 base_model, model_test, optimal_threshold, best_threshold_tpr)"
   ]
  },
  {
   "cell_type": "code",
   "execution_count": 61,
   "metadata": {},
   "outputs": [
    {
     "name": "stdout",
     "output_type": "stream",
     "text": [
      "df_train shape: (1550, 9)\n",
      "features_train shape: (1550, 8)\n",
      "target_train shape: (1550,)\n",
      "Relatório salvo em: test_result_Support_Vector_Machine_2020_[]_False_False.txt\n"
     ]
    }
   ],
   "source": [
    "dados = '../data/selected_data.csv'\n",
    "reference_year = 2020\n",
    "drop_year=[]\n",
    "data_filter = False\n",
    "concat_inputs = False\n",
    "random_state = 0\n",
    "\n",
    "df = prepared_data_test(\n",
    "    dados, data_filter, concat_inputs\n",
    ")\n",
    "\n",
    "base_model = SVC(\n",
    "            C=0.1,\n",
    "            degree=3,  # Apenas para kernel 'poly'\n",
    "            gamma='scale',\n",
    "            kernel='poly',\n",
    "            class_weight='balanced',\n",
    "            probability=True,\n",
    "            random_state=random_state\n",
    "            )\n",
    "\n",
    "model_test = \"Support_Vector_Machine\"\n",
    "optimal_threshold = 0.65\n",
    "best_threshold_tpr = 0.5\n",
    "\n",
    "test_evaluated(df, reference_year, drop_year, random_state,\n",
    "                                 data_filter, concat_inputs,\n",
    "                                 base_model, model_test, optimal_threshold, best_threshold_tpr)"
   ]
  },
  {
   "cell_type": "code",
   "execution_count": 62,
   "metadata": {},
   "outputs": [
    {
     "name": "stdout",
     "output_type": "stream",
     "text": [
      "df_train shape: (902, 9)\n",
      "features_train shape: (902, 8)\n",
      "target_train shape: (902,)\n",
      "Relatório salvo em: test_result_Support_Vector_Machine_2020_[]_True_False.txt\n"
     ]
    }
   ],
   "source": [
    "dados = '../data/selected_data.csv'\n",
    "reference_year = 2020\n",
    "drop_year=[]\n",
    "data_filter = True\n",
    "concat_inputs = False\n",
    "random_state = 0\n",
    "\n",
    "df = prepared_data_test(\n",
    "    dados, data_filter, concat_inputs\n",
    ")\n",
    "\n",
    "base_model = SVC(\n",
    "            C=1,\n",
    "            degree=2,  # Apenas para kernel 'poly'\n",
    "            gamma='auto',\n",
    "            kernel='poly',\n",
    "            class_weight='balanced',\n",
    "            probability=True,\n",
    "            random_state=random_state\n",
    "            )\n",
    "\n",
    "model_test = \"Support_Vector_Machine\"\n",
    "optimal_threshold = 0.56\n",
    "best_threshold_tpr = 0.5\n",
    "\n",
    "test_evaluated(df, reference_year, drop_year, random_state,\n",
    "                                 data_filter, concat_inputs,\n",
    "                                 base_model, model_test, optimal_threshold, best_threshold_tpr)"
   ]
  },
  {
   "cell_type": "code",
   "execution_count": 63,
   "metadata": {},
   "outputs": [
    {
     "name": "stdout",
     "output_type": "stream",
     "text": [
      "df_train shape: (1550, 9)\n",
      "features_train shape: (1550, 8)\n",
      "target_train shape: (1550,)\n",
      "Relatório salvo em: test_result_Support_Vector_Machine_2021_[2020]_False_False.txt\n"
     ]
    }
   ],
   "source": [
    "dados = '../data/selected_data.csv'\n",
    "reference_year = 2021\n",
    "drop_year=[2020]\n",
    "data_filter = False\n",
    "concat_inputs = False\n",
    "random_state = 0\n",
    "\n",
    "df = prepared_data_test(\n",
    "    dados, data_filter, concat_inputs\n",
    ")\n",
    "\n",
    "base_model = SVC(\n",
    "            C=0.1,\n",
    "            degree=3,  # Apenas para kernel 'poly'\n",
    "            gamma='scale',\n",
    "            kernel='poly',\n",
    "            class_weight='balanced',\n",
    "            probability=True,\n",
    "            random_state=random_state\n",
    "            )\n",
    "\n",
    "model_test = \"Support_Vector_Machine\"\n",
    "optimal_threshold = 0.65\n",
    "best_threshold_tpr = 0.5\n",
    "\n",
    "test_evaluated(df, reference_year, drop_year, random_state,\n",
    "                                 data_filter, concat_inputs,\n",
    "                                 base_model, model_test, optimal_threshold, best_threshold_tpr)"
   ]
  },
  {
   "cell_type": "code",
   "execution_count": 64,
   "metadata": {},
   "outputs": [
    {
     "name": "stdout",
     "output_type": "stream",
     "text": [
      "df_train shape: (902, 9)\n",
      "features_train shape: (902, 8)\n",
      "target_train shape: (902,)\n",
      "Relatório salvo em: test_result_Support_Vector_Machine_2021_[2020]_True_False.txt\n"
     ]
    }
   ],
   "source": [
    "dados = '../data/selected_data.csv'\n",
    "reference_year = 2021\n",
    "drop_year=[2020]\n",
    "data_filter = True\n",
    "concat_inputs = False\n",
    "random_state = 0\n",
    "\n",
    "df = prepared_data_test(\n",
    "    dados, data_filter, concat_inputs\n",
    ")\n",
    "\n",
    "base_model = SVC(\n",
    "            C=1,\n",
    "            degree=2,  # Apenas para kernel 'poly'\n",
    "            gamma='auto',\n",
    "            kernel='poly',\n",
    "            class_weight='balanced',\n",
    "            probability=True,\n",
    "            random_state=random_state\n",
    "            )\n",
    "\n",
    "model_test = \"Support_Vector_Machine\"\n",
    "optimal_threshold = 0.56\n",
    "best_threshold_tpr = 0.5\n",
    "\n",
    "test_evaluated(df, reference_year, drop_year, random_state,\n",
    "                                 data_filter, concat_inputs,\n",
    "                                 base_model, model_test, optimal_threshold, best_threshold_tpr)"
   ]
  },
  {
   "cell_type": "code",
   "execution_count": 65,
   "metadata": {},
   "outputs": [
    {
     "name": "stdout",
     "output_type": "stream",
     "text": [
      "df_train shape: (2636, 9)\n",
      "features_train shape: (2636, 8)\n",
      "target_train shape: (2636,)\n",
      "Relatório salvo em: test_result_Support_Vector_Machine_2021_[]_False_False.txt\n"
     ]
    },
    {
     "name": "stderr",
     "output_type": "stream",
     "text": [
      "d:\\Dropbox\\Documentos\\IFPB\\Pesquisa\\Taxa de Evasão\\Dropout Rate Project\\dropout_rate_project\\.venv\\Lib\\site-packages\\sklearn\\metrics\\_classification.py:1565: UndefinedMetricWarning: Precision is ill-defined and being set to 0.0 due to no predicted samples. Use `zero_division` parameter to control this behavior.\n",
      "  _warn_prf(average, modifier, f\"{metric.capitalize()} is\", len(result))\n"
     ]
    }
   ],
   "source": [
    "dados = '../data/selected_data.csv'\n",
    "reference_year = 2021\n",
    "drop_year=[]\n",
    "data_filter = False\n",
    "concat_inputs = False\n",
    "random_state = 0\n",
    "\n",
    "df = prepared_data_test(\n",
    "    dados, data_filter, concat_inputs\n",
    ")\n",
    "\n",
    "base_model = SVC(\n",
    "            C=0.1,\n",
    "            degree=2,  # Apenas para kernel 'poly'\n",
    "            gamma='scale',\n",
    "            kernel='poly',\n",
    "            class_weight='balanced',\n",
    "            probability=True,\n",
    "            random_state=random_state\n",
    "            )\n",
    "\n",
    "model_test = \"Support_Vector_Machine\"\n",
    "optimal_threshold = 0.59\n",
    "best_threshold_tpr = 0.5\n",
    "\n",
    "test_evaluated(df, reference_year, drop_year, random_state,\n",
    "                                 data_filter, concat_inputs,\n",
    "                                 base_model, model_test, optimal_threshold, best_threshold_tpr)"
   ]
  },
  {
   "cell_type": "code",
   "execution_count": 66,
   "metadata": {},
   "outputs": [
    {
     "name": "stdout",
     "output_type": "stream",
     "text": [
      "df_train shape: (1175, 9)\n",
      "features_train shape: (1175, 8)\n",
      "target_train shape: (1175,)\n",
      "Relatório salvo em: test_result_Support_Vector_Machine_2021_[]_True_False.txt\n"
     ]
    }
   ],
   "source": [
    "dados = '../data/selected_data.csv'\n",
    "reference_year = 2021\n",
    "drop_year=[]\n",
    "data_filter = True\n",
    "concat_inputs = False\n",
    "random_state = 0\n",
    "\n",
    "df = prepared_data_test(\n",
    "    dados, data_filter, concat_inputs\n",
    ")\n",
    "\n",
    "base_model = SVC(\n",
    "            C=1,\n",
    "            degree=2,  # Apenas para kernel 'poly'\n",
    "            gamma='auto',\n",
    "            kernel='poly',\n",
    "            class_weight='balanced',\n",
    "            probability=True,\n",
    "            random_state=random_state\n",
    "            )\n",
    "\n",
    "model_test = \"Support_Vector_Machine\"\n",
    "optimal_threshold = 0.54\n",
    "best_threshold_tpr = 0.5\n",
    "\n",
    "test_evaluated(df, reference_year, drop_year, random_state,\n",
    "                                 data_filter, concat_inputs,\n",
    "                                 base_model, model_test, optimal_threshold, best_threshold_tpr)"
   ]
  },
  {
   "cell_type": "code",
   "execution_count": 67,
   "metadata": {},
   "outputs": [
    {
     "name": "stdout",
     "output_type": "stream",
     "text": [
      "df_train shape: (2899, 9)\n",
      "features_train shape: (2899, 8)\n",
      "target_train shape: (2899,)\n",
      "Relatório salvo em: test_result_Support_Vector_Machine_2022_[2020]_False_False.txt\n"
     ]
    }
   ],
   "source": [
    "dados = '../data/selected_data.csv'\n",
    "reference_year = 2022\n",
    "drop_year=[2020]\n",
    "data_filter = False\n",
    "concat_inputs = False\n",
    "random_state = 0\n",
    "\n",
    "df = prepared_data_test(\n",
    "    dados, data_filter, concat_inputs\n",
    ")\n",
    "\n",
    "base_model = SVC(\n",
    "            C=1,\n",
    "            degree=2,  # Apenas para kernel 'poly'\n",
    "            gamma='scale',\n",
    "            kernel='rbf',\n",
    "            class_weight='balanced',\n",
    "            probability=True,\n",
    "            random_state=random_state\n",
    "            )\n",
    "\n",
    "model_test = \"Support_Vector_Machine\"\n",
    "optimal_threshold = 0.53\n",
    "best_threshold_tpr = 0.5\n",
    "\n",
    "test_evaluated(df, reference_year, drop_year, random_state,\n",
    "                                 data_filter, concat_inputs,\n",
    "                                 base_model, model_test, optimal_threshold, best_threshold_tpr)"
   ]
  },
  {
   "cell_type": "code",
   "execution_count": 68,
   "metadata": {},
   "outputs": [
    {
     "name": "stdout",
     "output_type": "stream",
     "text": [
      "df_train shape: (1436, 9)\n",
      "features_train shape: (1436, 8)\n",
      "target_train shape: (1436,)\n",
      "Relatório salvo em: test_result_Support_Vector_Machine_2022_[2020]_True_False.txt\n"
     ]
    }
   ],
   "source": [
    "dados = '../data/selected_data.csv'\n",
    "reference_year = 2022\n",
    "drop_year=[2020]\n",
    "data_filter = True\n",
    "concat_inputs = False\n",
    "random_state = 0\n",
    "\n",
    "df = prepared_data_test(\n",
    "    dados, data_filter, concat_inputs\n",
    ")\n",
    "\n",
    "base_model = SVC(\n",
    "            C=1,\n",
    "            degree=2,  # Apenas para kernel 'poly'\n",
    "            gamma='scale',\n",
    "            kernel='linear',\n",
    "            class_weight='balanced',\n",
    "            probability=True,\n",
    "            random_state=random_state\n",
    "            )\n",
    "\n",
    "model_test = \"Support_Vector_Machine\"\n",
    "optimal_threshold = 0.7\n",
    "best_threshold_tpr = 0.5\n",
    "\n",
    "test_evaluated(df, reference_year, drop_year, random_state,\n",
    "                                 data_filter, concat_inputs,\n",
    "                                 base_model, model_test, optimal_threshold, best_threshold_tpr)"
   ]
  },
  {
   "cell_type": "code",
   "execution_count": 69,
   "metadata": {},
   "outputs": [
    {
     "name": "stdout",
     "output_type": "stream",
     "text": [
      "df_train shape: (3985, 9)\n",
      "features_train shape: (3985, 8)\n",
      "target_train shape: (3985,)\n",
      "Relatório salvo em: test_result_Support_Vector_Machine_2022_[]_False_False.txt\n"
     ]
    },
    {
     "name": "stderr",
     "output_type": "stream",
     "text": [
      "d:\\Dropbox\\Documentos\\IFPB\\Pesquisa\\Taxa de Evasão\\Dropout Rate Project\\dropout_rate_project\\.venv\\Lib\\site-packages\\sklearn\\metrics\\_classification.py:1565: UndefinedMetricWarning: Precision is ill-defined and being set to 0.0 due to no predicted samples. Use `zero_division` parameter to control this behavior.\n",
      "  _warn_prf(average, modifier, f\"{metric.capitalize()} is\", len(result))\n"
     ]
    }
   ],
   "source": [
    "dados = '../data/selected_data.csv'\n",
    "reference_year = 2022\n",
    "drop_year=[]\n",
    "data_filter = False\n",
    "concat_inputs = False\n",
    "random_state = 0\n",
    "\n",
    "df = prepared_data_test(\n",
    "    dados, data_filter, concat_inputs\n",
    ")\n",
    "\n",
    "base_model = SVC(\n",
    "            C=0.1,\n",
    "            degree=2,  # Apenas para kernel 'poly'\n",
    "            gamma='auto',\n",
    "            kernel='sigmoid',\n",
    "            class_weight='balanced',\n",
    "            probability=True,\n",
    "            random_state=random_state\n",
    "            )\n",
    "\n",
    "model_test = \"Support_Vector_Machine\"\n",
    "optimal_threshold = 0.51\n",
    "best_threshold_tpr = 0.5\n",
    "\n",
    "test_evaluated(df, reference_year, drop_year, random_state,\n",
    "                                 data_filter, concat_inputs,\n",
    "                                 base_model, model_test, optimal_threshold, best_threshold_tpr)"
   ]
  },
  {
   "cell_type": "code",
   "execution_count": 70,
   "metadata": {},
   "outputs": [
    {
     "name": "stdout",
     "output_type": "stream",
     "text": [
      "df_train shape: (1709, 9)\n",
      "features_train shape: (1709, 8)\n",
      "target_train shape: (1709,)\n",
      "Relatório salvo em: test_result_Support_Vector_Machine_2022_[]_True_False.txt\n"
     ]
    }
   ],
   "source": [
    "dados = '../data/selected_data.csv'\n",
    "reference_year = 2022\n",
    "drop_year=[]\n",
    "data_filter = True\n",
    "concat_inputs = False\n",
    "random_state = 0\n",
    "\n",
    "df = prepared_data_test(\n",
    "    dados, data_filter, concat_inputs\n",
    ")\n",
    "\n",
    "base_model = SVC(\n",
    "            C=0.1,\n",
    "            degree=2,  # Apenas para kernel 'poly'\n",
    "            gamma='scale',\n",
    "            kernel='linear',\n",
    "            class_weight='balanced',\n",
    "            probability=True,\n",
    "            random_state=random_state\n",
    "            )\n",
    "\n",
    "model_test = \"Support_Vector_Machine\"\n",
    "optimal_threshold = 0.55\n",
    "best_threshold_tpr = 0.5\n",
    "\n",
    "test_evaluated(df, reference_year, drop_year, random_state,\n",
    "                                 data_filter, concat_inputs,\n",
    "                                 base_model, model_test, optimal_threshold, best_threshold_tpr)"
   ]
  },
  {
   "cell_type": "code",
   "execution_count": 71,
   "metadata": {},
   "outputs": [
    {
     "name": "stdout",
     "output_type": "stream",
     "text": [
      "df_train shape: (3806, 9)\n",
      "features_train shape: (3806, 8)\n",
      "target_train shape: (3806,)\n",
      "Relatório salvo em: test_result_Support_Vector_Machine_2023_[2020]_False_False.txt\n"
     ]
    }
   ],
   "source": [
    "dados = '../data/selected_data.csv'\n",
    "reference_year = 2023\n",
    "drop_year=[2020]\n",
    "data_filter = False\n",
    "concat_inputs = False\n",
    "random_state = 0\n",
    "\n",
    "df = prepared_data_test(\n",
    "    dados, data_filter, concat_inputs\n",
    ")\n",
    "\n",
    "base_model = SVC(\n",
    "            C=0.1,\n",
    "            degree=4,  # Apenas para kernel 'poly'\n",
    "            gamma='scale',\n",
    "            kernel='poly',\n",
    "            class_weight='balanced',\n",
    "            probability=True,\n",
    "            random_state=random_state\n",
    "            )\n",
    "\n",
    "model_test = \"Support_Vector_Machine\"\n",
    "optimal_threshold = 0.54\n",
    "best_threshold_tpr = 0.5\n",
    "\n",
    "test_evaluated(df, reference_year, drop_year, random_state,\n",
    "                                 data_filter, concat_inputs,\n",
    "                                 base_model, model_test, optimal_threshold, best_threshold_tpr)"
   ]
  },
  {
   "cell_type": "code",
   "execution_count": 72,
   "metadata": {},
   "outputs": [
    {
     "name": "stdout",
     "output_type": "stream",
     "text": [
      "df_train shape: (2039, 9)\n",
      "features_train shape: (2039, 8)\n",
      "target_train shape: (2039,)\n",
      "Relatório salvo em: test_result_Support_Vector_Machine_2023_[2020]_True_False.txt\n"
     ]
    }
   ],
   "source": [
    "dados = '../data/selected_data.csv'\n",
    "reference_year = 2023\n",
    "drop_year=[2020]\n",
    "data_filter = True\n",
    "concat_inputs = False\n",
    "random_state = 0\n",
    "\n",
    "df = prepared_data_test(\n",
    "    dados, data_filter, concat_inputs\n",
    ")\n",
    "\n",
    "base_model = SVC(\n",
    "            C=1,\n",
    "            degree=3,  # Apenas para kernel 'poly'\n",
    "            gamma='auto',\n",
    "            kernel='poly',\n",
    "            class_weight='balanced',\n",
    "            probability=True,\n",
    "            random_state=random_state\n",
    "            )\n",
    "\n",
    "model_test = \"Support_Vector_Machine\"\n",
    "optimal_threshold = 0.52\n",
    "best_threshold_tpr = 0.5\n",
    "\n",
    "test_evaluated(df, reference_year, drop_year, random_state,\n",
    "                                 data_filter, concat_inputs,\n",
    "                                 base_model, model_test, optimal_threshold, best_threshold_tpr)"
   ]
  },
  {
   "cell_type": "code",
   "execution_count": 73,
   "metadata": {},
   "outputs": [
    {
     "name": "stdout",
     "output_type": "stream",
     "text": [
      "df_train shape: (4892, 9)\n",
      "features_train shape: (4892, 8)\n",
      "target_train shape: (4892,)\n",
      "Relatório salvo em: test_result_Support_Vector_Machine_2023_[]_False_False.txt\n"
     ]
    },
    {
     "name": "stderr",
     "output_type": "stream",
     "text": [
      "d:\\Dropbox\\Documentos\\IFPB\\Pesquisa\\Taxa de Evasão\\Dropout Rate Project\\dropout_rate_project\\.venv\\Lib\\site-packages\\sklearn\\metrics\\_classification.py:1565: UndefinedMetricWarning: Precision is ill-defined and being set to 0.0 due to no predicted samples. Use `zero_division` parameter to control this behavior.\n",
      "  _warn_prf(average, modifier, f\"{metric.capitalize()} is\", len(result))\n"
     ]
    }
   ],
   "source": [
    "dados = '../data/selected_data.csv'\n",
    "reference_year = 2023\n",
    "drop_year=[]\n",
    "data_filter = False\n",
    "concat_inputs = False\n",
    "random_state = 0\n",
    "\n",
    "df = prepared_data_test(\n",
    "    dados, data_filter, concat_inputs\n",
    ")\n",
    "\n",
    "base_model = SVC(\n",
    "            C=0.1,\n",
    "            degree=2,  # Apenas para kernel 'poly'\n",
    "            gamma='auto',\n",
    "            kernel='sigmoid',\n",
    "            class_weight='balanced',\n",
    "            probability=True,\n",
    "            random_state=random_state\n",
    "            )\n",
    "\n",
    "model_test = \"Support_Vector_Machine\"\n",
    "optimal_threshold = 0.55\n",
    "best_threshold_tpr = 0.5\n",
    "\n",
    "test_evaluated(df, reference_year, drop_year, random_state,\n",
    "                                 data_filter, concat_inputs,\n",
    "                                 base_model, model_test, optimal_threshold, best_threshold_tpr)"
   ]
  },
  {
   "cell_type": "code",
   "execution_count": 74,
   "metadata": {},
   "outputs": [
    {
     "name": "stdout",
     "output_type": "stream",
     "text": [
      "df_train shape: (2312, 9)\n",
      "features_train shape: (2312, 8)\n",
      "target_train shape: (2312,)\n",
      "Relatório salvo em: test_result_Support_Vector_Machine_2023_[]_True_False.txt\n"
     ]
    }
   ],
   "source": [
    "dados = '../data/selected_data.csv'\n",
    "reference_year = 2023\n",
    "drop_year=[]\n",
    "data_filter = True\n",
    "concat_inputs = False\n",
    "random_state = 0\n",
    "\n",
    "df = prepared_data_test(\n",
    "    dados, data_filter, concat_inputs\n",
    ")\n",
    "\n",
    "base_model = SVC(\n",
    "            C=0.1,\n",
    "            degree=2,  # Apenas para kernel 'poly'\n",
    "            gamma='auto',\n",
    "            kernel='rbf',\n",
    "            class_weight='balanced',\n",
    "            probability=True,\n",
    "            random_state=random_state\n",
    "            )\n",
    "\n",
    "model_test = \"Support_Vector_Machine\"\n",
    "optimal_threshold = 0.46\n",
    "best_threshold_tpr = 0.5\n",
    "\n",
    "test_evaluated(df, reference_year, drop_year, random_state,\n",
    "                                 data_filter, concat_inputs,\n",
    "                                 base_model, model_test, optimal_threshold, best_threshold_tpr)"
   ]
  },
  {
   "cell_type": "code",
   "execution_count": 75,
   "metadata": {},
   "outputs": [
    {
     "name": "stdout",
     "output_type": "stream",
     "text": [
      "df_train shape: (497, 9)\n",
      "features_train shape: (497, 8)\n",
      "target_train shape: (497,)\n",
      "Relatório salvo em: test_result_XG_Boost_2018_[]_False_False.txt\n"
     ]
    }
   ],
   "source": [
    "dados = '../data/selected_data.csv'\n",
    "reference_year = 2018\n",
    "drop_year=[]\n",
    "data_filter = False\n",
    "concat_inputs = False\n",
    "random_state = 0\n",
    "\n",
    "df = prepared_data_test(\n",
    "    dados, data_filter, concat_inputs\n",
    ")\n",
    "\n",
    "scale_pos_weight_val = dmu.get_scale_pos_weight(reference_year)\n",
    "\n",
    "base_model = XGBClassifier(\n",
    "            gamma=0.2,\n",
    "            learning_rate=0.01,\n",
    "            max_depth=3,\n",
    "            n_estimators=250,\n",
    "            reg_alpha=0.1,\n",
    "            reg_lambda=2,\n",
    "            scale_pos_weight=scale_pos_weight_val,\n",
    "            eval_metric='logloss',\n",
    "            random_state=random_state\n",
    "            #subsample=best_hyperparams_grid_search['xgboost__subsample'],\n",
    "            #colsample_bytree=best_hyperparams_grid_search['xgboost__colsample_bytree'],\n",
    "        )\n",
    "\n",
    "model_test = \"XG_Boost\"\n",
    "optimal_threshold = 0.6\n",
    "best_threshold_tpr = 0.5\n",
    "\n",
    "test_evaluated(df, reference_year, drop_year, random_state,\n",
    "                                 data_filter, concat_inputs,\n",
    "                                 base_model, model_test, optimal_threshold, best_threshold_tpr)"
   ]
  },
  {
   "cell_type": "code",
   "execution_count": 76,
   "metadata": {},
   "outputs": [
    {
     "name": "stdout",
     "output_type": "stream",
     "text": [
      "df_train shape: (289, 9)\n",
      "features_train shape: (289, 8)\n",
      "target_train shape: (289,)\n",
      "Relatório salvo em: test_result_XG_Boost_2018_[]_True_False.txt\n"
     ]
    }
   ],
   "source": [
    "dados = '../data/selected_data.csv'\n",
    "reference_year = 2018\n",
    "drop_year=[]\n",
    "data_filter = True\n",
    "concat_inputs = False\n",
    "random_state = 0\n",
    "\n",
    "df = prepared_data_test(\n",
    "    dados, data_filter, concat_inputs\n",
    ")\n",
    "\n",
    "scale_pos_weight_val = dmu.get_scale_pos_weight(reference_year)\n",
    "\n",
    "base_model = XGBClassifier(\n",
    "            gamma=0.1,\n",
    "            learning_rate=0.2,\n",
    "            max_depth=3,\n",
    "            n_estimators=100,\n",
    "            reg_alpha=1,\n",
    "            reg_lambda=1.5,\n",
    "            scale_pos_weight=scale_pos_weight_val,\n",
    "            eval_metric='logloss',\n",
    "            random_state=random_state\n",
    "            #subsample=best_hyperparams_grid_search['xgboost__subsample'],\n",
    "            #colsample_bytree=best_hyperparams_grid_search['xgboost__colsample_bytree'],\n",
    "        )\n",
    "\n",
    "model_test = \"XG_Boost\"\n",
    "optimal_threshold = 0.67\n",
    "best_threshold_tpr = 0.5\n",
    "\n",
    "test_evaluated(df, reference_year, drop_year, random_state,\n",
    "                                 data_filter, concat_inputs,\n",
    "                                 base_model, model_test, optimal_threshold, best_threshold_tpr)"
   ]
  },
  {
   "cell_type": "code",
   "execution_count": 77,
   "metadata": {},
   "outputs": [
    {
     "name": "stdout",
     "output_type": "stream",
     "text": [
      "df_train shape: (967, 9)\n",
      "features_train shape: (967, 8)\n",
      "target_train shape: (967,)\n",
      "Relatório salvo em: test_result_XG_Boost_2019_[]_False_False.txt\n"
     ]
    }
   ],
   "source": [
    "dados = '../data/selected_data.csv'\n",
    "reference_year = 2019\n",
    "drop_year=[]\n",
    "data_filter = False\n",
    "concat_inputs = False\n",
    "random_state = 0\n",
    "\n",
    "df = prepared_data_test(\n",
    "    dados, data_filter, concat_inputs\n",
    ")\n",
    "\n",
    "scale_pos_weight_val = dmu.get_scale_pos_weight(reference_year)\n",
    "\n",
    "base_model = XGBClassifier(\n",
    "            gamma=0.2,\n",
    "            learning_rate=0.01,\n",
    "            max_depth=3,\n",
    "            n_estimators=250,\n",
    "            reg_alpha=0.1,\n",
    "            reg_lambda=1,\n",
    "            scale_pos_weight=scale_pos_weight_val,\n",
    "            eval_metric='logloss',\n",
    "            random_state=random_state\n",
    "            #subsample=best_hyperparams_grid_search['xgboost__subsample'],\n",
    "            #colsample_bytree=best_hyperparams_grid_search['xgboost__colsample_bytree'],\n",
    "        )\n",
    "\n",
    "model_test = \"XG_Boost\"\n",
    "optimal_threshold = 0.48\n",
    "best_threshold_tpr = 0.5\n",
    "\n",
    "test_evaluated(df, reference_year, drop_year, random_state,\n",
    "                                 data_filter, concat_inputs,\n",
    "                                 base_model, model_test, optimal_threshold, best_threshold_tpr)"
   ]
  },
  {
   "cell_type": "code",
   "execution_count": 78,
   "metadata": {},
   "outputs": [
    {
     "name": "stdout",
     "output_type": "stream",
     "text": [
      "df_train shape: (582, 9)\n",
      "features_train shape: (582, 8)\n",
      "target_train shape: (582,)\n",
      "Relatório salvo em: test_result_XG_Boost_2019_[]_True_False.txt\n"
     ]
    }
   ],
   "source": [
    "dados = '../data/selected_data.csv'\n",
    "reference_year = 2019\n",
    "drop_year=[]\n",
    "data_filter = True\n",
    "concat_inputs = False\n",
    "random_state = 0\n",
    "\n",
    "df = prepared_data_test(\n",
    "    dados, data_filter, concat_inputs\n",
    ")\n",
    "\n",
    "scale_pos_weight_val = dmu.get_scale_pos_weight(reference_year)\n",
    "\n",
    "base_model = XGBClassifier(\n",
    "            gamma=0.1,\n",
    "            learning_rate=0.01,\n",
    "            max_depth=3,\n",
    "            n_estimators=250,\n",
    "            reg_alpha=0,\n",
    "            reg_lambda=1,\n",
    "            scale_pos_weight=scale_pos_weight_val,\n",
    "            eval_metric='logloss',\n",
    "            random_state=random_state\n",
    "            #subsample=best_hyperparams_grid_search['xgboost__subsample'],\n",
    "            #colsample_bytree=best_hyperparams_grid_search['xgboost__colsample_bytree'],\n",
    "        )\n",
    "\n",
    "model_test = \"XG_Boost\"\n",
    "optimal_threshold = 0.65\n",
    "best_threshold_tpr = 0.5\n",
    "\n",
    "test_evaluated(df, reference_year, drop_year, random_state,\n",
    "                                 data_filter, concat_inputs,\n",
    "                                 base_model, model_test, optimal_threshold, best_threshold_tpr)"
   ]
  },
  {
   "cell_type": "code",
   "execution_count": 79,
   "metadata": {},
   "outputs": [
    {
     "name": "stdout",
     "output_type": "stream",
     "text": [
      "df_train shape: (1550, 9)\n",
      "features_train shape: (1550, 8)\n",
      "target_train shape: (1550,)\n",
      "Relatório salvo em: test_result_XG_Boost_2020_[]_False_False.txt\n"
     ]
    }
   ],
   "source": [
    "dados = '../data/selected_data.csv'\n",
    "reference_year = 2020\n",
    "drop_year=[]\n",
    "data_filter = False\n",
    "concat_inputs = False\n",
    "random_state = 0\n",
    "\n",
    "df = prepared_data_test(\n",
    "    dados, data_filter, concat_inputs\n",
    ")\n",
    "\n",
    "scale_pos_weight_val = dmu.get_scale_pos_weight(reference_year)\n",
    "\n",
    "base_model = XGBClassifier(\n",
    "            gamma=0.1,\n",
    "            learning_rate=0.01,\n",
    "            max_depth=7,\n",
    "            n_estimators=250,\n",
    "            reg_alpha=0.1,\n",
    "            reg_lambda=1,\n",
    "            scale_pos_weight=scale_pos_weight_val,\n",
    "            eval_metric='logloss',\n",
    "            random_state=random_state\n",
    "            #subsample=best_hyperparams_grid_search['xgboost__subsample'],\n",
    "            #colsample_bytree=best_hyperparams_grid_search['xgboost__colsample_bytree'],\n",
    "        )\n",
    "\n",
    "model_test = \"XG_Boost\"\n",
    "optimal_threshold = 0.5\n",
    "best_threshold_tpr = 0.5\n",
    "\n",
    "test_evaluated(df, reference_year, drop_year, random_state,\n",
    "                                 data_filter, concat_inputs,\n",
    "                                 base_model, model_test, optimal_threshold, best_threshold_tpr)"
   ]
  },
  {
   "cell_type": "code",
   "execution_count": 80,
   "metadata": {},
   "outputs": [
    {
     "name": "stdout",
     "output_type": "stream",
     "text": [
      "df_train shape: (902, 9)\n",
      "features_train shape: (902, 8)\n",
      "target_train shape: (902,)\n",
      "Relatório salvo em: test_result_XG_Boost_2020_[]_True_False.txt\n"
     ]
    }
   ],
   "source": [
    "dados = '../data/selected_data.csv'\n",
    "reference_year = 2020\n",
    "drop_year=[]\n",
    "data_filter = True\n",
    "concat_inputs = False\n",
    "random_state = 0\n",
    "\n",
    "df = prepared_data_test(\n",
    "    dados, data_filter, concat_inputs\n",
    ")\n",
    "\n",
    "scale_pos_weight_val = dmu.get_scale_pos_weight(reference_year)\n",
    "\n",
    "base_model = XGBClassifier(\n",
    "            gamma=0.1,\n",
    "            learning_rate=0.1,\n",
    "            max_depth=7,\n",
    "            n_estimators=100,\n",
    "            reg_alpha=1,\n",
    "            reg_lambda=1.5,\n",
    "            scale_pos_weight=scale_pos_weight_val,\n",
    "            eval_metric='logloss',\n",
    "            random_state=random_state\n",
    "            #subsample=best_hyperparams_grid_search['xgboost__subsample'],\n",
    "            #colsample_bytree=best_hyperparams_grid_search['xgboost__colsample_bytree'],\n",
    "        )\n",
    "\n",
    "model_test = \"XG_Boost\"\n",
    "optimal_threshold = 0.72\n",
    "best_threshold_tpr = 0.5\n",
    "\n",
    "test_evaluated(df, reference_year, drop_year, random_state,\n",
    "                                 data_filter, concat_inputs,\n",
    "                                 base_model, model_test, optimal_threshold, best_threshold_tpr)"
   ]
  },
  {
   "cell_type": "code",
   "execution_count": 81,
   "metadata": {},
   "outputs": [
    {
     "name": "stdout",
     "output_type": "stream",
     "text": [
      "df_train shape: (1550, 9)\n",
      "features_train shape: (1550, 8)\n",
      "target_train shape: (1550,)\n",
      "Relatório salvo em: test_result_XG_Boost_2021_[2020]_False_False.txt\n"
     ]
    }
   ],
   "source": [
    "dados = '../data/selected_data.csv'\n",
    "reference_year = 2021\n",
    "drop_year=[2020]\n",
    "data_filter = False\n",
    "concat_inputs = False\n",
    "random_state = 0\n",
    "\n",
    "df = prepared_data_test(\n",
    "    dados, data_filter, concat_inputs\n",
    ")\n",
    "\n",
    "scale_pos_weight_val = dmu.get_scale_pos_weight(reference_year)\n",
    "\n",
    "base_model = XGBClassifier(\n",
    "            gamma=0.2,\n",
    "            learning_rate=0.01,\n",
    "            max_depth=7,\n",
    "            n_estimators=250,\n",
    "            reg_alpha=0.1,\n",
    "            reg_lambda=2,\n",
    "            scale_pos_weight=scale_pos_weight_val,\n",
    "            eval_metric='logloss',\n",
    "            random_state=random_state\n",
    "            #subsample=best_hyperparams_grid_search['xgboost__subsample'],\n",
    "            #colsample_bytree=best_hyperparams_grid_search['xgboost__colsample_bytree'],\n",
    "        )\n",
    "\n",
    "model_test = \"XG_Boost\"\n",
    "optimal_threshold = 0.5\n",
    "best_threshold_tpr = 0.5\n",
    "\n",
    "test_evaluated(df, reference_year, drop_year, random_state,\n",
    "                                 data_filter, concat_inputs,\n",
    "                                 base_model, model_test, optimal_threshold, best_threshold_tpr)"
   ]
  },
  {
   "cell_type": "code",
   "execution_count": 82,
   "metadata": {},
   "outputs": [
    {
     "name": "stdout",
     "output_type": "stream",
     "text": [
      "df_train shape: (902, 9)\n",
      "features_train shape: (902, 8)\n",
      "target_train shape: (902,)\n",
      "Relatório salvo em: test_result_XG_Boost_2021_[2020]_True_False.txt\n"
     ]
    }
   ],
   "source": [
    "dados = '../data/selected_data.csv'\n",
    "reference_year = 2021\n",
    "drop_year=[2020]\n",
    "data_filter = True\n",
    "concat_inputs = False\n",
    "random_state = 0\n",
    "\n",
    "df = prepared_data_test(\n",
    "    dados, data_filter, concat_inputs\n",
    ")\n",
    "\n",
    "scale_pos_weight_val = dmu.get_scale_pos_weight(reference_year)\n",
    "\n",
    "base_model = XGBClassifier(\n",
    "            gamma=0.2,\n",
    "            learning_rate=0.1,\n",
    "            max_depth=5,\n",
    "            n_estimators=100,\n",
    "            reg_alpha=1,\n",
    "            reg_lambda=2,\n",
    "            scale_pos_weight=scale_pos_weight_val,\n",
    "            eval_metric='logloss',\n",
    "            random_state=random_state\n",
    "            #subsample=best_hyperparams_grid_search['xgboost__subsample'],\n",
    "            #colsample_bytree=best_hyperparams_grid_search['xgboost__colsample_bytree'],\n",
    "        )\n",
    "\n",
    "model_test = \"XG_Boost\"\n",
    "optimal_threshold = 0.71\n",
    "best_threshold_tpr = 0.5\n",
    "\n",
    "test_evaluated(df, reference_year, drop_year, random_state,\n",
    "                                 data_filter, concat_inputs,\n",
    "                                 base_model, model_test, optimal_threshold, best_threshold_tpr)"
   ]
  },
  {
   "cell_type": "code",
   "execution_count": 83,
   "metadata": {},
   "outputs": [
    {
     "name": "stdout",
     "output_type": "stream",
     "text": [
      "df_train shape: (2636, 9)\n",
      "features_train shape: (2636, 8)\n",
      "target_train shape: (2636,)\n",
      "Relatório salvo em: test_result_XG_Boost_2021_[]_False_False.txt\n"
     ]
    },
    {
     "name": "stderr",
     "output_type": "stream",
     "text": [
      "d:\\Dropbox\\Documentos\\IFPB\\Pesquisa\\Taxa de Evasão\\Dropout Rate Project\\dropout_rate_project\\.venv\\Lib\\site-packages\\sklearn\\metrics\\_classification.py:1565: UndefinedMetricWarning: Precision is ill-defined and being set to 0.0 due to no predicted samples. Use `zero_division` parameter to control this behavior.\n",
      "  _warn_prf(average, modifier, f\"{metric.capitalize()} is\", len(result))\n"
     ]
    }
   ],
   "source": [
    "dados = '../data/selected_data.csv'\n",
    "reference_year = 2021\n",
    "drop_year=[]\n",
    "data_filter = False\n",
    "concat_inputs = False\n",
    "random_state = 0\n",
    "\n",
    "df = prepared_data_test(\n",
    "    dados, data_filter, concat_inputs\n",
    ")\n",
    "\n",
    "scale_pos_weight_val = dmu.get_scale_pos_weight(reference_year)\n",
    "\n",
    "base_model = XGBClassifier(\n",
    "            gamma=0.1,\n",
    "            learning_rate=0.01,\n",
    "            max_depth=5,\n",
    "            n_estimators=100,\n",
    "            reg_alpha=1,\n",
    "            reg_lambda=2,\n",
    "            scale_pos_weight=scale_pos_weight_val,\n",
    "            eval_metric='logloss',\n",
    "            random_state=random_state\n",
    "            #subsample=best_hyperparams_grid_search['xgboost__subsample'],\n",
    "            #colsample_bytree=best_hyperparams_grid_search['xgboost__colsample_bytree'],\n",
    "        )\n",
    "\n",
    "model_test = \"XG_Boost\"\n",
    "optimal_threshold = 0.7\n",
    "best_threshold_tpr = 0.5\n",
    "\n",
    "test_evaluated(df, reference_year, drop_year, random_state,\n",
    "                                 data_filter, concat_inputs,\n",
    "                                 base_model, model_test, optimal_threshold, best_threshold_tpr)"
   ]
  },
  {
   "cell_type": "code",
   "execution_count": 84,
   "metadata": {},
   "outputs": [
    {
     "name": "stdout",
     "output_type": "stream",
     "text": [
      "df_train shape: (1175, 9)\n",
      "features_train shape: (1175, 8)\n",
      "target_train shape: (1175,)\n",
      "Relatório salvo em: test_result_XG_Boost_2021_[]_True_False.txt\n"
     ]
    }
   ],
   "source": [
    "dados = '../data/selected_data.csv'\n",
    "reference_year = 2021\n",
    "drop_year=[]\n",
    "data_filter = True\n",
    "concat_inputs = False\n",
    "random_state = 0\n",
    "\n",
    "df = prepared_data_test(\n",
    "    dados, data_filter, concat_inputs\n",
    ")\n",
    "\n",
    "scale_pos_weight_val = dmu.get_scale_pos_weight(reference_year)\n",
    "\n",
    "base_model = XGBClassifier(\n",
    "            gamma=0,\n",
    "            learning_rate=0.01,\n",
    "            max_depth=3,\n",
    "            n_estimators=250,\n",
    "            reg_alpha=1,\n",
    "            reg_lambda=1,\n",
    "            scale_pos_weight=scale_pos_weight_val,\n",
    "            eval_metric='logloss',\n",
    "            random_state=random_state\n",
    "            #subsample=best_hyperparams_grid_search['xgboost__subsample'],\n",
    "            #colsample_bytree=best_hyperparams_grid_search['xgboost__colsample_bytree'],\n",
    "        )\n",
    "\n",
    "model_test = \"XG_Boost\"\n",
    "optimal_threshold = 0.79\n",
    "best_threshold_tpr = 0.5\n",
    "\n",
    "test_evaluated(df, reference_year, drop_year, random_state,\n",
    "                                 data_filter, concat_inputs,\n",
    "                                 base_model, model_test, optimal_threshold, best_threshold_tpr)"
   ]
  },
  {
   "cell_type": "code",
   "execution_count": 85,
   "metadata": {},
   "outputs": [
    {
     "name": "stdout",
     "output_type": "stream",
     "text": [
      "df_train shape: (2899, 9)\n",
      "features_train shape: (2899, 8)\n",
      "target_train shape: (2899,)\n",
      "Relatório salvo em: test_result_XG_Boost_2022_[2020]_False_False.txt\n"
     ]
    }
   ],
   "source": [
    "dados = '../data/selected_data.csv'\n",
    "reference_year = 2022\n",
    "drop_year=[2020]\n",
    "data_filter = False\n",
    "concat_inputs = False\n",
    "random_state = 0\n",
    "\n",
    "df = prepared_data_test(\n",
    "    dados, data_filter, concat_inputs\n",
    ")\n",
    "\n",
    "scale_pos_weight_val = dmu.get_scale_pos_weight(reference_year)\n",
    "\n",
    "base_model = XGBClassifier(\n",
    "            gamma=0.2,\n",
    "            learning_rate=0.1,\n",
    "            max_depth=3,\n",
    "            n_estimators=100,\n",
    "            reg_alpha=0,\n",
    "            reg_lambda=1.5,\n",
    "            scale_pos_weight=scale_pos_weight_val,\n",
    "            eval_metric='logloss',\n",
    "            random_state=random_state\n",
    "            #subsample=best_hyperparams_grid_search['xgboost__subsample'],\n",
    "            #colsample_bytree=best_hyperparams_grid_search['xgboost__colsample_bytree'],\n",
    "        )\n",
    "\n",
    "model_test = \"XG_Boost\"\n",
    "optimal_threshold = 0.74\n",
    "best_threshold_tpr = 0.5\n",
    "\n",
    "test_evaluated(df, reference_year, drop_year, random_state,\n",
    "                                 data_filter, concat_inputs,\n",
    "                                 base_model, model_test, optimal_threshold, best_threshold_tpr)"
   ]
  },
  {
   "cell_type": "code",
   "execution_count": 86,
   "metadata": {},
   "outputs": [
    {
     "name": "stdout",
     "output_type": "stream",
     "text": [
      "df_train shape: (1436, 9)\n",
      "features_train shape: (1436, 8)\n",
      "target_train shape: (1436,)\n",
      "Relatório salvo em: test_result_XG_Boost_2022_[2020]_True_False.txt\n"
     ]
    }
   ],
   "source": [
    "dados = '../data/selected_data.csv'\n",
    "reference_year = 2022\n",
    "drop_year=[2020]\n",
    "data_filter = True\n",
    "concat_inputs = False\n",
    "random_state = 0\n",
    "\n",
    "df = prepared_data_test(\n",
    "    dados, data_filter, concat_inputs\n",
    ")\n",
    "\n",
    "scale_pos_weight_val = dmu.get_scale_pos_weight(reference_year)\n",
    "\n",
    "base_model = XGBClassifier(\n",
    "            gamma=0,\n",
    "            learning_rate=0.01,\n",
    "            max_depth=3,\n",
    "            n_estimators=250,\n",
    "            reg_alpha=1,\n",
    "            reg_lambda=2,\n",
    "            scale_pos_weight=scale_pos_weight_val,\n",
    "            eval_metric='logloss',\n",
    "            random_state=random_state\n",
    "            #subsample=best_hyperparams_grid_search['xgboost__subsample'],\n",
    "            #colsample_bytree=best_hyperparams_grid_search['xgboost__colsample_bytree'],\n",
    "        )\n",
    "\n",
    "model_test = \"XG_Boost\"\n",
    "optimal_threshold = 0.5\n",
    "best_threshold_tpr = 0.5\n",
    "\n",
    "test_evaluated(df, reference_year, drop_year, random_state,\n",
    "                                 data_filter, concat_inputs,\n",
    "                                 base_model, model_test, optimal_threshold, best_threshold_tpr)"
   ]
  },
  {
   "cell_type": "code",
   "execution_count": 87,
   "metadata": {},
   "outputs": [
    {
     "name": "stdout",
     "output_type": "stream",
     "text": [
      "df_train shape: (3985, 9)\n",
      "features_train shape: (3985, 8)\n",
      "target_train shape: (3985,)\n",
      "Relatório salvo em: test_result_XG_Boost_2022_[]_False_False.txt\n"
     ]
    }
   ],
   "source": [
    "dados = '../data/selected_data.csv'\n",
    "reference_year = 2022\n",
    "drop_year=[]\n",
    "data_filter = False\n",
    "concat_inputs = False\n",
    "random_state = 0\n",
    "\n",
    "df = prepared_data_test(\n",
    "    dados, data_filter, concat_inputs\n",
    ")\n",
    "\n",
    "scale_pos_weight_val = dmu.get_scale_pos_weight(reference_year)\n",
    "\n",
    "base_model = XGBClassifier(\n",
    "            gamma=0.2,\n",
    "            learning_rate=0.01,\n",
    "            max_depth=3,\n",
    "            n_estimators=100,\n",
    "            reg_alpha=1,\n",
    "            reg_lambda=2,\n",
    "            scale_pos_weight=scale_pos_weight_val,\n",
    "            eval_metric='logloss',\n",
    "            random_state=random_state\n",
    "            #subsample=best_hyperparams_grid_search['xgboost__subsample'],\n",
    "            #colsample_bytree=best_hyperparams_grid_search['xgboost__colsample_bytree'],\n",
    "        )\n",
    "\n",
    "model_test = \"XG_Boost\"\n",
    "optimal_threshold = 0.5\n",
    "best_threshold_tpr = 0.5\n",
    "\n",
    "test_evaluated(df, reference_year, drop_year, random_state,\n",
    "                                 data_filter, concat_inputs,\n",
    "                                 base_model, model_test, optimal_threshold, best_threshold_tpr)"
   ]
  },
  {
   "cell_type": "code",
   "execution_count": 88,
   "metadata": {},
   "outputs": [
    {
     "name": "stdout",
     "output_type": "stream",
     "text": [
      "df_train shape: (1709, 9)\n",
      "features_train shape: (1709, 8)\n",
      "target_train shape: (1709,)\n",
      "Relatório salvo em: test_result_XG_Boost_2022_[]_True_False.txt\n"
     ]
    },
    {
     "name": "stderr",
     "output_type": "stream",
     "text": [
      "d:\\Dropbox\\Documentos\\IFPB\\Pesquisa\\Taxa de Evasão\\Dropout Rate Project\\dropout_rate_project\\.venv\\Lib\\site-packages\\sklearn\\metrics\\_classification.py:1565: UndefinedMetricWarning: Precision is ill-defined and being set to 0.0 due to no predicted samples. Use `zero_division` parameter to control this behavior.\n",
      "  _warn_prf(average, modifier, f\"{metric.capitalize()} is\", len(result))\n"
     ]
    }
   ],
   "source": [
    "dados = '../data/selected_data.csv'\n",
    "reference_year = 2022\n",
    "drop_year=[]\n",
    "data_filter = True\n",
    "concat_inputs = False\n",
    "random_state = 0\n",
    "\n",
    "df = prepared_data_test(\n",
    "    dados, data_filter, concat_inputs\n",
    ")\n",
    "\n",
    "scale_pos_weight_val = dmu.get_scale_pos_weight(reference_year)\n",
    "\n",
    "base_model = XGBClassifier(\n",
    "            gamma=0,\n",
    "            learning_rate=0.01,\n",
    "            max_depth=3,\n",
    "            n_estimators=100,\n",
    "            reg_alpha=0.1,\n",
    "            reg_lambda=2,\n",
    "            scale_pos_weight=scale_pos_weight_val,\n",
    "            eval_metric='logloss',\n",
    "            random_state=random_state\n",
    "            #subsample=best_hyperparams_grid_search['xgboost__subsample'],\n",
    "            #colsample_bytree=best_hyperparams_grid_search['xgboost__colsample_bytree'],\n",
    "        )\n",
    "\n",
    "model_test = \"XG_Boost\"\n",
    "optimal_threshold = 0.66\n",
    "best_threshold_tpr = 0.5\n",
    "\n",
    "test_evaluated(df, reference_year, drop_year, random_state,\n",
    "                                 data_filter, concat_inputs,\n",
    "                                 base_model, model_test, optimal_threshold, best_threshold_tpr)"
   ]
  },
  {
   "cell_type": "code",
   "execution_count": 124,
   "metadata": {},
   "outputs": [
    {
     "name": "stdout",
     "output_type": "stream",
     "text": [
      "df_train shape: (3806, 9)\n",
      "features_train shape: (3806, 8)\n",
      "target_train shape: (3806,)\n",
      "Relatório salvo em: test_result_XG_Boost_2023_[2020]_False_False.txt\n"
     ]
    }
   ],
   "source": [
    "dados = '../data/selected_data.csv'\n",
    "reference_year = 2023\n",
    "drop_year=[2020]\n",
    "data_filter = False\n",
    "concat_inputs = False\n",
    "random_state = 0\n",
    "\n",
    "df = prepared_data_test(\n",
    "    dados, data_filter, concat_inputs\n",
    ")\n",
    "\n",
    "scale_pos_weight_val = dmu.get_scale_pos_weight(reference_year)\n",
    "\n",
    "base_model = XGBClassifier(\n",
    "            gamma=0.1,\n",
    "            learning_rate=0.01,\n",
    "            max_depth=3,\n",
    "            n_estimators=250,\n",
    "            reg_alpha=0.1,\n",
    "            reg_lambda=1,\n",
    "            scale_pos_weight=scale_pos_weight_val,\n",
    "            eval_metric='logloss',\n",
    "            random_state=random_state\n",
    "            #subsample=best_hyperparams_grid_search['xgboost__subsample'],\n",
    "            #colsample_bytree=best_hyperparams_grid_search['xgboost__colsample_bytree'],\n",
    "        )\n",
    "\n",
    "model_test = \"XG_Boost\"\n",
    "optimal_threshold = 0.69\n",
    "best_threshold_tpr = 0.5\n",
    "\n",
    "test_evaluated(df, reference_year, drop_year, random_state,\n",
    "                                 data_filter, concat_inputs,\n",
    "                                 base_model, model_test, optimal_threshold, best_threshold_tpr)"
   ]
  },
  {
   "cell_type": "code",
   "execution_count": 90,
   "metadata": {},
   "outputs": [
    {
     "name": "stdout",
     "output_type": "stream",
     "text": [
      "df_train shape: (2039, 9)\n",
      "features_train shape: (2039, 8)\n",
      "target_train shape: (2039,)\n",
      "Relatório salvo em: test_result_XG_Boost_2023_[2020]_True_False.txt\n"
     ]
    }
   ],
   "source": [
    "dados = '../data/selected_data.csv'\n",
    "reference_year = 2023\n",
    "drop_year=[2020]\n",
    "data_filter = True\n",
    "concat_inputs = False\n",
    "random_state = 0\n",
    "\n",
    "df = prepared_data_test(\n",
    "    dados, data_filter, concat_inputs\n",
    ")\n",
    "\n",
    "scale_pos_weight_val = dmu.get_scale_pos_weight(reference_year)\n",
    "\n",
    "base_model = XGBClassifier(\n",
    "            gamma=0.2,\n",
    "            learning_rate=0.01,\n",
    "            max_depth=3,\n",
    "            n_estimators=100,\n",
    "            reg_alpha=0,\n",
    "            reg_lambda=1.5,\n",
    "            scale_pos_weight=scale_pos_weight_val,\n",
    "            eval_metric='logloss',\n",
    "            random_state=random_state\n",
    "            #subsample=best_hyperparams_grid_search['xgboost__subsample'],\n",
    "            #colsample_bytree=best_hyperparams_grid_search['xgboost__colsample_bytree'],\n",
    "        )\n",
    "\n",
    "model_test = \"XG_Boost\"\n",
    "optimal_threshold = 0.63\n",
    "best_threshold_tpr = 0.5\n",
    "\n",
    "test_evaluated(df, reference_year, drop_year, random_state,\n",
    "                                 data_filter, concat_inputs,\n",
    "                                 base_model, model_test, optimal_threshold, best_threshold_tpr)"
   ]
  },
  {
   "cell_type": "code",
   "execution_count": 91,
   "metadata": {},
   "outputs": [
    {
     "name": "stdout",
     "output_type": "stream",
     "text": [
      "df_train shape: (4892, 9)\n",
      "features_train shape: (4892, 8)\n",
      "target_train shape: (4892,)\n",
      "Relatório salvo em: test_result_XG_Boost_2023_[]_False_False.txt\n"
     ]
    }
   ],
   "source": [
    "dados = '../data/selected_data.csv'\n",
    "reference_year = 2023\n",
    "drop_year=[]\n",
    "data_filter = False\n",
    "concat_inputs = False\n",
    "random_state = 0\n",
    "\n",
    "df = prepared_data_test(\n",
    "    dados, data_filter, concat_inputs\n",
    ")\n",
    "\n",
    "scale_pos_weight_val = dmu.get_scale_pos_weight(reference_year)\n",
    "\n",
    "base_model = XGBClassifier(\n",
    "            gamma=0,\n",
    "            learning_rate=0.01,\n",
    "            max_depth=3,\n",
    "            n_estimators=250,\n",
    "            reg_alpha=0,\n",
    "            reg_lambda=1,\n",
    "            scale_pos_weight=scale_pos_weight_val,\n",
    "            eval_metric='logloss',\n",
    "            random_state=random_state\n",
    "            #subsample=best_hyperparams_grid_search['xgboost__subsample'],\n",
    "            #colsample_bytree=best_hyperparams_grid_search['xgboost__colsample_bytree'],\n",
    "        )\n",
    "\n",
    "model_test = \"XG_Boost\"\n",
    "optimal_threshold = 0.5\n",
    "best_threshold_tpr = 0.5\n",
    "\n",
    "test_evaluated(df, reference_year, drop_year, random_state,\n",
    "                                 data_filter, concat_inputs,\n",
    "                                 base_model, model_test, optimal_threshold, best_threshold_tpr)"
   ]
  },
  {
   "cell_type": "code",
   "execution_count": 92,
   "metadata": {},
   "outputs": [
    {
     "name": "stdout",
     "output_type": "stream",
     "text": [
      "df_train shape: (2312, 9)\n",
      "features_train shape: (2312, 8)\n",
      "target_train shape: (2312,)\n",
      "Relatório salvo em: test_result_XG_Boost_2023_[]_True_False.txt\n"
     ]
    }
   ],
   "source": [
    "dados = '../data/selected_data.csv'\n",
    "reference_year = 2023\n",
    "drop_year=[]\n",
    "data_filter = True\n",
    "concat_inputs = False\n",
    "random_state = 0\n",
    "\n",
    "df = prepared_data_test(\n",
    "    dados, data_filter, concat_inputs\n",
    ")\n",
    "\n",
    "scale_pos_weight_val = dmu.get_scale_pos_weight(reference_year)\n",
    "\n",
    "base_model = XGBClassifier(\n",
    "            gamma=0.2,\n",
    "            learning_rate=0.01,\n",
    "            max_depth=5,\n",
    "            n_estimators=100,\n",
    "            reg_alpha=1,\n",
    "            reg_lambda=1.5,\n",
    "            scale_pos_weight=scale_pos_weight_val,\n",
    "            eval_metric='logloss',\n",
    "            random_state=random_state\n",
    "            #subsample=best_hyperparams_grid_search['xgboost__subsample'],\n",
    "            #colsample_bytree=best_hyperparams_grid_search['xgboost__colsample_bytree'],\n",
    "        )\n",
    "\n",
    "model_test = \"XG_Boost\"\n",
    "optimal_threshold = 0.5\n",
    "best_threshold_tpr = 0.5\n",
    "\n",
    "test_evaluated(df, reference_year, drop_year, random_state,\n",
    "                                 data_filter, concat_inputs,\n",
    "                                 base_model, model_test, optimal_threshold, best_threshold_tpr)"
   ]
  },
  {
   "cell_type": "code",
   "execution_count": 93,
   "metadata": {},
   "outputs": [
    {
     "name": "stdout",
     "output_type": "stream",
     "text": [
      "df_train shape: (497, 9)\n",
      "features_train shape: (497, 8)\n",
      "target_train shape: (497,)\n",
      "Relatório salvo em: test_result_KNN_2018_[]_False_False.txt\n"
     ]
    },
    {
     "name": "stderr",
     "output_type": "stream",
     "text": [
      "d:\\Dropbox\\Documentos\\IFPB\\Pesquisa\\Taxa de Evasão\\Dropout Rate Project\\dropout_rate_project\\.venv\\Lib\\site-packages\\joblib\\externals\\loky\\backend\\context.py:136: UserWarning: Could not find the number of physical cores for the following reason:\n",
      "found 0 physical cores < 1\n",
      "Returning the number of logical cores instead. You can silence this warning by setting LOKY_MAX_CPU_COUNT to the number of cores you want to use.\n",
      "  warnings.warn(\n",
      "  File \"d:\\Dropbox\\Documentos\\IFPB\\Pesquisa\\Taxa de Evasão\\Dropout Rate Project\\dropout_rate_project\\.venv\\Lib\\site-packages\\joblib\\externals\\loky\\backend\\context.py\", line 282, in _count_physical_cores\n",
      "    raise ValueError(f\"found {cpu_count_physical} physical cores < 1\")\n"
     ]
    }
   ],
   "source": [
    "dados = '../data/selected_data.csv'\n",
    "reference_year = 2018\n",
    "drop_year=[]\n",
    "data_filter = False\n",
    "concat_inputs = False\n",
    "random_state = 0\n",
    "\n",
    "df = prepared_data_test(\n",
    "    dados, data_filter, concat_inputs\n",
    ")\n",
    "\n",
    "# base model\n",
    "base_model = KNeighborsClassifier(metric = 'manhattan', n_neighbors = 7, p = 1, weights = 'uniform',  )\n",
    "\n",
    "model_test = \"KNN\"\n",
    "optimal_threshold = 0.57\n",
    "best_threshold_tpr = 0.5\n",
    "\n",
    "test_evaluated(df, reference_year, drop_year, random_state,\n",
    "                                 data_filter, concat_inputs,\n",
    "                                 base_model, model_test, optimal_threshold, best_threshold_tpr)"
   ]
  },
  {
   "cell_type": "code",
   "execution_count": 94,
   "metadata": {},
   "outputs": [
    {
     "name": "stdout",
     "output_type": "stream",
     "text": [
      "df_train shape: (289, 9)\n",
      "features_train shape: (289, 8)\n",
      "target_train shape: (289,)\n",
      "Relatório salvo em: test_result_KNN_2018_[]_True_False.txt\n"
     ]
    }
   ],
   "source": [
    "dados = '../data/selected_data.csv'\n",
    "reference_year = 2018\n",
    "drop_year=[]\n",
    "data_filter = True\n",
    "concat_inputs = False\n",
    "random_state = 0\n",
    "\n",
    "df = prepared_data_test(\n",
    "    dados, data_filter, concat_inputs\n",
    ")\n",
    "\n",
    "# base model\n",
    "base_model = KNeighborsClassifier(metric = 'manhattan', n_neighbors = 7, p = 1, weights = 'uniform',  )\n",
    "\n",
    "model_test = \"KNN\"\n",
    "optimal_threshold = 0.57\n",
    "best_threshold_tpr = 0.5\n",
    "\n",
    "test_evaluated(df, reference_year, drop_year, random_state,\n",
    "                                 data_filter, concat_inputs,\n",
    "                                 base_model, model_test, optimal_threshold, best_threshold_tpr)"
   ]
  },
  {
   "cell_type": "code",
   "execution_count": 95,
   "metadata": {},
   "outputs": [
    {
     "name": "stdout",
     "output_type": "stream",
     "text": [
      "df_train shape: (967, 9)\n",
      "features_train shape: (967, 8)\n",
      "target_train shape: (967,)\n",
      "Relatório salvo em: test_result_KNN_2019_[]_False_False.txt\n"
     ]
    },
    {
     "name": "stderr",
     "output_type": "stream",
     "text": [
      "d:\\Dropbox\\Documentos\\IFPB\\Pesquisa\\Taxa de Evasão\\Dropout Rate Project\\dropout_rate_project\\.venv\\Lib\\site-packages\\sklearn\\metrics\\_classification.py:1565: UndefinedMetricWarning: Precision is ill-defined and being set to 0.0 due to no predicted samples. Use `zero_division` parameter to control this behavior.\n",
      "  _warn_prf(average, modifier, f\"{metric.capitalize()} is\", len(result))\n"
     ]
    }
   ],
   "source": [
    "dados = '../data/selected_data.csv'\n",
    "reference_year = 2019\n",
    "drop_year=[]\n",
    "data_filter = False\n",
    "concat_inputs = False\n",
    "random_state = 0\n",
    "\n",
    "df = prepared_data_test(\n",
    "    dados, data_filter, concat_inputs\n",
    ")\n",
    "\n",
    "# base model\n",
    "base_model = KNeighborsClassifier(metric = 'manhattan', n_neighbors = 7, p = 1, weights = 'uniform',  )\n",
    "\n",
    "model_test = \"KNN\"\n",
    "optimal_threshold = 0.86\n",
    "best_threshold_tpr = 0.5\n",
    "\n",
    "test_evaluated(df, reference_year, drop_year, random_state,\n",
    "                                 data_filter, concat_inputs,\n",
    "                                 base_model, model_test, optimal_threshold, best_threshold_tpr)"
   ]
  },
  {
   "cell_type": "code",
   "execution_count": 96,
   "metadata": {},
   "outputs": [
    {
     "name": "stdout",
     "output_type": "stream",
     "text": [
      "df_train shape: (582, 9)\n",
      "features_train shape: (582, 8)\n",
      "target_train shape: (582,)\n",
      "Relatório salvo em: test_result_KNN_2019_[]_True_False.txt\n"
     ]
    }
   ],
   "source": [
    "dados = '../data/selected_data.csv'\n",
    "reference_year = 2019\n",
    "drop_year=[]\n",
    "data_filter = True\n",
    "concat_inputs = False\n",
    "random_state = 0\n",
    "\n",
    "df = prepared_data_test(\n",
    "    dados, data_filter, concat_inputs\n",
    ")\n",
    "\n",
    "# base model\n",
    "base_model = KNeighborsClassifier(metric = 'euclidean', n_neighbors = 5, p = 1, weights = 'uniform',  )\n",
    "\n",
    "model_test = \"KNN\"\n",
    "optimal_threshold = 0.6\n",
    "best_threshold_tpr = 0.5\n",
    "\n",
    "test_evaluated(df, reference_year, drop_year, random_state,\n",
    "                                 data_filter, concat_inputs,\n",
    "                                 base_model, model_test, optimal_threshold, best_threshold_tpr)"
   ]
  },
  {
   "cell_type": "code",
   "execution_count": 97,
   "metadata": {},
   "outputs": [
    {
     "name": "stdout",
     "output_type": "stream",
     "text": [
      "df_train shape: (1550, 9)\n",
      "features_train shape: (1550, 8)\n",
      "target_train shape: (1550,)\n",
      "Relatório salvo em: test_result_KNN_2020_[]_False_False.txt\n"
     ]
    }
   ],
   "source": [
    "dados = '../data/selected_data.csv'\n",
    "reference_year = 2020\n",
    "drop_year=[]\n",
    "data_filter = False\n",
    "concat_inputs = False\n",
    "random_state = 0\n",
    "\n",
    "df = prepared_data_test(\n",
    "    dados, data_filter, concat_inputs\n",
    ")\n",
    "\n",
    "# base model\n",
    "base_model = KNeighborsClassifier(metric = 'manhattan', n_neighbors = 7, p = 1, weights = 'uniform',  )\n",
    "\n",
    "model_test = \"KNN\"\n",
    "optimal_threshold = 0.5\n",
    "best_threshold_tpr = 0.5\n",
    "\n",
    "test_evaluated(df, reference_year, drop_year, random_state,\n",
    "                                 data_filter, concat_inputs,\n",
    "                                 base_model, model_test, optimal_threshold, best_threshold_tpr)"
   ]
  },
  {
   "cell_type": "code",
   "execution_count": 98,
   "metadata": {},
   "outputs": [
    {
     "name": "stdout",
     "output_type": "stream",
     "text": [
      "df_train shape: (902, 9)\n",
      "features_train shape: (902, 8)\n",
      "target_train shape: (902,)\n",
      "Relatório salvo em: test_result_KNN_2020_[]_True_False.txt\n"
     ]
    }
   ],
   "source": [
    "dados = '../data/selected_data.csv'\n",
    "reference_year = 2020\n",
    "drop_year=[]\n",
    "data_filter = True\n",
    "concat_inputs = False\n",
    "random_state = 0\n",
    "\n",
    "df = prepared_data_test(\n",
    "    dados, data_filter, concat_inputs\n",
    ")\n",
    "\n",
    "# base model\n",
    "base_model = KNeighborsClassifier(metric = 'manhattan', n_neighbors = 7, p = 1, weights = 'uniform',  )\n",
    "\n",
    "model_test = \"KNN\"\n",
    "optimal_threshold = 0.71\n",
    "best_threshold_tpr = 0.5\n",
    "\n",
    "test_evaluated(df, reference_year, drop_year, random_state,\n",
    "                                 data_filter, concat_inputs,\n",
    "                                 base_model, model_test, optimal_threshold, best_threshold_tpr)"
   ]
  },
  {
   "cell_type": "code",
   "execution_count": 99,
   "metadata": {},
   "outputs": [
    {
     "name": "stdout",
     "output_type": "stream",
     "text": [
      "df_train shape: (1550, 9)\n",
      "features_train shape: (1550, 8)\n",
      "target_train shape: (1550,)\n",
      "Relatório salvo em: test_result_KNN_2021_[2020]_False_False.txt\n"
     ]
    }
   ],
   "source": [
    "dados = '../data/selected_data.csv'\n",
    "reference_year = 2021\n",
    "drop_year=[2020]\n",
    "data_filter = False\n",
    "concat_inputs = False\n",
    "random_state = 0\n",
    "\n",
    "df = prepared_data_test(\n",
    "    dados, data_filter, concat_inputs\n",
    ")\n",
    "\n",
    "# base model\n",
    "base_model = KNeighborsClassifier(metric = 'manhattan', n_neighbors = 7, p = 1, weights = 'uniform',  )\n",
    "\n",
    "model_test = \"KNN\"\n",
    "optimal_threshold = 0.5\n",
    "best_threshold_tpr = 0.5\n",
    "\n",
    "test_evaluated(df, reference_year, drop_year, random_state,\n",
    "                                 data_filter, concat_inputs,\n",
    "                                 base_model, model_test, optimal_threshold, best_threshold_tpr)"
   ]
  },
  {
   "cell_type": "code",
   "execution_count": 100,
   "metadata": {},
   "outputs": [
    {
     "name": "stdout",
     "output_type": "stream",
     "text": [
      "df_train shape: (902, 9)\n",
      "features_train shape: (902, 8)\n",
      "target_train shape: (902,)\n",
      "Relatório salvo em: test_result_KNN_2021_[2020]_True_False.txt\n"
     ]
    }
   ],
   "source": [
    "dados = '../data/selected_data.csv'\n",
    "reference_year = 2021\n",
    "drop_year=[2020]\n",
    "data_filter = True\n",
    "concat_inputs = False\n",
    "random_state = 0\n",
    "\n",
    "df = prepared_data_test(\n",
    "    dados, data_filter, concat_inputs\n",
    ")\n",
    "\n",
    "# base model\n",
    "base_model = KNeighborsClassifier(metric = 'manhattan', n_neighbors = 7, p = 1, weights = 'uniform',  )\n",
    "\n",
    "model_test = \"KNN\"\n",
    "optimal_threshold = 0.71\n",
    "best_threshold_tpr = 0.5\n",
    "\n",
    "test_evaluated(df, reference_year, drop_year, random_state,\n",
    "                                 data_filter, concat_inputs,\n",
    "                                 base_model, model_test, optimal_threshold, best_threshold_tpr)"
   ]
  },
  {
   "cell_type": "code",
   "execution_count": 101,
   "metadata": {},
   "outputs": [
    {
     "name": "stdout",
     "output_type": "stream",
     "text": [
      "df_train shape: (2636, 9)\n",
      "features_train shape: (2636, 8)\n",
      "target_train shape: (2636,)\n",
      "Relatório salvo em: test_result_KNN_2021_[]_False_False.txt\n"
     ]
    }
   ],
   "source": [
    "dados = '../data/selected_data.csv'\n",
    "reference_year = 2021\n",
    "drop_year=[]\n",
    "data_filter = False\n",
    "concat_inputs = False\n",
    "random_state = 0\n",
    "\n",
    "df = prepared_data_test(\n",
    "    dados, data_filter, concat_inputs\n",
    ")\n",
    "\n",
    "# base model\n",
    "base_model = KNeighborsClassifier(metric = 'euclidean', n_neighbors = 9, p = 1, weights = 'uniform',  )\n",
    "\n",
    "model_test = \"KNN\"\n",
    "optimal_threshold = 0.5\n",
    "best_threshold_tpr = 0.5\n",
    "\n",
    "test_evaluated(df, reference_year, drop_year, random_state,\n",
    "                                 data_filter, concat_inputs,\n",
    "                                 base_model, model_test, optimal_threshold, best_threshold_tpr)"
   ]
  },
  {
   "cell_type": "code",
   "execution_count": 102,
   "metadata": {},
   "outputs": [
    {
     "name": "stdout",
     "output_type": "stream",
     "text": [
      "df_train shape: (1175, 9)\n",
      "features_train shape: (1175, 8)\n",
      "target_train shape: (1175,)\n",
      "Relatório salvo em: test_result_KNN_2021_[]_True_False.txt\n"
     ]
    }
   ],
   "source": [
    "dados = '../data/selected_data.csv'\n",
    "reference_year = 2021\n",
    "drop_year=[]\n",
    "data_filter = True\n",
    "concat_inputs = False\n",
    "random_state = 0\n",
    "\n",
    "df = prepared_data_test(\n",
    "    dados, data_filter, concat_inputs\n",
    ")\n",
    "\n",
    "# base model\n",
    "base_model = KNeighborsClassifier(metric = 'manhattan', n_neighbors = 5, p = 1, weights = 'uniform',  )\n",
    "\n",
    "model_test = \"KNN\"\n",
    "optimal_threshold = 0.08\n",
    "best_threshold_tpr = 0.5\n",
    "\n",
    "test_evaluated(df, reference_year, drop_year, random_state,\n",
    "                                 data_filter, concat_inputs,\n",
    "                                 base_model, model_test, optimal_threshold, best_threshold_tpr)"
   ]
  },
  {
   "cell_type": "code",
   "execution_count": 103,
   "metadata": {},
   "outputs": [
    {
     "name": "stdout",
     "output_type": "stream",
     "text": [
      "df_train shape: (2899, 9)\n",
      "features_train shape: (2899, 8)\n",
      "target_train shape: (2899,)\n",
      "Relatório salvo em: test_result_KNN_2022_[2020]_False_False.txt\n"
     ]
    }
   ],
   "source": [
    "dados = '../data/selected_data.csv'\n",
    "reference_year = 2022\n",
    "drop_year=[2020]\n",
    "data_filter = False\n",
    "concat_inputs = False\n",
    "random_state = 0\n",
    "\n",
    "df = prepared_data_test(\n",
    "    dados, data_filter, concat_inputs\n",
    ")\n",
    "\n",
    "# base model\n",
    "base_model = KNeighborsClassifier(metric = 'manhattan', n_neighbors = 9, p = 1, weights = 'uniform',  )\n",
    "\n",
    "model_test = \"KNN\"\n",
    "optimal_threshold = 0.67\n",
    "best_threshold_tpr = 0.5\n",
    "\n",
    "test_evaluated(df, reference_year, drop_year, random_state,\n",
    "                                 data_filter, concat_inputs,\n",
    "                                 base_model, model_test, optimal_threshold, best_threshold_tpr)"
   ]
  },
  {
   "cell_type": "code",
   "execution_count": 104,
   "metadata": {},
   "outputs": [
    {
     "name": "stdout",
     "output_type": "stream",
     "text": [
      "df_train shape: (1436, 9)\n",
      "features_train shape: (1436, 8)\n",
      "target_train shape: (1436,)\n",
      "Relatório salvo em: test_result_KNN_2022_[2020]_True_False.txt\n"
     ]
    }
   ],
   "source": [
    "dados = '../data/selected_data.csv'\n",
    "reference_year = 2022\n",
    "drop_year=[2020]\n",
    "data_filter = True\n",
    "concat_inputs = False\n",
    "random_state = 0\n",
    "\n",
    "df = prepared_data_test(\n",
    "    dados, data_filter, concat_inputs\n",
    ")\n",
    "\n",
    "# base model\n",
    "base_model = KNeighborsClassifier(metric = 'euclidean', n_neighbors = 9, p = 1, weights = 'uniform',  )\n",
    "\n",
    "model_test = \"KNN\"\n",
    "optimal_threshold = 0.67\n",
    "best_threshold_tpr = 0.5\n",
    "\n",
    "test_evaluated(df, reference_year, drop_year, random_state,\n",
    "                                 data_filter, concat_inputs,\n",
    "                                 base_model, model_test, optimal_threshold, best_threshold_tpr)"
   ]
  },
  {
   "cell_type": "code",
   "execution_count": 105,
   "metadata": {},
   "outputs": [
    {
     "name": "stdout",
     "output_type": "stream",
     "text": [
      "df_train shape: (3985, 9)\n",
      "features_train shape: (3985, 8)\n",
      "target_train shape: (3985,)\n",
      "Relatório salvo em: test_result_KNN_2022_[]_False_False.txt\n"
     ]
    }
   ],
   "source": [
    "dados = '../data/selected_data.csv'\n",
    "reference_year = 2022\n",
    "drop_year=[]\n",
    "data_filter = False\n",
    "concat_inputs = False\n",
    "random_state = 0\n",
    "\n",
    "df = prepared_data_test(\n",
    "    dados, data_filter, concat_inputs\n",
    ")\n",
    "\n",
    "# base model\n",
    "base_model = KNeighborsClassifier(metric = 'euclidean', n_neighbors = 9, p = 1, weights = 'uniform',  )\n",
    "\n",
    "model_test = \"KNN\"\n",
    "optimal_threshold = 0.5\n",
    "best_threshold_tpr = 0.5\n",
    "\n",
    "test_evaluated(df, reference_year, drop_year, random_state,\n",
    "                                 data_filter, concat_inputs,\n",
    "                                 base_model, model_test, optimal_threshold, best_threshold_tpr)"
   ]
  },
  {
   "cell_type": "code",
   "execution_count": 106,
   "metadata": {},
   "outputs": [
    {
     "name": "stdout",
     "output_type": "stream",
     "text": [
      "df_train shape: (1709, 9)\n",
      "features_train shape: (1709, 8)\n",
      "target_train shape: (1709,)\n",
      "Relatório salvo em: test_result_KNN_2022_[]_True_False.txt\n"
     ]
    }
   ],
   "source": [
    "dados = '../data/selected_data.csv'\n",
    "reference_year = 2022\n",
    "drop_year=[]\n",
    "data_filter = True\n",
    "concat_inputs = False\n",
    "random_state = 0\n",
    "\n",
    "df = prepared_data_test(\n",
    "    dados, data_filter, concat_inputs\n",
    ")\n",
    "\n",
    "# base model\n",
    "base_model = KNeighborsClassifier(metric = 'euclidean', n_neighbors = 9, p = 1, weights = 'uniform',  )\n",
    "\n",
    "model_test = \"KNN\"\n",
    "optimal_threshold = 0.89\n",
    "best_threshold_tpr = 0.5\n",
    "\n",
    "test_evaluated(df, reference_year, drop_year, random_state,\n",
    "                                 data_filter, concat_inputs,\n",
    "                                 base_model, model_test, optimal_threshold, best_threshold_tpr)"
   ]
  },
  {
   "cell_type": "code",
   "execution_count": 126,
   "metadata": {},
   "outputs": [
    {
     "name": "stdout",
     "output_type": "stream",
     "text": [
      "df_train shape: (3806, 9)\n",
      "features_train shape: (3806, 8)\n",
      "target_train shape: (3806,)\n",
      "Relatório salvo em: test_result_KNN_2023_[2020]_False_False.txt\n"
     ]
    }
   ],
   "source": [
    "dados = '../data/selected_data.csv'\n",
    "reference_year = 2023\n",
    "drop_year=[2020]\n",
    "data_filter = False\n",
    "concat_inputs = False\n",
    "random_state = 0\n",
    "\n",
    "df = prepared_data_test(\n",
    "    dados, data_filter, concat_inputs\n",
    ")\n",
    "\n",
    "# base model\n",
    "base_model = KNeighborsClassifier(metric = 'manhattan', n_neighbors = 7, p = 1, weights = 'uniform',  )\n",
    "\n",
    "model_test = \"KNN\"\n",
    "optimal_threshold = 0.5\n",
    "best_threshold_tpr = 0.5\n",
    "\n",
    "test_evaluated(df, reference_year, drop_year, random_state,\n",
    "                                 data_filter, concat_inputs,\n",
    "                                 base_model, model_test, optimal_threshold, best_threshold_tpr)"
   ]
  },
  {
   "cell_type": "code",
   "execution_count": 108,
   "metadata": {},
   "outputs": [
    {
     "name": "stdout",
     "output_type": "stream",
     "text": [
      "df_train shape: (2039, 9)\n",
      "features_train shape: (2039, 8)\n",
      "target_train shape: (2039,)\n",
      "Relatório salvo em: test_result_KNN_2023_[2020]_True_False.txt\n"
     ]
    }
   ],
   "source": [
    "dados = '../data/selected_data.csv'\n",
    "reference_year = 2023\n",
    "drop_year=[2020]\n",
    "data_filter = True\n",
    "concat_inputs = False\n",
    "random_state = 0\n",
    "\n",
    "df = prepared_data_test(\n",
    "    dados, data_filter, concat_inputs\n",
    ")\n",
    "\n",
    "# base model\n",
    "base_model = KNeighborsClassifier(metric = 'euclidean', n_neighbors = 9, p = 1, weights = 'uniform',  )\n",
    "\n",
    "model_test = \"KNN\"\n",
    "optimal_threshold = 0.78\n",
    "best_threshold_tpr = 0.5\n",
    "\n",
    "test_evaluated(df, reference_year, drop_year, random_state,\n",
    "                                 data_filter, concat_inputs,\n",
    "                                 base_model, model_test, optimal_threshold, best_threshold_tpr)"
   ]
  },
  {
   "cell_type": "code",
   "execution_count": 109,
   "metadata": {},
   "outputs": [
    {
     "name": "stdout",
     "output_type": "stream",
     "text": [
      "df_train shape: (4892, 9)\n",
      "features_train shape: (4892, 8)\n",
      "target_train shape: (4892,)\n",
      "Relatório salvo em: test_result_KNN_2023_[]_False_False.txt\n"
     ]
    }
   ],
   "source": [
    "dados = '../data/selected_data.csv'\n",
    "reference_year = 2023\n",
    "drop_year=[]\n",
    "data_filter = False\n",
    "concat_inputs = False\n",
    "random_state = 0\n",
    "\n",
    "df = prepared_data_test(\n",
    "    dados, data_filter, concat_inputs\n",
    ")\n",
    "\n",
    "# base model\n",
    "base_model = KNeighborsClassifier(metric = 'euclidean', n_neighbors = 9, p = 1, weights = 'uniform',  )\n",
    "\n",
    "model_test = \"KNN\"\n",
    "optimal_threshold = 0.5\n",
    "best_threshold_tpr = 0.5\n",
    "\n",
    "test_evaluated(df, reference_year, drop_year, random_state,\n",
    "                                 data_filter, concat_inputs,\n",
    "                                 base_model, model_test, optimal_threshold, best_threshold_tpr)"
   ]
  },
  {
   "cell_type": "code",
   "execution_count": 110,
   "metadata": {},
   "outputs": [
    {
     "name": "stdout",
     "output_type": "stream",
     "text": [
      "df_train shape: (2312, 9)\n",
      "features_train shape: (2312, 8)\n",
      "target_train shape: (2312,)\n",
      "Relatório salvo em: test_result_KNN_2023_[]_True_False.txt\n"
     ]
    }
   ],
   "source": [
    "dados = '../data/selected_data.csv'\n",
    "reference_year = 2023\n",
    "drop_year=[]\n",
    "data_filter = True\n",
    "concat_inputs = False\n",
    "random_state = 0\n",
    "\n",
    "df = prepared_data_test(\n",
    "    dados, data_filter, concat_inputs\n",
    ")\n",
    "\n",
    "# base model\n",
    "base_model = KNeighborsClassifier(metric = 'manhattan', n_neighbors = 7, p = 1, weights = 'uniform',  )\n",
    "\n",
    "model_test = \"KNN\"\n",
    "optimal_threshold = 0.86\n",
    "best_threshold_tpr = 0.5\n",
    "\n",
    "test_evaluated(df, reference_year, drop_year, random_state,\n",
    "                                 data_filter, concat_inputs,\n",
    "                                 base_model, model_test, optimal_threshold, best_threshold_tpr)"
   ]
  }
 ],
 "metadata": {
  "colab": {
   "authorship_tag": "ABX9TyNMefJlKsJWJghlrgA+hR9m",
   "provenance": []
  },
  "kernelspec": {
   "display_name": ".venv",
   "language": "python",
   "name": "python3"
  },
  "language_info": {
   "codemirror_mode": {
    "name": "ipython",
    "version": 3
   },
   "file_extension": ".py",
   "mimetype": "text/x-python",
   "name": "python",
   "nbconvert_exporter": "python",
   "pygments_lexer": "ipython3",
   "version": "3.11.5"
  }
 },
 "nbformat": 4,
 "nbformat_minor": 0
}
