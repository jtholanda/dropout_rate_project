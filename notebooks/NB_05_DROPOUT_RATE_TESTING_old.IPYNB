{
 "cells": [
  {
   "cell_type": "markdown",
   "metadata": {
    "id": "KqNm0Q_ReRIW"
   },
   "source": [
    "# IMPORTAÇÃO DOS MÓDULOS E CONFIGURAÇÃO\n"
   ]
  },
  {
   "cell_type": "code",
   "execution_count": 314,
   "metadata": {
    "collapsed": true,
    "executionInfo": {
     "elapsed": 10047,
     "status": "ok",
     "timestamp": 1739973855270,
     "user": {
      "displayName": "José Thiago Holanda de Alcantara Cabral",
      "userId": "00082515726505027266"
     },
     "user_tz": 180
    },
    "id": "24Zy85jMy0Kt"
   },
   "outputs": [],
   "source": [
    "import numpy as np\n",
    "import pandas as pd\n",
    "# from google.colab import files\n",
    "from sklearn.model_selection import train_test_split\n",
    "from sklearn.model_selection import GridSearchCV\n",
    "from sklearn.linear_model import LogisticRegression\n",
    "from sklearn.tree import DecisionTreeClassifier, plot_tree\n",
    "from sklearn.ensemble import RandomForestClassifier\n",
    "from sklearn.svm import SVC\n",
    "from xgboost import XGBClassifier\n",
    "from sklearn.neighbors import KNeighborsClassifier\n",
    "from sklearn.preprocessing import StandardScaler, OneHotEncoder\n",
    "from sklearn.compose import ColumnTransformer\n",
    "from sklearn.metrics import classification_report\n",
    "from imblearn.pipeline import Pipeline\n",
    "import sys\n",
    "import os\n",
    "\n",
    "# Adiciona o diretório pai (onde está dropout_rate_project) ao sys.path\n",
    "sys.path.append(os.path.abspath(os.path.join(os.getcwd(), '..'))) # Isso permite que o notebook enxergue a pasta dropout_rate_project.\n",
    "\n",
    "from dropout_rate_project.py_files import data_prepared as dp\n",
    "from dropout_rate_project.py_files import adjusted_models_util as amu\n",
    "from dropout_rate_project.py_files import define_models_util as dmu\n"
   ]
  },
  {
   "cell_type": "markdown",
   "metadata": {
    "id": "7yTp_6viyk_1"
   },
   "source": [
    "# CONFIGURAÇÃO DOS DADOS E MODELO"
   ]
  },
  {
   "cell_type": "code",
   "execution_count": 315,
   "metadata": {
    "colab": {
     "base_uri": "https://localhost:8080/",
     "height": 449
    },
    "executionInfo": {
     "elapsed": 116,
     "status": "ok",
     "timestamp": 1739974029413,
     "user": {
      "displayName": "José Thiago Holanda de Alcantara Cabral",
      "userId": "00082515726505027266"
     },
     "user_tz": 180
    },
    "id": "moGavGfqPN7G",
    "outputId": "38783bf9-f834-4fbc-a06b-4e67e7d1ff2d"
   },
   "outputs": [],
   "source": [
    "# Configuração dos dados\n",
    "\n",
    "dados = '../data/selected_data.csv'\n",
    "reference_year = 2023\n",
    "drop_year=[]\n",
    "random_state = 0\n",
    "data_filter = True\n",
    "concat_inputs = True\n",
    "model_test = \"Logistic_Regression\"\n"
   ]
  },
  {
   "cell_type": "code",
   "execution_count": 316,
   "metadata": {},
   "outputs": [],
   "source": [
    "if model_test == \"Logistic_Regression\":\n",
    "  # base model\n",
    "  label_pipeline = 'logreg'\n",
    "  base_model = LogisticRegression(class_weight='balanced', random_state=random_state, fit_intercept=True)\n",
    "\n",
    "  # Criando o modelo com os hiperparâmetros ajustados para o melhor modelo de logistic regression definido para o teste\n",
    "  base_model.C=10\n",
    "  base_model.max_iter=100\n",
    "  base_model.penalty='l2'\n",
    "  base_model.solver='sag'\n",
    "  #base_model.l1_ratio=0.5\n",
    "\n",
    "if model_test == \"Decision_Tree\":\n",
    "  # base model\n",
    "  label_pipeline = 'decision_tree'\n",
    "  base_model = DecisionTreeClassifier(class_weight='balanced', random_state=random_state)\n",
    "\n",
    "  # Criando o modelo com os hiperparâmetros ajustados para o melhor modelo de logistic regression definido para o teste\n",
    "  base_model.criterion = 'gini'\n",
    "  base_model.max_depth = 5 \n",
    "  base_model.max_features = None\n",
    "  base_model.min_samples_leaf = 5\n",
    "  base_model.min_samples_split = 2\n",
    "  \n",
    "if model_test == \"Random_Forest\":\n",
    "  # base model\n",
    "  label_pipeline = 'random_forest'\n",
    "  base_model = RandomForestClassifier(class_weight='balanced', random_state=random_state)\n",
    "\n",
    "  # Criando o modelo com os hiperparâmetros ajustados para o melhor modelo de logistic regression definido para o teste\n",
    "  base_model.bootstrap = True\n",
    "  base_model.criterion = 'entropy'\n",
    "  base_model.max_depth = 3 \n",
    "  base_model.max_features = None\n",
    "  base_model.min_samples_leaf = 3\n",
    "  base_model.min_samples_split = 10\n",
    "  base_model.n_estimators = 100\n",
    "\n",
    "if model_test == \"svm\":\n",
    "\n",
    "  # base model\n",
    "  label_pipeline = 'svm'\n",
    "  base_model = SVC(class_weight='balanced', random_state=random_state)\n",
    "\n",
    "  # Criando o modelo com os hiperparâmetros ajustados para o melhor modelo de logistic regression definido para o teste\n",
    "  base_model.C = 100\n",
    "  base_model.degree = 2\n",
    "  base_model.gamma = 'scale' \n",
    "  base_model.kernel = 'linear'\n",
    "  base_model.probability = True\n",
    "\n",
    "if model_test == \"XG_Boost\":\n",
    "\n",
    "  # base model\n",
    "  label_pipeline = 'xgboost'\n",
    "  base_model = XGBClassifier(use_label_encoder=True, eval_metric='logloss', random_state=random_state, scale_pos_weight=2344/1462)\n",
    "  base_model.gamma = 0.2\n",
    "  base_model.learning_rate = 0.01\n",
    "  base_model.max_depth = 3\n",
    "  base_model.n_estimators = 250\n",
    "  base_model.reg_alpha = 0\n",
    "  base_model.reg_lambda = 1\n",
    "\n",
    "if model_test == \"KNN\":\n",
    "\n",
    "  # base model\n",
    "  label_pipeline = 'knn'\n",
    "  base_model = KNeighborsClassifier()\n",
    "  base_model.n_neighbors = 7\n",
    "  base_model.weights = 'uniform'\n",
    "  base_model.metric = 'manhattan'\n",
    "  base_model.p = 1\n",
    "\n",
    "\n",
    "test_model = base_model\n",
    "test_pipeline = {\n",
    "    'model': test_model,  # ou o seu modelo\n",
    "    'optimal_threshold':0.72,\n",
    "    'best_threshold_tpr':0.11\n",
    "}\n",
    "\n",
    "\n",
    "\n"
   ]
  },
  {
   "cell_type": "code",
   "execution_count": 317,
   "metadata": {},
   "outputs": [
    {
     "name": "stdout",
     "output_type": "stream",
     "text": [
      "     RF-CAT SEXO  IDA-MÉD   TC   NC   TO ME TURNO   ANO  AE\n",
      "0        ND    M     47.0  TÉC  PES  SUB  P   VES  2017   1\n",
      "2       0,5    F     17.0  TÉC   GT  SUB  P   VES  2017   0\n",
      "3       0,5    F     17.0  TÉC   SJ  SUB  P   VES  2017   0\n",
      "4       0,5    F     17.0  TÉC   SJ  SUB  P   VES  2017   0\n",
      "5       0,5    F     17.0  TÉC   TI  SUB  P   VES  2017   0\n",
      "...     ...  ...      ...  ...  ...  ... ..   ...   ...  ..\n",
      "5711     ND    M     42.0  TÉC   GT  SUB  P   INT  2023   0\n",
      "5712     ND    M     42.0  TÉC   SJ  SUB  D   NSA  2023   0\n",
      "5713     ND    M     47.0  TÉC   GT  SUB  P   INT  2023   0\n",
      "5714      1    F     27.0  TÉC   CE  SUB  D   NSA  2023   1\n",
      "5718      1    F     37.0  TÉC   CE  SUB  D   NSA  2023   1\n",
      "\n",
      "[2589 rows x 10 columns]\n"
     ]
    },
    {
     "data": {
      "text/html": [
       "<div>\n",
       "<style scoped>\n",
       "    .dataframe tbody tr th:only-of-type {\n",
       "        vertical-align: middle;\n",
       "    }\n",
       "\n",
       "    .dataframe tbody tr th {\n",
       "        vertical-align: top;\n",
       "    }\n",
       "\n",
       "    .dataframe thead th {\n",
       "        text-align: right;\n",
       "    }\n",
       "</style>\n",
       "<table border=\"1\" class=\"dataframe\">\n",
       "  <thead>\n",
       "    <tr style=\"text-align: right;\">\n",
       "      <th></th>\n",
       "      <th>IDA-MÉD</th>\n",
       "      <th>RFCAT_SEXO_TC_NC_TO_ME_TURNO</th>\n",
       "      <th>ANO</th>\n",
       "      <th>AE</th>\n",
       "    </tr>\n",
       "  </thead>\n",
       "  <tbody>\n",
       "    <tr>\n",
       "      <th>0</th>\n",
       "      <td>47.0</td>\n",
       "      <td>ND-M-TÉC-PES-SUB-P-VES</td>\n",
       "      <td>2017</td>\n",
       "      <td>1</td>\n",
       "    </tr>\n",
       "    <tr>\n",
       "      <th>2</th>\n",
       "      <td>17.0</td>\n",
       "      <td>0,5-F-TÉC-GT-SUB-P-VES</td>\n",
       "      <td>2017</td>\n",
       "      <td>0</td>\n",
       "    </tr>\n",
       "    <tr>\n",
       "      <th>3</th>\n",
       "      <td>17.0</td>\n",
       "      <td>0,5-F-TÉC-SJ-SUB-P-VES</td>\n",
       "      <td>2017</td>\n",
       "      <td>0</td>\n",
       "    </tr>\n",
       "    <tr>\n",
       "      <th>4</th>\n",
       "      <td>17.0</td>\n",
       "      <td>0,5-F-TÉC-SJ-SUB-P-VES</td>\n",
       "      <td>2017</td>\n",
       "      <td>0</td>\n",
       "    </tr>\n",
       "    <tr>\n",
       "      <th>5</th>\n",
       "      <td>17.0</td>\n",
       "      <td>0,5-F-TÉC-TI-SUB-P-VES</td>\n",
       "      <td>2017</td>\n",
       "      <td>0</td>\n",
       "    </tr>\n",
       "    <tr>\n",
       "      <th>...</th>\n",
       "      <td>...</td>\n",
       "      <td>...</td>\n",
       "      <td>...</td>\n",
       "      <td>...</td>\n",
       "    </tr>\n",
       "    <tr>\n",
       "      <th>5698</th>\n",
       "      <td>37.0</td>\n",
       "      <td>ND-F-TÉC-SJ-SUB-P-NOT</td>\n",
       "      <td>2023</td>\n",
       "      <td>1</td>\n",
       "    </tr>\n",
       "    <tr>\n",
       "      <th>5699</th>\n",
       "      <td>42.0</td>\n",
       "      <td>ND-F-TÉC-GT-SUB-P-INT</td>\n",
       "      <td>2023</td>\n",
       "      <td>0</td>\n",
       "    </tr>\n",
       "    <tr>\n",
       "      <th>5702</th>\n",
       "      <td>47.0</td>\n",
       "      <td>ND-F-TÉC-GT-SUB-P-INT</td>\n",
       "      <td>2023</td>\n",
       "      <td>0</td>\n",
       "    </tr>\n",
       "    <tr>\n",
       "      <th>5708</th>\n",
       "      <td>27.0</td>\n",
       "      <td>ND-M-TÉC-GT-SUB-P-INT</td>\n",
       "      <td>2023</td>\n",
       "      <td>0</td>\n",
       "    </tr>\n",
       "    <tr>\n",
       "      <th>5709</th>\n",
       "      <td>37.0</td>\n",
       "      <td>ND-M-TÉC-GT-SUB-P-INT</td>\n",
       "      <td>2023</td>\n",
       "      <td>0</td>\n",
       "    </tr>\n",
       "  </tbody>\n",
       "</table>\n",
       "<p>2584 rows × 4 columns</p>\n",
       "</div>"
      ],
      "text/plain": [
       "      IDA-MÉD RFCAT_SEXO_TC_NC_TO_ME_TURNO   ANO  AE\n",
       "0        47.0       ND-M-TÉC-PES-SUB-P-VES  2017   1\n",
       "2        17.0       0,5-F-TÉC-GT-SUB-P-VES  2017   0\n",
       "3        17.0       0,5-F-TÉC-SJ-SUB-P-VES  2017   0\n",
       "4        17.0       0,5-F-TÉC-SJ-SUB-P-VES  2017   0\n",
       "5        17.0       0,5-F-TÉC-TI-SUB-P-VES  2017   0\n",
       "...       ...                          ...   ...  ..\n",
       "5698     37.0        ND-F-TÉC-SJ-SUB-P-NOT  2023   1\n",
       "5699     42.0        ND-F-TÉC-GT-SUB-P-INT  2023   0\n",
       "5702     47.0        ND-F-TÉC-GT-SUB-P-INT  2023   0\n",
       "5708     27.0        ND-M-TÉC-GT-SUB-P-INT  2023   0\n",
       "5709     37.0        ND-M-TÉC-GT-SUB-P-INT  2023   0\n",
       "\n",
       "[2584 rows x 4 columns]"
      ]
     },
     "execution_count": 317,
     "metadata": {},
     "output_type": "execute_result"
    }
   ],
   "source": [
    "\n",
    "# Gráficos para variáveis categóricas\n",
    "categorical_features = ['RF-CAT', 'SEXO', 'TC', 'NC', 'TO', 'ME','TURNO']\n",
    "\n",
    "# Gráficos para variáveis numéricas\n",
    "numerical_features = ['IDA-MÉD']\n",
    "\n",
    "df = pd.read_csv(dados)\n",
    "\n",
    "if data_filter:\n",
    "  # Exemplo de uso:\n",
    "  df_filtrado = dp.filter_dataframe_by_column(df, 'TO', 'SUB')\n",
    "  df=df_filtrado\n",
    "  print(df_filtrado)\n",
    "\n",
    "if concat_inputs:\n",
    "  df[\"RFCAT_SEXO_TC_NC_TO_ME_TURNO\"] = df[[\"RF-CAT\",\"SEXO\",\"TC\", \"NC\", \"TO\", \"ME\", \"TURNO\"]].astype(str).agg(\"-\".join, axis=1)\n",
    "  df = df[[\"IDA-MÉD\",\"RFCAT_SEXO_TC_NC_TO_ME_TURNO\",\"ANO\",\"AE\"]]\n",
    "  categorical_features = [\"IDA-MÉD\",\"RFCAT_SEXO_TC_NC_TO_ME_TURNO\"]\n",
    "\n",
    "\n",
    "df.head(-5)"
   ]
  },
  {
   "cell_type": "markdown",
   "metadata": {
    "id": "ZwjRGLSfXMi4"
   },
   "source": [
    "# PREPARAÇÃO DOS DADOS DE TREINO E TESTE\n",
    "\n",
    "---\n",
    "\n"
   ]
  },
  {
   "cell_type": "code",
   "execution_count": 318,
   "metadata": {
    "collapsed": true,
    "executionInfo": {
     "elapsed": 15,
     "status": "ok",
     "timestamp": 1739974032225,
     "user": {
      "displayName": "José Thiago Holanda de Alcantara Cabral",
      "userId": "00082515726505027266"
     },
     "user_tz": 180
    },
    "id": "ewZEEw32zBPX"
   },
   "outputs": [],
   "source": [
    "# Separação dos dados de treino e teste\n",
    "df_train, df_test, features_train, target_train, features_test, target_test = dp.get_df_train_df_test(df, reference_year, drop_year )"
   ]
  },
  {
   "cell_type": "code",
   "execution_count": 319,
   "metadata": {
    "colab": {
     "base_uri": "https://localhost:8080/"
    },
    "collapsed": true,
    "executionInfo": {
     "elapsed": 12,
     "status": "ok",
     "timestamp": 1739974033522,
     "user": {
      "displayName": "José Thiago Holanda de Alcantara Cabral",
      "userId": "00082515726505027266"
     },
     "user_tz": 180
    },
    "id": "dGwR6Af-1Hx-",
    "outputId": "d0a3198c-c27c-43fb-bfc2-e0e21b3045aa"
   },
   "outputs": [
    {
     "name": "stdout",
     "output_type": "stream",
     "text": [
      "Conjunto de treino: 2312\n",
      "Conjunto de teste: 277\n",
      "Shape do conjunto de treino: (2312, 3)\n",
      "Valores nulos no conjunto de treino:\n",
      "IDA-MÉD                         0\n",
      "RFCAT_SEXO_TC_NC_TO_ME_TURNO    0\n",
      "AE                              0\n",
      "dtype: int64\n",
      "\n",
      "Tipos de dados no conjunto de treino:\n",
      "IDA-MÉD                         float64\n",
      "RFCAT_SEXO_TC_NC_TO_ME_TURNO     object\n",
      "AE                                int64\n",
      "dtype: object\n",
      "\n",
      "Colunas com valores nulos:\n",
      "Series([], dtype: int64)\n"
     ]
    }
   ],
   "source": [
    "# Chamada da função com os DataFrames de treino e teste\n",
    "dp.show_dataset_information(df_train, df_test)"
   ]
  },
  {
   "cell_type": "code",
   "execution_count": 320,
   "metadata": {
    "collapsed": true,
    "executionInfo": {
     "elapsed": 6,
     "status": "ok",
     "timestamp": 1739974035641,
     "user": {
      "displayName": "José Thiago Holanda de Alcantara Cabral",
      "userId": "00082515726505027266"
     },
     "user_tz": 180
    },
    "id": "VYyF_rbqXQ0a"
   },
   "outputs": [],
   "source": [
    "# Criando os pipeline de treino e validação para os melhores hiperparâmetros avaliados por penalidade\n",
    "# import preprocess_util as amu\n",
    "\n",
    "from sklearn.model_selection import cross_val_score\n",
    "\n",
    "X = features_train\n",
    "y = target_train"
   ]
  },
  {
   "cell_type": "markdown",
   "metadata": {
    "id": "XyoZcOYtJeG1"
   },
   "source": [
    "# ANÁLISE DOS DADOS DE TESTE\n",
    "\n"
   ]
  },
  {
   "cell_type": "code",
   "execution_count": 321,
   "metadata": {
    "colab": {
     "base_uri": "https://localhost:8080/",
     "height": 206
    },
    "collapsed": true,
    "executionInfo": {
     "elapsed": 85,
     "status": "ok",
     "timestamp": 1739974037302,
     "user": {
      "displayName": "José Thiago Holanda de Alcantara Cabral",
      "userId": "00082515726505027266"
     },
     "user_tz": 180
    },
    "id": "L_H2GjnQSPfy",
    "outputId": "ea4c940e-ab4a-4b15-82b7-e5040e6b30c9"
   },
   "outputs": [
    {
     "data": {
      "text/html": [
       "<div>\n",
       "<style scoped>\n",
       "    .dataframe tbody tr th:only-of-type {\n",
       "        vertical-align: middle;\n",
       "    }\n",
       "\n",
       "    .dataframe tbody tr th {\n",
       "        vertical-align: top;\n",
       "    }\n",
       "\n",
       "    .dataframe thead th {\n",
       "        text-align: right;\n",
       "    }\n",
       "</style>\n",
       "<table border=\"1\" class=\"dataframe\">\n",
       "  <thead>\n",
       "    <tr style=\"text-align: right;\">\n",
       "      <th></th>\n",
       "      <th>IDA-MÉD</th>\n",
       "      <th>RFCAT_SEXO_TC_NC_TO_ME_TURNO</th>\n",
       "      <th>AE</th>\n",
       "    </tr>\n",
       "  </thead>\n",
       "  <tbody>\n",
       "    <tr>\n",
       "      <th>4905</th>\n",
       "      <td>27.0</td>\n",
       "      <td>ND-F-TÉC-GT-SUB-P-INT</td>\n",
       "      <td>0</td>\n",
       "    </tr>\n",
       "    <tr>\n",
       "      <th>4915</th>\n",
       "      <td>22.0</td>\n",
       "      <td>0,5-F-TÉC-CE-SUB-D-NSA</td>\n",
       "      <td>1</td>\n",
       "    </tr>\n",
       "    <tr>\n",
       "      <th>4916</th>\n",
       "      <td>22.0</td>\n",
       "      <td>0,5-F-TÉC-GT-SUB-P-VES</td>\n",
       "      <td>0</td>\n",
       "    </tr>\n",
       "    <tr>\n",
       "      <th>4917</th>\n",
       "      <td>22.0</td>\n",
       "      <td>0,5-F-TÉC-GT-SUB-P-INT</td>\n",
       "      <td>0</td>\n",
       "    </tr>\n",
       "    <tr>\n",
       "      <th>4918</th>\n",
       "      <td>22.0</td>\n",
       "      <td>0,5-F-TÉC-SJ-SUB-D-NSA</td>\n",
       "      <td>1</td>\n",
       "    </tr>\n",
       "  </tbody>\n",
       "</table>\n",
       "</div>"
      ],
      "text/plain": [
       "      IDA-MÉD RFCAT_SEXO_TC_NC_TO_ME_TURNO  AE\n",
       "4905     27.0        ND-F-TÉC-GT-SUB-P-INT   0\n",
       "4915     22.0       0,5-F-TÉC-CE-SUB-D-NSA   1\n",
       "4916     22.0       0,5-F-TÉC-GT-SUB-P-VES   0\n",
       "4917     22.0       0,5-F-TÉC-GT-SUB-P-INT   0\n",
       "4918     22.0       0,5-F-TÉC-SJ-SUB-D-NSA   1"
      ]
     },
     "execution_count": 321,
     "metadata": {},
     "output_type": "execute_result"
    }
   ],
   "source": [
    "df_test.head(5)"
   ]
  },
  {
   "cell_type": "code",
   "execution_count": 322,
   "metadata": {
    "colab": {
     "base_uri": "https://localhost:8080/",
     "height": 1000
    },
    "collapsed": true,
    "executionInfo": {
     "elapsed": 3648,
     "status": "ok",
     "timestamp": 1739974043788,
     "user": {
      "displayName": "José Thiago Holanda de Alcantara Cabral",
      "userId": "00082515726505027266"
     },
     "user_tz": 180
    },
    "id": "Kp4QPtomJTCm",
    "outputId": "381aa4fd-94a5-435c-d161-65bbc1215338"
   },
   "outputs": [
    {
     "data": {
      "image/png": "[encoded data removed]",
      "text/plain": [
       "<Figure size 1500x1000 with 2 Axes>"
      ]
     },
     "metadata": {},
     "output_type": "display_data"
    },
    {
     "data": {
      "image/png": "[encoded data removed]",
      "text/plain": [
       "<Figure size 1500x1000 with 2 Axes>"
      ]
     },
     "metadata": {},
     "output_type": "display_data"
    },
    {
     "data": {
      "image/png": "[encoded data removed]",
      "text/plain": [
       "<Figure size 800x600 with 1 Axes>"
      ]
     },
     "metadata": {},
     "output_type": "display_data"
    },
    {
     "name": "stdout",
     "output_type": "stream",
     "text": [
      "Descrição das Variáveis Numéricas:\n",
      "          IDA-MÉD          AE\n",
      "count  277.000000  277.000000\n",
      "mean    34.220217    0.368231\n",
      "std      9.576081    0.483198\n",
      "min     17.000000    0.000000\n",
      "25%     27.000000    0.000000\n",
      "50%     32.000000    0.000000\n",
      "75%     42.000000    1.000000\n",
      "max     62.000000    1.000000\n",
      "\n",
      "Descrição das Variáveis Categóricas:\n",
      "\n",
      "Frequência de valores em RFCAT_SEXO_TC_NC_TO_ME_TURNO:\n",
      "RFCAT_SEXO_TC_NC_TO_ME_TURNO\n",
      "0,5-F-TÉC-SJ-SUB-D-NSA    25\n",
      "0,5-F-TÉC-GT-SUB-P-INT    24\n",
      "0,5-M-TÉC-GT-SUB-P-INT    23\n",
      "1-F-TÉC-GT-SUB-P-INT      16\n",
      "1-M-TÉC-GT-SUB-P-INT      15\n",
      "0,5-M-TÉC-SJ-SUB-D-NSA    14\n",
      "ND-M-TÉC-GT-SUB-P-INT     11\n",
      "1,5-M-TÉC-GT-SUB-P-INT     9\n",
      "ND-F-TÉC-GT-SUB-P-INT      9\n",
      "2,5-M-TÉC-GT-SUB-P-INT     7\n",
      "ND-F-TÉC-SJ-SUB-D-NSA      7\n",
      "1-M-TÉC-SJ-SUB-D-NSA       7\n",
      "0,5-M-TÉC-GT-SUB-P-VES     7\n",
      "0,5-M-TÉC-TA-SUB-P-NOT     7\n",
      "1,5-F-TÉC-GT-SUB-P-INT     6\n",
      "ND-M-TÉC-SJ-SUB-D-NSA      6\n",
      "1-F-TÉC-SJ-SUB-D-NSA       6\n",
      "0,5-F-TÉC-GT-SUB-P-VES     5\n",
      "ND-F-TÉC-CE-SUB-D-NSA      5\n",
      "0,5-F-TÉC-TA-SUB-P-NOT     4\n",
      "1-M-TÉC-TA-SUB-P-NOT       4\n",
      "1,5-M-TÉC-SJ-SUB-D-NSA     4\n",
      "2,5-F-TÉC-GT-SUB-P-INT     4\n",
      "ND-M-TÉC-CE-SUB-D-NSA      3\n",
      "3,5-M-TÉC-GT-SUB-P-INT     3\n",
      "1-F-TÉC-CE-SUB-D-NSA       3\n",
      "0,5-F-TÉC-SJ-SUB-P-NOT     3\n",
      "1-M-TÉC-TI-SUB-P-NOT       3\n",
      "0,5-F-TÉC-CE-SUB-D-NSA     2\n",
      "ND-F-TÉC-GT-SUB-P-VES      2\n",
      "1-M-TÉC-GT-SUB-P-VES       2\n",
      "1-M-TÉC-CE-SUB-D-NSA       2\n",
      "3,5-F-TÉC-SJ-SUB-D-NSA     2\n",
      "5-M-TÉC-GT-SUB-P-INT       2\n",
      "3,5-F-TÉC-GT-SUB-P-INT     2\n",
      "2,5-M-TÉC-SJ-SUB-D-NSA     2\n",
      "2,5-F-TÉC-SJ-SUB-D-NSA     2\n",
      "1-F-TÉC-SJ-SUB-P-NOT       2\n",
      "1,5-F-TÉC-SJ-SUB-D-NSA     2\n",
      "1-F-TÉC-GT-SUB-P-VES       2\n",
      "0,5-M-TÉC-CE-SUB-D-NSA     1\n",
      "3,5-M-TÉC-TA-SUB-P-NOT     1\n",
      "2,5-M-TÉC-CE-SUB-D-NSA     1\n",
      "0,5-F-TÉC-TI-SUB-P-NOT     1\n",
      "2,5-M-TÉC-GT-SUB-P-VES     1\n",
      "3,5-M-TÉC-CE-SUB-D-NSA     1\n",
      "3,5-F-TÉC-CE-SUB-D-NSA     1\n",
      "5-F-TÉC-GT-SUB-P-VES       1\n",
      "3,5-M-TÉC-TI-SUB-P-NOT     1\n",
      "5-M-TÉC-SJ-SUB-D-NSA       1\n",
      "ND-M-TÉC-TA-SUB-P-NOT      1\n",
      "1-M-TÉC-SJ-SUB-P-NOT       1\n",
      "ND-F-TÉC-SJ-SUB-P-NOT      1\n",
      "Name: count, dtype: int64\n",
      "Valores nulos por coluna:\n",
      "Series([], dtype: int64)\n",
      "Valores nulos por coluna:\n",
      "Series([], dtype: int64)\n"
     ]
    }
   ],
   "source": [
    "dp.plot_data_exploration_from_categorical_features_to_drop_rate(categorical_features, df_test)\n",
    "dp.plot_data_exploration_from_categorical_features_to_drop_rate_percent(categorical_features, df_test)\n",
    "dp.plot_data_exploration_from_numerical_features_to_drop_rate(numerical_features, df_test)\n",
    "dp.get_description(df_test)\n",
    "dp.show_and_drop_missing_values(df_test)"
   ]
  },
  {
   "cell_type": "markdown",
   "metadata": {
    "id": "5qRzVQ-Jj2Ts"
   },
   "source": [
    "# AVALIAÇÃO DO MODELO NOS DADOS DE TESTE"
   ]
  },
  {
   "cell_type": "code",
   "execution_count": 323,
   "metadata": {
    "executionInfo": {
     "elapsed": 2,
     "status": "ok",
     "timestamp": 1739974046485,
     "user": {
      "displayName": "José Thiago Holanda de Alcantara Cabral",
      "userId": "00082515726505027266"
     },
     "user_tz": 180
    },
    "id": "sd48u2uSSWai"
   },
   "outputs": [],
   "source": [
    "# configuração do modelo para o melhor threshold auc e recall\n",
    "best_model = test_pipeline['model']\n",
    "best_threshold = test_pipeline['optimal_threshold']\n",
    "best_threshold_tpr = test_pipeline['best_threshold_tpr']"
   ]
  },
  {
   "cell_type": "code",
   "execution_count": 324,
   "metadata": {
    "colab": {
     "base_uri": "https://localhost:8080/"
    },
    "collapsed": true,
    "executionInfo": {
     "elapsed": 1309,
     "status": "ok",
     "timestamp": 1739974050456,
     "user": {
      "displayName": "José Thiago Holanda de Alcantara Cabral",
      "userId": "00082515726505027266"
     },
     "user_tz": 180
    },
    "id": "qvNcDYWJGxcw",
    "outputId": "38d546bc-6158-4948-8528-60babe42116d"
   },
   "outputs": [
    {
     "name": "stdout",
     "output_type": "stream",
     "text": [
      "              precision    recall  f1-score   support\n",
      "\n",
      "           0       0.64      0.98      0.77       175\n",
      "           1       0.62      0.05      0.09       102\n",
      "\n",
      "    accuracy                           0.64       277\n",
      "   macro avg       0.63      0.52      0.43       277\n",
      "weighted avg       0.63      0.64      0.52       277\n",
      "\n",
      "AUC: 0.52\n",
      "[[172   3]\n",
      " [ 97   5]]\n"
     ]
    },
    {
     "name": "stderr",
     "output_type": "stream",
     "text": [
      "d:\\Dropbox\\Documentos\\IFPB\\Pesquisa\\Taxa de Evasão\\Dropout Rate Project\\dropout_rate_project\\.venv\\Lib\\site-packages\\sklearn\\linear_model\\_sag.py:348: ConvergenceWarning: The max_iter was reached which means the coef_ did not converge\n",
      "  warnings.warn(\n"
     ]
    },
    {
     "data": {
      "image/png": "[encoded data removed]",
      "text/plain": [
       "<Figure size 640x480 with 2 Axes>"
      ]
     },
     "metadata": {},
     "output_type": "display_data"
    },
    {
     "name": "stdout",
     "output_type": "stream",
     "text": [
      "modelo: Logistic_Regression\n",
      "data_filter: True\n",
      "concat_inputs: True\n",
      "ano: (2023, [])\n",
      "features_train (2312, 2)\n",
      "target_train (2312,)\n",
      "features_test (277, 2)\n",
      "target_test (277,)\n",
      "model: {'C': 10, 'class_weight': 'balanced', 'dual': False, 'fit_intercept': True, 'intercept_scaling': 1, 'l1_ratio': None, 'max_iter': 100, 'multi_class': 'deprecated', 'n_jobs': None, 'penalty': 'l2', 'random_state': 0, 'solver': 'sag', 'tol': 0.0001, 'verbose': 0, 'warm_start': False}\n",
      "best_threshold 0.72 \n",
      "best_threshold_tpr 0.11 \n",
      "média auc: 0.5159383753501401\n",
      "desvio padrão auc: 0.0\n",
      "média f1: 0.09090909090909091\n",
      "desvio padrão f1: 0.0\n",
      "média recall: 0.049019607843137254\n",
      "desvio padrão recall: 0.0\n",
      "média precision: 0.625\n",
      "desvio padrão precision: 0.0\n",
      "média accuracy: 0.6389891696750902\n",
      "desvio padrão accuracy: 0.0\n"
     ]
    }
   ],
   "source": [
    "results_auc = []\n",
    "results_f1 = []\n",
    "results_recall = []\n",
    "results_precision = []\n",
    "results_accuracy = []\n",
    "to_print = True\n",
    "pipeline_best_model = None\n",
    "# criando pipeline para modelo com todos os dados\n",
    "#for i in range(1):\n",
    "if model_test != \"KNN\": best_model.random_state=random_state\n",
    "pipeline_best_model = amu.create_model_pipeline(best_model,features_train,target_train)\n",
    "auc, f1, recall, precision, accuracy = amu.evaluate_model(pipeline_best_model,features_test,target_test, best_threshold, to_print)\n",
    "results_auc.append(auc)\n",
    "results_f1.append(f1)\n",
    "results_recall.append(recall)\n",
    "results_precision.append(precision)\n",
    "results_accuracy.append(accuracy)\n",
    "\n",
    "\n",
    "\n",
    "# Exibindo os resultados\n",
    "\"\"\"for idx in range(30):\n",
    "  print(f\"Resultados para random_state={idx}:\")\n",
    "  print(f\"auc: {idx} {results_auc[idx]}\")\n",
    "  print(f\"auc: {idx} {results_f1[idx]}\")\n",
    "  print(f\"auc: {idx} {results_recall[idx]}\")\n",
    "  print(f\"auc: {idx} {results_precision[idx]}\")\n",
    "  print(f\"auc: {idx} {results_accuracy[idx]}\")\"\"\"\n",
    "\n",
    "print(f\"modelo: {model_test}\")\n",
    "print(f\"data_filter: {data_filter}\")\n",
    "print(f\"concat_inputs: {concat_inputs}\")\n",
    "print(f\"ano: {reference_year, drop_year}\")\n",
    "print(\"features_train\",features_train.shape)\n",
    "print(\"target_train\", target_train.shape)\n",
    "print(\"features_test\",features_test.shape)\n",
    "print(\"target_test\", target_test.shape)\n",
    "print(f\"model: {best_model.get_params()}\")\n",
    "print(f\"best_threshold {best_threshold} \")\n",
    "print(f\"best_threshold_tpr {best_threshold_tpr} \")\n",
    "print(f\"média auc: {np.mean(results_auc)}\")\n",
    "print(f\"desvio padrão auc: {np.std(results_auc)}\")\n",
    "print(f\"média f1: {np.mean(results_f1)}\")\n",
    "print(f\"desvio padrão f1: {np.std(results_f1)}\")\n",
    "print(f\"média recall: {np.mean(results_recall)}\")\n",
    "print(f\"desvio padrão recall: {np.std(results_recall)}\")\n",
    "print(f\"média precision: {np.mean(results_precision)}\")\n",
    "print(f\"desvio padrão precision: {np.std(results_precision)}\")\n",
    "print(f\"média accuracy: {np.mean(results_accuracy)}\")\n",
    "print(f\"desvio padrão accuracy: {np.std(results_accuracy)}\")\n",
    "\n"
   ]
  }
 ],
 "metadata": {
  "colab": {
   "authorship_tag": "ABX9TyNMefJlKsJWJghlrgA+hR9m",
   "provenance": []
  },
  "kernelspec": {
   "display_name": ".venv",
   "language": "python",
   "name": "python3"
  },
  "language_info": {
   "codemirror_mode": {
    "name": "ipython",
    "version": 3
   },
   "file_extension": ".py",
   "mimetype": "text/x-python",
   "name": "python",
   "nbconvert_exporter": "python",
   "pygments_lexer": "ipython3",
   "version": "3.11.5"
  }
 },
 "nbformat": 4,
 "nbformat_minor": 0
}
