{
 "cells": [
  {
   "cell_type": "code",
   "execution_count": null,
   "metadata": {
    "colab": {
     "base_uri": "https://localhost:8080/",
     "height": 73
    },
    "executionInfo": {
     "elapsed": 10317,
     "status": "ok",
     "timestamp": 1739886870196,
     "user": {
      "displayName": "José Thiago Holanda de Alcantara Cabral",
      "userId": "00082515726505027266"
     },
     "user_tz": 180
    },
    "id": "JfwvNyhhVIrl",
    "outputId": "59c0a8c6-6c90-4dea-fb8a-c8e888c02aea"
   },
   "outputs": [],
   "source": [
    "import numpy as np\n",
    "import pandas as pd\n",
    "# from google.colab import files\n",
    "\n",
    "# Fazer o upload do arquivo CSV\n",
    "# uploaded = files.upload()\n",
    "\n",
    "# Nome do arquivo enviado\n",
    "# nome_arquivo = list(uploaded.keys())[0] # dados_01\n"
   ]
  },
  {
   "cell_type": "code",
   "execution_count": 2,
   "metadata": {
    "executionInfo": {
     "elapsed": 326,
     "status": "ok",
     "timestamp": 1739889890027,
     "user": {
      "displayName": "José Thiago Holanda de Alcantara Cabral",
      "userId": "00082515726505027266"
     },
     "user_tz": 180
    },
    "id": "ETKvnbvCVmZt"
   },
   "outputs": [],
   "source": [
    "# Dados tratados na primeira fase de preparação\n",
    "df = pd.read_csv('prepared_data.csv')"
   ]
  },
  {
   "cell_type": "code",
   "execution_count": null,
   "metadata": {
    "colab": {
     "base_uri": "https://localhost:8080/",
     "height": 423
    },
    "executionInfo": {
     "elapsed": 282,
     "status": "ok",
     "timestamp": 1739889892919,
     "user": {
      "displayName": "José Thiago Holanda de Alcantara Cabral",
      "userId": "00082515726505027266"
     },
     "user_tz": 180
    },
    "id": "1_svvlgFgnpv",
    "outputId": "fa3ff391-ee70-494d-80b2-7c75aba979af"
   },
   "outputs": [
    {
     "data": {
      "text/html": [
       "<div>\n",
       "<style scoped>\n",
       "    .dataframe tbody tr th:only-of-type {\n",
       "        vertical-align: middle;\n",
       "    }\n",
       "\n",
       "    .dataframe tbody tr th {\n",
       "        vertical-align: top;\n",
       "    }\n",
       "\n",
       "    .dataframe thead th {\n",
       "        text-align: right;\n",
       "    }\n",
       "</style>\n",
       "<table border=\"1\" class=\"dataframe\">\n",
       "  <thead>\n",
       "    <tr style=\"text-align: right;\">\n",
       "      <th></th>\n",
       "      <th>CR</th>\n",
       "      <th>RF</th>\n",
       "      <th>RF-CAT</th>\n",
       "      <th>SEXO</th>\n",
       "      <th>IDA-MÉD</th>\n",
       "      <th>TC</th>\n",
       "      <th>NC</th>\n",
       "      <th>TO</th>\n",
       "      <th>ME</th>\n",
       "      <th>TURNO</th>\n",
       "      <th>TC-NC-TO</th>\n",
       "      <th>NC-ME</th>\n",
       "      <th>NC-TURNO</th>\n",
       "      <th>ANO</th>\n",
       "      <th>AE</th>\n",
       "    </tr>\n",
       "  </thead>\n",
       "  <tbody>\n",
       "    <tr>\n",
       "      <th>0</th>\n",
       "      <td>AMA</td>\n",
       "      <td>NaN</td>\n",
       "      <td>ND</td>\n",
       "      <td>M</td>\n",
       "      <td>47.0</td>\n",
       "      <td>TÉC</td>\n",
       "      <td>PES</td>\n",
       "      <td>SUB</td>\n",
       "      <td>P</td>\n",
       "      <td>VES</td>\n",
       "      <td>TÉC-PES-SUB</td>\n",
       "      <td>PES-P</td>\n",
       "      <td>PES-VES</td>\n",
       "      <td>2017</td>\n",
       "      <td>1</td>\n",
       "    </tr>\n",
       "    <tr>\n",
       "      <th>1</th>\n",
       "      <td>BRA</td>\n",
       "      <td>0.5</td>\n",
       "      <td>0,5</td>\n",
       "      <td>F</td>\n",
       "      <td>17.0</td>\n",
       "      <td>FIC</td>\n",
       "      <td>MFC</td>\n",
       "      <td>CON</td>\n",
       "      <td>P</td>\n",
       "      <td>NOT</td>\n",
       "      <td>FIC-MFC-CON</td>\n",
       "      <td>MFC-P</td>\n",
       "      <td>MFC-NOT</td>\n",
       "      <td>2017</td>\n",
       "      <td>0</td>\n",
       "    </tr>\n",
       "    <tr>\n",
       "      <th>2</th>\n",
       "      <td>BRA</td>\n",
       "      <td>0.5</td>\n",
       "      <td>0,5</td>\n",
       "      <td>F</td>\n",
       "      <td>17.0</td>\n",
       "      <td>TÉC</td>\n",
       "      <td>GT</td>\n",
       "      <td>SUB</td>\n",
       "      <td>P</td>\n",
       "      <td>VES</td>\n",
       "      <td>TÉC-GT-SUB</td>\n",
       "      <td>GT-P</td>\n",
       "      <td>GT-VES</td>\n",
       "      <td>2017</td>\n",
       "      <td>0</td>\n",
       "    </tr>\n",
       "    <tr>\n",
       "      <th>3</th>\n",
       "      <td>BRA</td>\n",
       "      <td>0.5</td>\n",
       "      <td>0,5</td>\n",
       "      <td>F</td>\n",
       "      <td>17.0</td>\n",
       "      <td>TÉC</td>\n",
       "      <td>SJ</td>\n",
       "      <td>SUB</td>\n",
       "      <td>P</td>\n",
       "      <td>VES</td>\n",
       "      <td>TÉC-SJ-SUB</td>\n",
       "      <td>SJ-P</td>\n",
       "      <td>SJ-VES</td>\n",
       "      <td>2017</td>\n",
       "      <td>0</td>\n",
       "    </tr>\n",
       "    <tr>\n",
       "      <th>4</th>\n",
       "      <td>BRA</td>\n",
       "      <td>0.5</td>\n",
       "      <td>0,5</td>\n",
       "      <td>F</td>\n",
       "      <td>17.0</td>\n",
       "      <td>TÉC</td>\n",
       "      <td>SJ</td>\n",
       "      <td>SUB</td>\n",
       "      <td>P</td>\n",
       "      <td>VES</td>\n",
       "      <td>TÉC-SJ-SUB</td>\n",
       "      <td>SJ-P</td>\n",
       "      <td>SJ-VES</td>\n",
       "      <td>2017</td>\n",
       "      <td>0</td>\n",
       "    </tr>\n",
       "    <tr>\n",
       "      <th>...</th>\n",
       "      <td>...</td>\n",
       "      <td>...</td>\n",
       "      <td>...</td>\n",
       "      <td>...</td>\n",
       "      <td>...</td>\n",
       "      <td>...</td>\n",
       "      <td>...</td>\n",
       "      <td>...</td>\n",
       "      <td>...</td>\n",
       "      <td>...</td>\n",
       "      <td>...</td>\n",
       "      <td>...</td>\n",
       "      <td>...</td>\n",
       "      <td>...</td>\n",
       "      <td>...</td>\n",
       "    </tr>\n",
       "    <tr>\n",
       "      <th>95</th>\n",
       "      <td>BRA</td>\n",
       "      <td>NaN</td>\n",
       "      <td>ND</td>\n",
       "      <td>M</td>\n",
       "      <td>27.0</td>\n",
       "      <td>TÉC</td>\n",
       "      <td>SJ</td>\n",
       "      <td>SUB</td>\n",
       "      <td>P</td>\n",
       "      <td>NOT</td>\n",
       "      <td>TÉC-SJ-SUB</td>\n",
       "      <td>SJ-P</td>\n",
       "      <td>SJ-NOT</td>\n",
       "      <td>2017</td>\n",
       "      <td>1</td>\n",
       "    </tr>\n",
       "    <tr>\n",
       "      <th>96</th>\n",
       "      <td>BRA</td>\n",
       "      <td>NaN</td>\n",
       "      <td>ND</td>\n",
       "      <td>M</td>\n",
       "      <td>27.0</td>\n",
       "      <td>TÉC</td>\n",
       "      <td>SJ</td>\n",
       "      <td>SUB</td>\n",
       "      <td>P</td>\n",
       "      <td>NOT</td>\n",
       "      <td>TÉC-SJ-SUB</td>\n",
       "      <td>SJ-P</td>\n",
       "      <td>SJ-NOT</td>\n",
       "      <td>2017</td>\n",
       "      <td>1</td>\n",
       "    </tr>\n",
       "    <tr>\n",
       "      <th>97</th>\n",
       "      <td>BRA</td>\n",
       "      <td>NaN</td>\n",
       "      <td>ND</td>\n",
       "      <td>M</td>\n",
       "      <td>27.0</td>\n",
       "      <td>TÉC</td>\n",
       "      <td>TA</td>\n",
       "      <td>SUB</td>\n",
       "      <td>P</td>\n",
       "      <td>NOT</td>\n",
       "      <td>TÉC-TA-SUB</td>\n",
       "      <td>TA-P</td>\n",
       "      <td>TA-NOT</td>\n",
       "      <td>2017</td>\n",
       "      <td>1</td>\n",
       "    </tr>\n",
       "    <tr>\n",
       "      <th>98</th>\n",
       "      <td>BRA</td>\n",
       "      <td>NaN</td>\n",
       "      <td>ND</td>\n",
       "      <td>M</td>\n",
       "      <td>27.0</td>\n",
       "      <td>TÉC</td>\n",
       "      <td>TA</td>\n",
       "      <td>SUB</td>\n",
       "      <td>P</td>\n",
       "      <td>NOT</td>\n",
       "      <td>TÉC-TA-SUB</td>\n",
       "      <td>TA-P</td>\n",
       "      <td>TA-NOT</td>\n",
       "      <td>2017</td>\n",
       "      <td>1</td>\n",
       "    </tr>\n",
       "    <tr>\n",
       "      <th>99</th>\n",
       "      <td>BRA</td>\n",
       "      <td>NaN</td>\n",
       "      <td>ND</td>\n",
       "      <td>M</td>\n",
       "      <td>27.0</td>\n",
       "      <td>TÉC</td>\n",
       "      <td>TA</td>\n",
       "      <td>SUB</td>\n",
       "      <td>P</td>\n",
       "      <td>NOT</td>\n",
       "      <td>TÉC-TA-SUB</td>\n",
       "      <td>TA-P</td>\n",
       "      <td>TA-NOT</td>\n",
       "      <td>2017</td>\n",
       "      <td>1</td>\n",
       "    </tr>\n",
       "  </tbody>\n",
       "</table>\n",
       "<p>100 rows × 15 columns</p>\n",
       "</div>"
      ],
      "text/plain": [
       "     CR   RF RF-CAT SEXO  IDA-MÉD   TC   NC   TO ME TURNO     TC-NC-TO  NC-ME  \\\n",
       "0   AMA  NaN     ND    M     47.0  TÉC  PES  SUB  P   VES  TÉC-PES-SUB  PES-P   \n",
       "1   BRA  0.5    0,5    F     17.0  FIC  MFC  CON  P   NOT  FIC-MFC-CON  MFC-P   \n",
       "2   BRA  0.5    0,5    F     17.0  TÉC   GT  SUB  P   VES   TÉC-GT-SUB   GT-P   \n",
       "3   BRA  0.5    0,5    F     17.0  TÉC   SJ  SUB  P   VES   TÉC-SJ-SUB   SJ-P   \n",
       "4   BRA  0.5    0,5    F     17.0  TÉC   SJ  SUB  P   VES   TÉC-SJ-SUB   SJ-P   \n",
       "..  ...  ...    ...  ...      ...  ...  ...  ... ..   ...          ...    ...   \n",
       "95  BRA  NaN     ND    M     27.0  TÉC   SJ  SUB  P   NOT   TÉC-SJ-SUB   SJ-P   \n",
       "96  BRA  NaN     ND    M     27.0  TÉC   SJ  SUB  P   NOT   TÉC-SJ-SUB   SJ-P   \n",
       "97  BRA  NaN     ND    M     27.0  TÉC   TA  SUB  P   NOT   TÉC-TA-SUB   TA-P   \n",
       "98  BRA  NaN     ND    M     27.0  TÉC   TA  SUB  P   NOT   TÉC-TA-SUB   TA-P   \n",
       "99  BRA  NaN     ND    M     27.0  TÉC   TA  SUB  P   NOT   TÉC-TA-SUB   TA-P   \n",
       "\n",
       "   NC-TURNO   ANO  AE  \n",
       "0   PES-VES  2017   1  \n",
       "1   MFC-NOT  2017   0  \n",
       "2    GT-VES  2017   0  \n",
       "3    SJ-VES  2017   0  \n",
       "4    SJ-VES  2017   0  \n",
       "..      ...   ...  ..  \n",
       "95   SJ-NOT  2017   1  \n",
       "96   SJ-NOT  2017   1  \n",
       "97   TA-NOT  2017   1  \n",
       "98   TA-NOT  2017   1  \n",
       "99   TA-NOT  2017   1  \n",
       "\n",
       "[100 rows x 15 columns]"
      ]
     },
     "execution_count": 3,
     "metadata": {},
     "output_type": "execute_result"
    }
   ],
   "source": [
    "# Transformações necessárias para a exploração\n",
    "# Converte True para 1 e False para 0\n",
    "df['AE'] = df['AE'].map({\"SIM\":1,\"NÃO\":0})\n",
    "df.head(100)"
   ]
  },
  {
   "cell_type": "code",
   "execution_count": 4,
   "metadata": {
    "colab": {
     "base_uri": "https://localhost:8080/",
     "height": 554
    },
    "executionInfo": {
     "elapsed": 320,
     "status": "ok",
     "timestamp": 1739889896654,
     "user": {
      "displayName": "José Thiago Holanda de Alcantara Cabral",
      "userId": "00082515726505027266"
     },
     "user_tz": 180
    },
    "id": "TCZx3WFyPjjb",
    "outputId": "ffcdc2a6-5987-47f6-f1b5-7253fbce7c1d"
   },
   "outputs": [
    {
     "data": {
      "text/plain": [
       "CR           object\n",
       "RF          float64\n",
       "RF-CAT       object\n",
       "SEXO         object\n",
       "IDA-MÉD     float64\n",
       "TC           object\n",
       "NC           object\n",
       "TO           object\n",
       "ME           object\n",
       "TURNO        object\n",
       "TC-NC-TO     object\n",
       "NC-ME        object\n",
       "NC-TURNO     object\n",
       "ANO           int64\n",
       "AE            int64\n",
       "dtype: object"
      ]
     },
     "execution_count": 4,
     "metadata": {},
     "output_type": "execute_result"
    }
   ],
   "source": [
    "df.dtypes"
   ]
  },
  {
   "cell_type": "code",
   "execution_count": 5,
   "metadata": {
    "executionInfo": {
     "elapsed": 1090,
     "status": "ok",
     "timestamp": 1739889941755,
     "user": {
      "displayName": "José Thiago Holanda de Alcantara Cabral",
      "userId": "00082515726505027266"
     },
     "user_tz": 180
    },
    "id": "RY9caXcoP3_a"
   },
   "outputs": [],
   "source": [
    "# Colunas selecionadas para treinar os modelos, algumas ficaram de fora porque eram ambíguas com outra variável ou não faziam sentido no modelo\n",
    "colunas_selecionadas = ['RF-CAT','SEXO','IDA-MÉD','TC','NC','TO','ME','TURNO','ANO','AE']\n",
    "df_col_sel = df[colunas_selecionadas]"
   ]
  },
  {
   "cell_type": "code",
   "execution_count": 6,
   "metadata": {
    "colab": {
     "base_uri": "https://localhost:8080/",
     "height": 397
    },
    "executionInfo": {
     "elapsed": 986,
     "status": "ok",
     "timestamp": 1739889945414,
     "user": {
      "displayName": "José Thiago Holanda de Alcantara Cabral",
      "userId": "00082515726505027266"
     },
     "user_tz": 180
    },
    "id": "au4wMAl9QXFa",
    "outputId": "ddfe85f6-be37-40a4-87d1-1d56b0cb7107"
   },
   "outputs": [
    {
     "data": {
      "text/plain": [
       "RF-CAT      object\n",
       "SEXO        object\n",
       "IDA-MÉD    float64\n",
       "TC          object\n",
       "NC          object\n",
       "TO          object\n",
       "ME          object\n",
       "TURNO       object\n",
       "ANO          int64\n",
       "AE           int64\n",
       "dtype: object"
      ]
     },
     "execution_count": 6,
     "metadata": {},
     "output_type": "execute_result"
    }
   ],
   "source": [
    "df_col_sel.dtypes"
   ]
  },
  {
   "cell_type": "code",
   "execution_count": 7,
   "metadata": {
    "colab": {
     "base_uri": "https://localhost:8080/",
     "height": 17
    },
    "executionInfo": {
     "elapsed": 313,
     "status": "ok",
     "timestamp": 1739889948470,
     "user": {
      "displayName": "José Thiago Holanda de Alcantara Cabral",
      "userId": "00082515726505027266"
     },
     "user_tz": 180
    },
    "id": "GVx-OEmqVDrC",
    "outputId": "b08d2fb3-6cd1-4dd3-8bdf-4a7bb75dbc53"
   },
   "outputs": [],
   "source": [
    "# gerar e salvar o arquivo csv, os valores categóricos per\n",
    "\n",
    "df_col_sel.to_csv('../data/selected_data_01.csv', index=False)\n",
    "# files.download('selected_data.csv')"
   ]
  },
  {
   "cell_type": "code",
   "execution_count": 8,
   "metadata": {
    "colab": {
     "base_uri": "https://localhost:8080/",
     "height": 206
    },
    "executionInfo": {
     "elapsed": 300,
     "status": "ok",
     "timestamp": 1739887288053,
     "user": {
      "displayName": "José Thiago Holanda de Alcantara Cabral",
      "userId": "00082515726505027266"
     },
     "user_tz": 180
    },
    "id": "0tY8j0W0Teqj",
    "outputId": "fc9065c3-6293-4133-c1f7-b9a5584438b8"
   },
   "outputs": [
    {
     "data": {
      "text/html": [
       "<div>\n",
       "<style scoped>\n",
       "    .dataframe tbody tr th:only-of-type {\n",
       "        vertical-align: middle;\n",
       "    }\n",
       "\n",
       "    .dataframe tbody tr th {\n",
       "        vertical-align: top;\n",
       "    }\n",
       "\n",
       "    .dataframe thead th {\n",
       "        text-align: right;\n",
       "    }\n",
       "</style>\n",
       "<table border=\"1\" class=\"dataframe\">\n",
       "  <thead>\n",
       "    <tr style=\"text-align: right;\">\n",
       "      <th></th>\n",
       "      <th>RF-CAT</th>\n",
       "      <th>SEXO</th>\n",
       "      <th>IDA-MÉD</th>\n",
       "      <th>TC</th>\n",
       "      <th>NC</th>\n",
       "      <th>TO</th>\n",
       "      <th>ME</th>\n",
       "      <th>TURNO</th>\n",
       "      <th>ANO</th>\n",
       "      <th>AE</th>\n",
       "    </tr>\n",
       "  </thead>\n",
       "  <tbody>\n",
       "    <tr>\n",
       "      <th>0</th>\n",
       "      <td>ND</td>\n",
       "      <td>M</td>\n",
       "      <td>47.0</td>\n",
       "      <td>TÉC</td>\n",
       "      <td>PES</td>\n",
       "      <td>SUB</td>\n",
       "      <td>P</td>\n",
       "      <td>VES</td>\n",
       "      <td>2017</td>\n",
       "      <td>1</td>\n",
       "    </tr>\n",
       "    <tr>\n",
       "      <th>1</th>\n",
       "      <td>0,5</td>\n",
       "      <td>F</td>\n",
       "      <td>17.0</td>\n",
       "      <td>FIC</td>\n",
       "      <td>MFC</td>\n",
       "      <td>CON</td>\n",
       "      <td>P</td>\n",
       "      <td>NOT</td>\n",
       "      <td>2017</td>\n",
       "      <td>0</td>\n",
       "    </tr>\n",
       "    <tr>\n",
       "      <th>2</th>\n",
       "      <td>0,5</td>\n",
       "      <td>F</td>\n",
       "      <td>17.0</td>\n",
       "      <td>TÉC</td>\n",
       "      <td>GT</td>\n",
       "      <td>SUB</td>\n",
       "      <td>P</td>\n",
       "      <td>VES</td>\n",
       "      <td>2017</td>\n",
       "      <td>0</td>\n",
       "    </tr>\n",
       "    <tr>\n",
       "      <th>3</th>\n",
       "      <td>0,5</td>\n",
       "      <td>F</td>\n",
       "      <td>17.0</td>\n",
       "      <td>TÉC</td>\n",
       "      <td>SJ</td>\n",
       "      <td>SUB</td>\n",
       "      <td>P</td>\n",
       "      <td>VES</td>\n",
       "      <td>2017</td>\n",
       "      <td>0</td>\n",
       "    </tr>\n",
       "    <tr>\n",
       "      <th>4</th>\n",
       "      <td>0,5</td>\n",
       "      <td>F</td>\n",
       "      <td>17.0</td>\n",
       "      <td>TÉC</td>\n",
       "      <td>SJ</td>\n",
       "      <td>SUB</td>\n",
       "      <td>P</td>\n",
       "      <td>VES</td>\n",
       "      <td>2017</td>\n",
       "      <td>0</td>\n",
       "    </tr>\n",
       "  </tbody>\n",
       "</table>\n",
       "</div>"
      ],
      "text/plain": [
       "  RF-CAT SEXO  IDA-MÉD   TC   NC   TO ME TURNO   ANO  AE\n",
       "0     ND    M     47.0  TÉC  PES  SUB  P   VES  2017   1\n",
       "1    0,5    F     17.0  FIC  MFC  CON  P   NOT  2017   0\n",
       "2    0,5    F     17.0  TÉC   GT  SUB  P   VES  2017   0\n",
       "3    0,5    F     17.0  TÉC   SJ  SUB  P   VES  2017   0\n",
       "4    0,5    F     17.0  TÉC   SJ  SUB  P   VES  2017   0"
      ]
     },
     "execution_count": 8,
     "metadata": {},
     "output_type": "execute_result"
    }
   ],
   "source": [
    "df_col_sel.head(5)"
   ]
  },
  {
   "cell_type": "code",
   "execution_count": 9,
   "metadata": {
    "colab": {
     "base_uri": "https://localhost:8080/"
    },
    "executionInfo": {
     "elapsed": 321,
     "status": "ok",
     "timestamp": 1739887348867,
     "user": {
      "displayName": "José Thiago Holanda de Alcantara Cabral",
      "userId": "00082515726505027266"
     },
     "user_tz": 180
    },
    "id": "k9kHRfpeS9-i",
    "outputId": "6b82cd54-2d8c-4665-9744-9ffa402a8674"
   },
   "outputs": [
    {
     "name": "stdout",
     "output_type": "stream",
     "text": [
      "      IDA-MÉD   ANO  AE  RF-CAT_1  RF-CAT_1,5  RF-CAT_2,5  RF-CAT_3,5  \\\n",
      "0        47.0  2017   1         0           0           0           0   \n",
      "1        17.0  2017   0         0           0           0           0   \n",
      "2        17.0  2017   0         0           0           0           0   \n",
      "3        17.0  2017   0         0           0           0           0   \n",
      "4        17.0  2017   0         0           0           0           0   \n",
      "...       ...   ...  ..       ...         ...         ...         ...   \n",
      "5714     27.0  2023   1         1           0           0           0   \n",
      "5715     42.0  2023   0         0           0           0           1   \n",
      "5716     42.0  2023   1         0           0           0           1   \n",
      "5717     37.0  2023   1         0           0           0           0   \n",
      "5718     37.0  2023   1         1           0           0           0   \n",
      "\n",
      "      RF-CAT_5  RF-CAT_ND  SEXO_M  ...  TO_INT  TO_NSA  TO_PROINT  TO_PROSUB  \\\n",
      "0            0          1       1  ...       0       0          0          0   \n",
      "1            0          0       0  ...       0       0          0          0   \n",
      "2            0          0       0  ...       0       0          0          0   \n",
      "3            0          0       0  ...       0       0          0          0   \n",
      "4            0          0       0  ...       0       0          0          0   \n",
      "...        ...        ...     ...  ...     ...     ...        ...        ...   \n",
      "5714         0          0       0  ...       0       0          0          0   \n",
      "5715         0          0       0  ...       0       0          0          1   \n",
      "5716         0          0       0  ...       0       0          0          1   \n",
      "5717         0          1       0  ...       0       0          0          1   \n",
      "5718         0          0       0  ...       0       0          0          0   \n",
      "\n",
      "      TO_SUB  ME_P  TURNO_MAT  TURNO_NOT  TURNO_NSA  TURNO_VES  \n",
      "0          1     1          0          0          0          1  \n",
      "1          0     1          0          1          0          0  \n",
      "2          1     1          0          0          0          1  \n",
      "3          1     1          0          0          0          1  \n",
      "4          1     1          0          0          0          1  \n",
      "...      ...   ...        ...        ...        ...        ...  \n",
      "5714       1     0          0          0          1          0  \n",
      "5715       0     0          0          0          1          0  \n",
      "5716       0     0          0          0          1          0  \n",
      "5717       0     0          0          0          1          0  \n",
      "5718       1     0          0          0          1          0  \n",
      "\n",
      "[5719 rows x 48 columns]\n"
     ]
    }
   ],
   "source": [
    "df_dummies = pd.get_dummies(df_col_sel, columns=['RF-CAT','SEXO', 'TC', 'NC', 'TO', 'ME','TURNO'], drop_first=True, dtype=int)\n",
    "print(df_dummies)"
   ]
  },
  {
   "cell_type": "code",
   "execution_count": 10,
   "metadata": {
    "colab": {
     "base_uri": "https://localhost:8080/",
     "height": 253
    },
    "executionInfo": {
     "elapsed": 325,
     "status": "ok",
     "timestamp": 1739887360333,
     "user": {
      "displayName": "José Thiago Holanda de Alcantara Cabral",
      "userId": "00082515726505027266"
     },
     "user_tz": 180
    },
    "id": "1RB2ZCfBVbkZ",
    "outputId": "96d5f61b-4224-4063-eb5f-a0d2927691ab"
   },
   "outputs": [
    {
     "data": {
      "text/html": [
       "<div>\n",
       "<style scoped>\n",
       "    .dataframe tbody tr th:only-of-type {\n",
       "        vertical-align: middle;\n",
       "    }\n",
       "\n",
       "    .dataframe tbody tr th {\n",
       "        vertical-align: top;\n",
       "    }\n",
       "\n",
       "    .dataframe thead th {\n",
       "        text-align: right;\n",
       "    }\n",
       "</style>\n",
       "<table border=\"1\" class=\"dataframe\">\n",
       "  <thead>\n",
       "    <tr style=\"text-align: right;\">\n",
       "      <th></th>\n",
       "      <th>IDA-MÉD</th>\n",
       "      <th>ANO</th>\n",
       "      <th>AE</th>\n",
       "      <th>RF-CAT_1</th>\n",
       "      <th>RF-CAT_1,5</th>\n",
       "      <th>RF-CAT_2,5</th>\n",
       "      <th>RF-CAT_3,5</th>\n",
       "      <th>RF-CAT_5</th>\n",
       "      <th>RF-CAT_ND</th>\n",
       "      <th>SEXO_M</th>\n",
       "      <th>...</th>\n",
       "      <th>TO_INT</th>\n",
       "      <th>TO_NSA</th>\n",
       "      <th>TO_PROINT</th>\n",
       "      <th>TO_PROSUB</th>\n",
       "      <th>TO_SUB</th>\n",
       "      <th>ME_P</th>\n",
       "      <th>TURNO_MAT</th>\n",
       "      <th>TURNO_NOT</th>\n",
       "      <th>TURNO_NSA</th>\n",
       "      <th>TURNO_VES</th>\n",
       "    </tr>\n",
       "  </thead>\n",
       "  <tbody>\n",
       "    <tr>\n",
       "      <th>0</th>\n",
       "      <td>47.0</td>\n",
       "      <td>2017</td>\n",
       "      <td>1</td>\n",
       "      <td>0</td>\n",
       "      <td>0</td>\n",
       "      <td>0</td>\n",
       "      <td>0</td>\n",
       "      <td>0</td>\n",
       "      <td>1</td>\n",
       "      <td>1</td>\n",
       "      <td>...</td>\n",
       "      <td>0</td>\n",
       "      <td>0</td>\n",
       "      <td>0</td>\n",
       "      <td>0</td>\n",
       "      <td>1</td>\n",
       "      <td>1</td>\n",
       "      <td>0</td>\n",
       "      <td>0</td>\n",
       "      <td>0</td>\n",
       "      <td>1</td>\n",
       "    </tr>\n",
       "    <tr>\n",
       "      <th>1</th>\n",
       "      <td>17.0</td>\n",
       "      <td>2017</td>\n",
       "      <td>0</td>\n",
       "      <td>0</td>\n",
       "      <td>0</td>\n",
       "      <td>0</td>\n",
       "      <td>0</td>\n",
       "      <td>0</td>\n",
       "      <td>0</td>\n",
       "      <td>0</td>\n",
       "      <td>...</td>\n",
       "      <td>0</td>\n",
       "      <td>0</td>\n",
       "      <td>0</td>\n",
       "      <td>0</td>\n",
       "      <td>0</td>\n",
       "      <td>1</td>\n",
       "      <td>0</td>\n",
       "      <td>1</td>\n",
       "      <td>0</td>\n",
       "      <td>0</td>\n",
       "    </tr>\n",
       "    <tr>\n",
       "      <th>2</th>\n",
       "      <td>17.0</td>\n",
       "      <td>2017</td>\n",
       "      <td>0</td>\n",
       "      <td>0</td>\n",
       "      <td>0</td>\n",
       "      <td>0</td>\n",
       "      <td>0</td>\n",
       "      <td>0</td>\n",
       "      <td>0</td>\n",
       "      <td>0</td>\n",
       "      <td>...</td>\n",
       "      <td>0</td>\n",
       "      <td>0</td>\n",
       "      <td>0</td>\n",
       "      <td>0</td>\n",
       "      <td>1</td>\n",
       "      <td>1</td>\n",
       "      <td>0</td>\n",
       "      <td>0</td>\n",
       "      <td>0</td>\n",
       "      <td>1</td>\n",
       "    </tr>\n",
       "    <tr>\n",
       "      <th>3</th>\n",
       "      <td>17.0</td>\n",
       "      <td>2017</td>\n",
       "      <td>0</td>\n",
       "      <td>0</td>\n",
       "      <td>0</td>\n",
       "      <td>0</td>\n",
       "      <td>0</td>\n",
       "      <td>0</td>\n",
       "      <td>0</td>\n",
       "      <td>0</td>\n",
       "      <td>...</td>\n",
       "      <td>0</td>\n",
       "      <td>0</td>\n",
       "      <td>0</td>\n",
       "      <td>0</td>\n",
       "      <td>1</td>\n",
       "      <td>1</td>\n",
       "      <td>0</td>\n",
       "      <td>0</td>\n",
       "      <td>0</td>\n",
       "      <td>1</td>\n",
       "    </tr>\n",
       "    <tr>\n",
       "      <th>4</th>\n",
       "      <td>17.0</td>\n",
       "      <td>2017</td>\n",
       "      <td>0</td>\n",
       "      <td>0</td>\n",
       "      <td>0</td>\n",
       "      <td>0</td>\n",
       "      <td>0</td>\n",
       "      <td>0</td>\n",
       "      <td>0</td>\n",
       "      <td>0</td>\n",
       "      <td>...</td>\n",
       "      <td>0</td>\n",
       "      <td>0</td>\n",
       "      <td>0</td>\n",
       "      <td>0</td>\n",
       "      <td>1</td>\n",
       "      <td>1</td>\n",
       "      <td>0</td>\n",
       "      <td>0</td>\n",
       "      <td>0</td>\n",
       "      <td>1</td>\n",
       "    </tr>\n",
       "  </tbody>\n",
       "</table>\n",
       "<p>5 rows × 48 columns</p>\n",
       "</div>"
      ],
      "text/plain": [
       "   IDA-MÉD   ANO  AE  RF-CAT_1  RF-CAT_1,5  RF-CAT_2,5  RF-CAT_3,5  RF-CAT_5  \\\n",
       "0     47.0  2017   1         0           0           0           0         0   \n",
       "1     17.0  2017   0         0           0           0           0         0   \n",
       "2     17.0  2017   0         0           0           0           0         0   \n",
       "3     17.0  2017   0         0           0           0           0         0   \n",
       "4     17.0  2017   0         0           0           0           0         0   \n",
       "\n",
       "   RF-CAT_ND  SEXO_M  ...  TO_INT  TO_NSA  TO_PROINT  TO_PROSUB  TO_SUB  ME_P  \\\n",
       "0          1       1  ...       0       0          0          0       1     1   \n",
       "1          0       0  ...       0       0          0          0       0     1   \n",
       "2          0       0  ...       0       0          0          0       1     1   \n",
       "3          0       0  ...       0       0          0          0       1     1   \n",
       "4          0       0  ...       0       0          0          0       1     1   \n",
       "\n",
       "   TURNO_MAT  TURNO_NOT  TURNO_NSA  TURNO_VES  \n",
       "0          0          0          0          1  \n",
       "1          0          1          0          0  \n",
       "2          0          0          0          1  \n",
       "3          0          0          0          1  \n",
       "4          0          0          0          1  \n",
       "\n",
       "[5 rows x 48 columns]"
      ]
     },
     "execution_count": 10,
     "metadata": {},
     "output_type": "execute_result"
    }
   ],
   "source": [
    "df_dummies['IDA-MÉD'] = df['IDA-MÉD'].round(2)\n",
    "df_dummies.head(5)"
   ]
  },
  {
   "cell_type": "code",
   "execution_count": 11,
   "metadata": {
    "colab": {
     "base_uri": "https://localhost:8080/"
    },
    "executionInfo": {
     "elapsed": 294,
     "status": "ok",
     "timestamp": 1739887439042,
     "user": {
      "displayName": "José Thiago Holanda de Alcantara Cabral",
      "userId": "00082515726505027266"
     },
     "user_tz": 180
    },
    "id": "y0pLA2rBXkyi",
    "outputId": "8d2b66dc-b0c7-43c3-b76b-340a5017c752"
   },
   "outputs": [
    {
     "name": "stdout",
     "output_type": "stream",
     "text": [
      "   IDA-MÉD   ANO  RF-CAT_1  RF-CAT_1,5  RF-CAT_2,5  RF-CAT_3,5  RF-CAT_5  \\\n",
      "0     47.0  2017         0           0           0           0         0   \n",
      "1     17.0  2017         0           0           0           0         0   \n",
      "2     17.0  2017         0           0           0           0         0   \n",
      "3     17.0  2017         0           0           0           0         0   \n",
      "4     17.0  2017         0           0           0           0         0   \n",
      "\n",
      "   RF-CAT_ND  SEXO_M  TC_FIC  ...  TO_NSA  TO_PROINT  TO_PROSUB  TO_SUB  ME_P  \\\n",
      "0          1       1       0  ...       0          0          0       1     1   \n",
      "1          0       0       1  ...       0          0          0       0     1   \n",
      "2          0       0       0  ...       0          0          0       1     1   \n",
      "3          0       0       0  ...       0          0          0       1     1   \n",
      "4          0       0       0  ...       0          0          0       1     1   \n",
      "\n",
      "   TURNO_MAT  TURNO_NOT  TURNO_NSA  TURNO_VES  AE  \n",
      "0          0          0          0          1   1  \n",
      "1          0          1          0          0   0  \n",
      "2          0          0          0          1   0  \n",
      "3          0          0          0          1   0  \n",
      "4          0          0          0          1   0  \n",
      "\n",
      "[5 rows x 48 columns]\n"
     ]
    }
   ],
   "source": [
    "# Obter a lista de colunas\n",
    "colunas = list(df_dummies.columns)\n",
    "\n",
    "# Remover a coluna 'AE' da lista de colunas\n",
    "colunas.remove('AE')\n",
    "\n",
    "# Recolocar 'AE' no fim da lista\n",
    "colunas = colunas + ['AE']\n",
    "\n",
    "# Reorganizar o DataFrame com as colunas na nova ordem\n",
    "df_dummies = df_dummies[colunas]\n",
    "\n",
    "# Exibir o DataFrame com a coluna 'AE' movida para o início\n",
    "print(df_dummies.head())"
   ]
  },
  {
   "cell_type": "code",
   "execution_count": 12,
   "metadata": {
    "colab": {
     "base_uri": "https://localhost:8080/"
    },
    "executionInfo": {
     "elapsed": 289,
     "status": "ok",
     "timestamp": 1739887447436,
     "user": {
      "displayName": "José Thiago Holanda de Alcantara Cabral",
      "userId": "00082515726505027266"
     },
     "user_tz": 180
    },
    "id": "85HJD4ScYFVy",
    "outputId": "7f9a9f92-fe60-4596-cbe4-8e21f623f218"
   },
   "outputs": [
    {
     "name": "stdout",
     "output_type": "stream",
     "text": [
      "    ANO  IDA-MÉD  RF-CAT_1  RF-CAT_1,5  RF-CAT_2,5  RF-CAT_3,5  RF-CAT_5  \\\n",
      "0  2017     47.0         0           0           0           0         0   \n",
      "1  2017     17.0         0           0           0           0         0   \n",
      "2  2017     17.0         0           0           0           0         0   \n",
      "3  2017     17.0         0           0           0           0         0   \n",
      "4  2017     17.0         0           0           0           0         0   \n",
      "\n",
      "   RF-CAT_ND  SEXO_M  TC_FIC  ...  TO_NSA  TO_PROINT  TO_PROSUB  TO_SUB  ME_P  \\\n",
      "0          1       1       0  ...       0          0          0       1     1   \n",
      "1          0       0       1  ...       0          0          0       0     1   \n",
      "2          0       0       0  ...       0          0          0       1     1   \n",
      "3          0       0       0  ...       0          0          0       1     1   \n",
      "4          0       0       0  ...       0          0          0       1     1   \n",
      "\n",
      "   TURNO_MAT  TURNO_NOT  TURNO_NSA  TURNO_VES  AE  \n",
      "0          0          0          0          1   1  \n",
      "1          0          1          0          0   0  \n",
      "2          0          0          0          1   0  \n",
      "3          0          0          0          1   0  \n",
      "4          0          0          0          1   0  \n",
      "\n",
      "[5 rows x 48 columns]\n"
     ]
    }
   ],
   "source": [
    "# Obter a lista de colunas\n",
    "colunas = list(df_dummies.columns)\n",
    "\n",
    "# Remover a coluna 'AE' da lista de colunas\n",
    "colunas.remove('ANO')\n",
    "\n",
    "# Recolocar 'AE' no fim da lista\n",
    "colunas = ['ANO'] + colunas\n",
    "\n",
    "# Reorganizar o DataFrame com as colunas na nova ordem\n",
    "df_dummies = df_dummies[colunas]\n",
    "\n",
    "# Exibir o DataFrame com a coluna 'AE' movida para o início\n",
    "print(df_dummies.head())"
   ]
  },
  {
   "cell_type": "code",
   "execution_count": 13,
   "metadata": {
    "colab": {
     "base_uri": "https://localhost:8080/",
     "height": 17
    },
    "executionInfo": {
     "elapsed": 301,
     "status": "ok",
     "timestamp": 1739887472085,
     "user": {
      "displayName": "José Thiago Holanda de Alcantara Cabral",
      "userId": "00082515726505027266"
     },
     "user_tz": 180
    },
    "id": "h5uAutfVWUVL",
    "outputId": "86ff89f8-14cc-4654-ac24-7c9f98c7cc40"
   },
   "outputs": [],
   "source": [
    "# gerar e salvar o arquivo csv, os valores foram normalizados para o treinamento dos modelos\n",
    "\n",
    "df_dummies.to_csv('../data/dummies_data_01.csv', index=False)\n",
    "# files.download('dummies_data.csv')"
   ]
  }
 ],
 "metadata": {
  "colab": {
   "authorship_tag": "ABX9TyO1TgFjL+saaJSd92w/AI4O",
   "provenance": []
  },
  "kernelspec": {
   "display_name": ".venv",
   "language": "python",
   "name": "python3"
  },
  "language_info": {
   "codemirror_mode": {
    "name": "ipython",
    "version": 3
   },
   "file_extension": ".py",
   "mimetype": "text/x-python",
   "name": "python",
   "nbconvert_exporter": "python",
   "pygments_lexer": "ipython3",
   "version": "3.11.5"
  }
 },
 "nbformat": 4,
 "nbformat_minor": 0
}
